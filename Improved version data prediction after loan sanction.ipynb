{
 "cells": [
  {
   "cell_type": "code",
   "execution_count": 3,
   "metadata": {},
   "outputs": [],
   "source": [
    "import pandas as pd\n",
    "import numpy as np\n",
    "import matplotlib.pyplot as plt\n",
    "import seaborn as sns\n",
    "\n",
    "from sklearn.preprocessing import LabelEncoder\n",
    "from sklearn.preprocessing import StandardScaler\n",
    "\n",
    "from imblearn.over_sampling import SMOTE\n",
    "\n",
    "from sklearn.model_selection import train_test_split\n",
    "from sklearn.model_selection import cross_val_score\n",
    "from sklearn.model_selection import KFold\n",
    "from sklearn.model_selection import GridSearchCV\n",
    "\n",
    "from sklearn.feature_selection import SelectFromModel\n",
    "\n",
    "from statsmodels.stats.outliers_influence import variance_inflation_factor\n",
    "\n",
    "from sklearn.linear_model import LogisticRegression ,Lasso\n",
    "from sklearn.ensemble import RandomForestClassifier\n",
    "from sklearn.tree import DecisionTreeClassifier\n",
    "\n",
    "from sklearn.metrics import confusion_matrix,classification_report\n",
    "from sklearn.metrics import recall_score , accuracy_score ,precision_score,f1_score,roc_auc_score\n"
   ]
  },
  {
   "cell_type": "code",
   "execution_count": 4,
   "metadata": {},
   "outputs": [],
   "source": [
    "data=pd.read_csv('cleaned_loanData.csv',parse_dates=['issue_d','earliest_cr_line','last_pymnt_d','last_credit_pull_d','next_pymnt_d'])"
   ]
  },
  {
   "cell_type": "code",
   "execution_count": 5,
   "metadata": {},
   "outputs": [],
   "source": [
    "dataloan=data.copy()"
   ]
  },
  {
   "cell_type": "code",
   "execution_count": 6,
   "metadata": {},
   "outputs": [
    {
     "data": {
      "text/plain": [
       "Index(['Unnamed: 0', 'loan_amnt', 'funded_amnt', 'funded_amnt_inv', 'term',\n",
       "       'int_rate', 'installment', 'grade', 'sub_grade', 'emp_length',\n",
       "       'home_ownership', 'annual_inc', 'verification_status', 'issue_d',\n",
       "       'loan_status', 'purpose', 'addr_state', 'dti', 'delinq_2yrs',\n",
       "       'earliest_cr_line', 'inq_last_6mths', 'mths_since_last_delinq',\n",
       "       'open_acc', 'pub_rec', 'revol_bal', 'revol_util', 'total_acc',\n",
       "       'initial_list_status', 'total_pymnt', 'total_pymnt_inv',\n",
       "       'total_rec_prncp', 'total_rec_int', 'total_rec_late_fee', 'recoveries',\n",
       "       'collection_recovery_fee', 'last_pymnt_d', 'last_pymnt_amnt',\n",
       "       'next_pymnt_d', 'last_credit_pull_d', 'collections_12_mths_ex_med',\n",
       "       'issue_month', 'issue_year'],\n",
       "      dtype='object')"
      ]
     },
     "execution_count": 6,
     "metadata": {},
     "output_type": "execute_result"
    }
   ],
   "source": [
    "data.columns"
   ]
  },
  {
   "cell_type": "code",
   "execution_count": 7,
   "metadata": {},
   "outputs": [],
   "source": [
    "data.drop(['next_pymnt_d','last_pymnt_d','mths_since_last_delinq','last_credit_pull_d','Unnamed: 0',\n",
    "           'earliest_cr_line','issue_d','addr_state','issue_month','issue_year'],axis=1,inplace=True)"
   ]
  },
  {
   "cell_type": "code",
   "execution_count": 8,
   "metadata": {},
   "outputs": [],
   "source": [
    "data['revol_util'].fillna(data.revol_util.median(),inplace=True)"
   ]
  },
  {
   "cell_type": "code",
   "execution_count": 9,
   "metadata": {},
   "outputs": [],
   "source": [
    "data['delinq_2yrs']=np.where(data['delinq_2yrs']>0,'Y','N')"
   ]
  },
  {
   "cell_type": "code",
   "execution_count": 10,
   "metadata": {},
   "outputs": [],
   "source": [
    "data['inq_last_6mths']=np.where(data['inq_last_6mths']>0,'Y','N')"
   ]
  },
  {
   "cell_type": "markdown",
   "metadata": {},
   "source": [
    "## Checking cooraleation and removing the columns which are high correlated "
   ]
  },
  {
   "cell_type": "code",
   "execution_count": null,
   "metadata": {},
   "outputs": [],
   "source": [
    "## Removed the correlated feature as done in previous notebook "
   ]
  },
  {
   "cell_type": "code",
   "execution_count": 11,
   "metadata": {},
   "outputs": [],
   "source": [
    "data.drop(['funded_amnt','funded_amnt_inv'],axis=1, inplace=True)"
   ]
  },
  {
   "cell_type": "code",
   "execution_count": 16,
   "metadata": {},
   "outputs": [],
   "source": [
    "data.drop(['total_pymnt'],axis=1,inplace=True)"
   ]
  },
  {
   "cell_type": "code",
   "execution_count": 17,
   "metadata": {},
   "outputs": [],
   "source": [
    "data.drop(['total_pymnt_inv'],axis=1,inplace=True)"
   ]
  },
  {
   "cell_type": "code",
   "execution_count": 18,
   "metadata": {},
   "outputs": [],
   "source": [
    "data.drop(['total_rec_prncp'],axis=1,inplace=True)"
   ]
  },
  {
   "cell_type": "code",
   "execution_count": 19,
   "metadata": {},
   "outputs": [],
   "source": [
    "data.drop(['installment'],axis=1,inplace=True)"
   ]
  },
  {
   "cell_type": "code",
   "execution_count": 25,
   "metadata": {},
   "outputs": [],
   "source": [
    "data.drop('total_acc',axis=1,inplace=True)"
   ]
  },
  {
   "cell_type": "code",
   "execution_count": 20,
   "metadata": {},
   "outputs": [
    {
     "data": {
      "text/html": [
       "<div>\n",
       "<style scoped>\n",
       "    .dataframe tbody tr th:only-of-type {\n",
       "        vertical-align: middle;\n",
       "    }\n",
       "\n",
       "    .dataframe tbody tr th {\n",
       "        vertical-align: top;\n",
       "    }\n",
       "\n",
       "    .dataframe thead th {\n",
       "        text-align: right;\n",
       "    }\n",
       "</style>\n",
       "<table border=\"1\" class=\"dataframe\">\n",
       "  <thead>\n",
       "    <tr style=\"text-align: right;\">\n",
       "      <th></th>\n",
       "      <th>loan_amnt</th>\n",
       "      <th>int_rate</th>\n",
       "      <th>emp_length</th>\n",
       "      <th>annual_inc</th>\n",
       "      <th>dti</th>\n",
       "      <th>open_acc</th>\n",
       "      <th>pub_rec</th>\n",
       "      <th>revol_bal</th>\n",
       "      <th>revol_util</th>\n",
       "      <th>total_acc</th>\n",
       "      <th>total_rec_int</th>\n",
       "      <th>total_rec_late_fee</th>\n",
       "      <th>recoveries</th>\n",
       "      <th>collection_recovery_fee</th>\n",
       "      <th>last_pymnt_amnt</th>\n",
       "      <th>collections_12_mths_ex_med</th>\n",
       "    </tr>\n",
       "  </thead>\n",
       "  <tbody>\n",
       "    <tr>\n",
       "      <th>loan_amnt</th>\n",
       "      <td>1.000000</td>\n",
       "      <td>0.210969</td>\n",
       "      <td>0.114397</td>\n",
       "      <td>0.334379</td>\n",
       "      <td>0.052366</td>\n",
       "      <td>0.202179</td>\n",
       "      <td>-0.075560</td>\n",
       "      <td>0.333837</td>\n",
       "      <td>0.101161</td>\n",
       "      <td>0.232416</td>\n",
       "      <td>0.637916</td>\n",
       "      <td>0.047983</td>\n",
       "      <td>0.177240</td>\n",
       "      <td>0.127346</td>\n",
       "      <td>0.581438</td>\n",
       "      <td>-0.002357</td>\n",
       "    </tr>\n",
       "    <tr>\n",
       "      <th>int_rate</th>\n",
       "      <td>0.210969</td>\n",
       "      <td>1.000000</td>\n",
       "      <td>0.030092</td>\n",
       "      <td>-0.025994</td>\n",
       "      <td>0.172110</td>\n",
       "      <td>0.039259</td>\n",
       "      <td>0.082972</td>\n",
       "      <td>0.021488</td>\n",
       "      <td>0.342687</td>\n",
       "      <td>-0.010934</td>\n",
       "      <td>0.402950</td>\n",
       "      <td>0.055859</td>\n",
       "      <td>0.177920</td>\n",
       "      <td>0.117752</td>\n",
       "      <td>0.122859</td>\n",
       "      <td>0.028126</td>\n",
       "    </tr>\n",
       "    <tr>\n",
       "      <th>emp_length</th>\n",
       "      <td>0.114397</td>\n",
       "      <td>0.030092</td>\n",
       "      <td>1.000000</td>\n",
       "      <td>0.073045</td>\n",
       "      <td>0.050249</td>\n",
       "      <td>0.051278</td>\n",
       "      <td>0.047003</td>\n",
       "      <td>0.096758</td>\n",
       "      <td>0.043961</td>\n",
       "      <td>0.135960</td>\n",
       "      <td>0.069893</td>\n",
       "      <td>-0.009207</td>\n",
       "      <td>0.019099</td>\n",
       "      <td>0.013853</td>\n",
       "      <td>0.099449</td>\n",
       "      <td>0.003768</td>\n",
       "    </tr>\n",
       "    <tr>\n",
       "      <th>annual_inc</th>\n",
       "      <td>0.334379</td>\n",
       "      <td>-0.025994</td>\n",
       "      <td>0.073045</td>\n",
       "      <td>1.000000</td>\n",
       "      <td>-0.171535</td>\n",
       "      <td>0.140010</td>\n",
       "      <td>-0.018656</td>\n",
       "      <td>0.303778</td>\n",
       "      <td>0.024016</td>\n",
       "      <td>0.205707</td>\n",
       "      <td>0.175753</td>\n",
       "      <td>0.010704</td>\n",
       "      <td>0.024730</td>\n",
       "      <td>0.020136</td>\n",
       "      <td>0.231306</td>\n",
       "      <td>0.004007</td>\n",
       "    </tr>\n",
       "    <tr>\n",
       "      <th>dti</th>\n",
       "      <td>0.052366</td>\n",
       "      <td>0.172110</td>\n",
       "      <td>0.050249</td>\n",
       "      <td>-0.171535</td>\n",
       "      <td>1.000000</td>\n",
       "      <td>0.309338</td>\n",
       "      <td>-0.033777</td>\n",
       "      <td>0.153216</td>\n",
       "      <td>0.219597</td>\n",
       "      <td>0.232842</td>\n",
       "      <td>0.057255</td>\n",
       "      <td>-0.002302</td>\n",
       "      <td>0.050283</td>\n",
       "      <td>0.041810</td>\n",
       "      <td>0.022513</td>\n",
       "      <td>0.004858</td>\n",
       "    </tr>\n",
       "    <tr>\n",
       "      <th>open_acc</th>\n",
       "      <td>0.202179</td>\n",
       "      <td>0.039259</td>\n",
       "      <td>0.051278</td>\n",
       "      <td>0.140010</td>\n",
       "      <td>0.309338</td>\n",
       "      <td>1.000000</td>\n",
       "      <td>-0.012376</td>\n",
       "      <td>0.229805</td>\n",
       "      <td>-0.111622</td>\n",
       "      <td>0.672030</td>\n",
       "      <td>0.093728</td>\n",
       "      <td>-0.008809</td>\n",
       "      <td>0.030227</td>\n",
       "      <td>0.026170</td>\n",
       "      <td>0.155813</td>\n",
       "      <td>0.019672</td>\n",
       "    </tr>\n",
       "    <tr>\n",
       "      <th>pub_rec</th>\n",
       "      <td>-0.075560</td>\n",
       "      <td>0.082972</td>\n",
       "      <td>0.047003</td>\n",
       "      <td>-0.018656</td>\n",
       "      <td>-0.033777</td>\n",
       "      <td>-0.012376</td>\n",
       "      <td>1.000000</td>\n",
       "      <td>-0.104959</td>\n",
       "      <td>-0.064908</td>\n",
       "      <td>0.030584</td>\n",
       "      <td>-0.065916</td>\n",
       "      <td>-0.013989</td>\n",
       "      <td>-0.011414</td>\n",
       "      <td>-0.004927</td>\n",
       "      <td>0.003080</td>\n",
       "      <td>0.025027</td>\n",
       "    </tr>\n",
       "    <tr>\n",
       "      <th>revol_bal</th>\n",
       "      <td>0.333837</td>\n",
       "      <td>0.021488</td>\n",
       "      <td>0.096758</td>\n",
       "      <td>0.303778</td>\n",
       "      <td>0.153216</td>\n",
       "      <td>0.229805</td>\n",
       "      <td>-0.104959</td>\n",
       "      <td>1.000000</td>\n",
       "      <td>0.231797</td>\n",
       "      <td>0.206759</td>\n",
       "      <td>0.198301</td>\n",
       "      <td>0.005738</td>\n",
       "      <td>0.043862</td>\n",
       "      <td>0.032546</td>\n",
       "      <td>0.203661</td>\n",
       "      <td>-0.010911</td>\n",
       "    </tr>\n",
       "    <tr>\n",
       "      <th>revol_util</th>\n",
       "      <td>0.101161</td>\n",
       "      <td>0.342687</td>\n",
       "      <td>0.043961</td>\n",
       "      <td>0.024016</td>\n",
       "      <td>0.219597</td>\n",
       "      <td>-0.111622</td>\n",
       "      <td>-0.064908</td>\n",
       "      <td>0.231797</td>\n",
       "      <td>1.000000</td>\n",
       "      <td>-0.090695</td>\n",
       "      <td>0.205794</td>\n",
       "      <td>0.027935</td>\n",
       "      <td>0.059201</td>\n",
       "      <td>0.039535</td>\n",
       "      <td>0.011988</td>\n",
       "      <td>-0.024743</td>\n",
       "    </tr>\n",
       "    <tr>\n",
       "      <th>total_acc</th>\n",
       "      <td>0.232416</td>\n",
       "      <td>-0.010934</td>\n",
       "      <td>0.135960</td>\n",
       "      <td>0.205707</td>\n",
       "      <td>0.232842</td>\n",
       "      <td>0.672030</td>\n",
       "      <td>0.030584</td>\n",
       "      <td>0.206759</td>\n",
       "      <td>-0.090695</td>\n",
       "      <td>1.000000</td>\n",
       "      <td>0.099526</td>\n",
       "      <td>-0.012024</td>\n",
       "      <td>0.022407</td>\n",
       "      <td>0.023522</td>\n",
       "      <td>0.197684</td>\n",
       "      <td>0.018581</td>\n",
       "    </tr>\n",
       "    <tr>\n",
       "      <th>total_rec_int</th>\n",
       "      <td>0.637916</td>\n",
       "      <td>0.402950</td>\n",
       "      <td>0.069893</td>\n",
       "      <td>0.175753</td>\n",
       "      <td>0.057255</td>\n",
       "      <td>0.093728</td>\n",
       "      <td>-0.065916</td>\n",
       "      <td>0.198301</td>\n",
       "      <td>0.205794</td>\n",
       "      <td>0.099526</td>\n",
       "      <td>1.000000</td>\n",
       "      <td>0.092576</td>\n",
       "      <td>0.111966</td>\n",
       "      <td>0.088425</td>\n",
       "      <td>0.195558</td>\n",
       "      <td>-0.015481</td>\n",
       "    </tr>\n",
       "    <tr>\n",
       "      <th>total_rec_late_fee</th>\n",
       "      <td>0.047983</td>\n",
       "      <td>0.055859</td>\n",
       "      <td>-0.009207</td>\n",
       "      <td>0.010704</td>\n",
       "      <td>-0.002302</td>\n",
       "      <td>-0.008809</td>\n",
       "      <td>-0.013989</td>\n",
       "      <td>0.005738</td>\n",
       "      <td>0.027935</td>\n",
       "      <td>-0.012024</td>\n",
       "      <td>0.092576</td>\n",
       "      <td>1.000000</td>\n",
       "      <td>0.091159</td>\n",
       "      <td>0.086543</td>\n",
       "      <td>-0.075849</td>\n",
       "      <td>-0.001348</td>\n",
       "    </tr>\n",
       "    <tr>\n",
       "      <th>recoveries</th>\n",
       "      <td>0.177240</td>\n",
       "      <td>0.177920</td>\n",
       "      <td>0.019099</td>\n",
       "      <td>0.024730</td>\n",
       "      <td>0.050283</td>\n",
       "      <td>0.030227</td>\n",
       "      <td>-0.011414</td>\n",
       "      <td>0.043862</td>\n",
       "      <td>0.059201</td>\n",
       "      <td>0.022407</td>\n",
       "      <td>0.111966</td>\n",
       "      <td>0.091159</td>\n",
       "      <td>1.000000</td>\n",
       "      <td>0.799857</td>\n",
       "      <td>-0.170133</td>\n",
       "      <td>0.004818</td>\n",
       "    </tr>\n",
       "    <tr>\n",
       "      <th>collection_recovery_fee</th>\n",
       "      <td>0.127346</td>\n",
       "      <td>0.117752</td>\n",
       "      <td>0.013853</td>\n",
       "      <td>0.020136</td>\n",
       "      <td>0.041810</td>\n",
       "      <td>0.026170</td>\n",
       "      <td>-0.004927</td>\n",
       "      <td>0.032546</td>\n",
       "      <td>0.039535</td>\n",
       "      <td>0.023522</td>\n",
       "      <td>0.088425</td>\n",
       "      <td>0.086543</td>\n",
       "      <td>0.799857</td>\n",
       "      <td>1.000000</td>\n",
       "      <td>-0.117096</td>\n",
       "      <td>0.004412</td>\n",
       "    </tr>\n",
       "    <tr>\n",
       "      <th>last_pymnt_amnt</th>\n",
       "      <td>0.581438</td>\n",
       "      <td>0.122859</td>\n",
       "      <td>0.099449</td>\n",
       "      <td>0.231306</td>\n",
       "      <td>0.022513</td>\n",
       "      <td>0.155813</td>\n",
       "      <td>0.003080</td>\n",
       "      <td>0.203661</td>\n",
       "      <td>0.011988</td>\n",
       "      <td>0.197684</td>\n",
       "      <td>0.195558</td>\n",
       "      <td>-0.075849</td>\n",
       "      <td>-0.170133</td>\n",
       "      <td>-0.117096</td>\n",
       "      <td>1.000000</td>\n",
       "      <td>0.012197</td>\n",
       "    </tr>\n",
       "    <tr>\n",
       "      <th>collections_12_mths_ex_med</th>\n",
       "      <td>-0.002357</td>\n",
       "      <td>0.028126</td>\n",
       "      <td>0.003768</td>\n",
       "      <td>0.004007</td>\n",
       "      <td>0.004858</td>\n",
       "      <td>0.019672</td>\n",
       "      <td>0.025027</td>\n",
       "      <td>-0.010911</td>\n",
       "      <td>-0.024743</td>\n",
       "      <td>0.018581</td>\n",
       "      <td>-0.015481</td>\n",
       "      <td>-0.001348</td>\n",
       "      <td>0.004818</td>\n",
       "      <td>0.004412</td>\n",
       "      <td>0.012197</td>\n",
       "      <td>1.000000</td>\n",
       "    </tr>\n",
       "  </tbody>\n",
       "</table>\n",
       "</div>"
      ],
      "text/plain": [
       "                            loan_amnt  int_rate  emp_length  annual_inc  \\\n",
       "loan_amnt                    1.000000  0.210969    0.114397    0.334379   \n",
       "int_rate                     0.210969  1.000000    0.030092   -0.025994   \n",
       "emp_length                   0.114397  0.030092    1.000000    0.073045   \n",
       "annual_inc                   0.334379 -0.025994    0.073045    1.000000   \n",
       "dti                          0.052366  0.172110    0.050249   -0.171535   \n",
       "open_acc                     0.202179  0.039259    0.051278    0.140010   \n",
       "pub_rec                     -0.075560  0.082972    0.047003   -0.018656   \n",
       "revol_bal                    0.333837  0.021488    0.096758    0.303778   \n",
       "revol_util                   0.101161  0.342687    0.043961    0.024016   \n",
       "total_acc                    0.232416 -0.010934    0.135960    0.205707   \n",
       "total_rec_int                0.637916  0.402950    0.069893    0.175753   \n",
       "total_rec_late_fee           0.047983  0.055859   -0.009207    0.010704   \n",
       "recoveries                   0.177240  0.177920    0.019099    0.024730   \n",
       "collection_recovery_fee      0.127346  0.117752    0.013853    0.020136   \n",
       "last_pymnt_amnt              0.581438  0.122859    0.099449    0.231306   \n",
       "collections_12_mths_ex_med  -0.002357  0.028126    0.003768    0.004007   \n",
       "\n",
       "                                 dti  open_acc   pub_rec  revol_bal  \\\n",
       "loan_amnt                   0.052366  0.202179 -0.075560   0.333837   \n",
       "int_rate                    0.172110  0.039259  0.082972   0.021488   \n",
       "emp_length                  0.050249  0.051278  0.047003   0.096758   \n",
       "annual_inc                 -0.171535  0.140010 -0.018656   0.303778   \n",
       "dti                         1.000000  0.309338 -0.033777   0.153216   \n",
       "open_acc                    0.309338  1.000000 -0.012376   0.229805   \n",
       "pub_rec                    -0.033777 -0.012376  1.000000  -0.104959   \n",
       "revol_bal                   0.153216  0.229805 -0.104959   1.000000   \n",
       "revol_util                  0.219597 -0.111622 -0.064908   0.231797   \n",
       "total_acc                   0.232842  0.672030  0.030584   0.206759   \n",
       "total_rec_int               0.057255  0.093728 -0.065916   0.198301   \n",
       "total_rec_late_fee         -0.002302 -0.008809 -0.013989   0.005738   \n",
       "recoveries                  0.050283  0.030227 -0.011414   0.043862   \n",
       "collection_recovery_fee     0.041810  0.026170 -0.004927   0.032546   \n",
       "last_pymnt_amnt             0.022513  0.155813  0.003080   0.203661   \n",
       "collections_12_mths_ex_med  0.004858  0.019672  0.025027  -0.010911   \n",
       "\n",
       "                            revol_util  total_acc  total_rec_int  \\\n",
       "loan_amnt                     0.101161   0.232416       0.637916   \n",
       "int_rate                      0.342687  -0.010934       0.402950   \n",
       "emp_length                    0.043961   0.135960       0.069893   \n",
       "annual_inc                    0.024016   0.205707       0.175753   \n",
       "dti                           0.219597   0.232842       0.057255   \n",
       "open_acc                     -0.111622   0.672030       0.093728   \n",
       "pub_rec                      -0.064908   0.030584      -0.065916   \n",
       "revol_bal                     0.231797   0.206759       0.198301   \n",
       "revol_util                    1.000000  -0.090695       0.205794   \n",
       "total_acc                    -0.090695   1.000000       0.099526   \n",
       "total_rec_int                 0.205794   0.099526       1.000000   \n",
       "total_rec_late_fee            0.027935  -0.012024       0.092576   \n",
       "recoveries                    0.059201   0.022407       0.111966   \n",
       "collection_recovery_fee       0.039535   0.023522       0.088425   \n",
       "last_pymnt_amnt               0.011988   0.197684       0.195558   \n",
       "collections_12_mths_ex_med   -0.024743   0.018581      -0.015481   \n",
       "\n",
       "                            total_rec_late_fee  recoveries  \\\n",
       "loan_amnt                             0.047983    0.177240   \n",
       "int_rate                              0.055859    0.177920   \n",
       "emp_length                           -0.009207    0.019099   \n",
       "annual_inc                            0.010704    0.024730   \n",
       "dti                                  -0.002302    0.050283   \n",
       "open_acc                             -0.008809    0.030227   \n",
       "pub_rec                              -0.013989   -0.011414   \n",
       "revol_bal                             0.005738    0.043862   \n",
       "revol_util                            0.027935    0.059201   \n",
       "total_acc                            -0.012024    0.022407   \n",
       "total_rec_int                         0.092576    0.111966   \n",
       "total_rec_late_fee                    1.000000    0.091159   \n",
       "recoveries                            0.091159    1.000000   \n",
       "collection_recovery_fee               0.086543    0.799857   \n",
       "last_pymnt_amnt                      -0.075849   -0.170133   \n",
       "collections_12_mths_ex_med           -0.001348    0.004818   \n",
       "\n",
       "                            collection_recovery_fee  last_pymnt_amnt  \\\n",
       "loan_amnt                                  0.127346         0.581438   \n",
       "int_rate                                   0.117752         0.122859   \n",
       "emp_length                                 0.013853         0.099449   \n",
       "annual_inc                                 0.020136         0.231306   \n",
       "dti                                        0.041810         0.022513   \n",
       "open_acc                                   0.026170         0.155813   \n",
       "pub_rec                                   -0.004927         0.003080   \n",
       "revol_bal                                  0.032546         0.203661   \n",
       "revol_util                                 0.039535         0.011988   \n",
       "total_acc                                  0.023522         0.197684   \n",
       "total_rec_int                              0.088425         0.195558   \n",
       "total_rec_late_fee                         0.086543        -0.075849   \n",
       "recoveries                                 0.799857        -0.170133   \n",
       "collection_recovery_fee                    1.000000        -0.117096   \n",
       "last_pymnt_amnt                           -0.117096         1.000000   \n",
       "collections_12_mths_ex_med                 0.004412         0.012197   \n",
       "\n",
       "                            collections_12_mths_ex_med  \n",
       "loan_amnt                                    -0.002357  \n",
       "int_rate                                      0.028126  \n",
       "emp_length                                    0.003768  \n",
       "annual_inc                                    0.004007  \n",
       "dti                                           0.004858  \n",
       "open_acc                                      0.019672  \n",
       "pub_rec                                       0.025027  \n",
       "revol_bal                                    -0.010911  \n",
       "revol_util                                   -0.024743  \n",
       "total_acc                                     0.018581  \n",
       "total_rec_int                                -0.015481  \n",
       "total_rec_late_fee                           -0.001348  \n",
       "recoveries                                    0.004818  \n",
       "collection_recovery_fee                       0.004412  \n",
       "last_pymnt_amnt                               0.012197  \n",
       "collections_12_mths_ex_med                    1.000000  "
      ]
     },
     "execution_count": 20,
     "metadata": {},
     "output_type": "execute_result"
    }
   ],
   "source": [
    "data.corr()"
   ]
  },
  {
   "cell_type": "code",
   "execution_count": 26,
   "metadata": {},
   "outputs": [],
   "source": [
    "df=data._get_numeric_data()"
   ]
  },
  {
   "cell_type": "code",
   "execution_count": 27,
   "metadata": {},
   "outputs": [],
   "source": [
    "vif = pd.DataFrame()\n",
    "\n",
    "vif[\"VIF Factor\"] = [round(variance_inflation_factor(df.values, i),3) for i in range(df.shape[1])]\n",
    "\n"
   ]
  },
  {
   "cell_type": "code",
   "execution_count": 28,
   "metadata": {},
   "outputs": [],
   "source": [
    "vif[\"features\"] = df.columns"
   ]
  },
  {
   "cell_type": "code",
   "execution_count": 29,
   "metadata": {},
   "outputs": [
    {
     "data": {
      "text/html": [
       "<div>\n",
       "<style scoped>\n",
       "    .dataframe tbody tr th:only-of-type {\n",
       "        vertical-align: middle;\n",
       "    }\n",
       "\n",
       "    .dataframe tbody tr th {\n",
       "        vertical-align: top;\n",
       "    }\n",
       "\n",
       "    .dataframe thead th {\n",
       "        text-align: right;\n",
       "    }\n",
       "</style>\n",
       "<table border=\"1\" class=\"dataframe\">\n",
       "  <thead>\n",
       "    <tr style=\"text-align: right;\">\n",
       "      <th></th>\n",
       "      <th>VIF Factor</th>\n",
       "      <th>features</th>\n",
       "    </tr>\n",
       "  </thead>\n",
       "  <tbody>\n",
       "    <tr>\n",
       "      <th>0</th>\n",
       "      <td>11.733</td>\n",
       "      <td>loan_amnt</td>\n",
       "    </tr>\n",
       "    <tr>\n",
       "      <th>1</th>\n",
       "      <td>11.631</td>\n",
       "      <td>int_rate</td>\n",
       "    </tr>\n",
       "  </tbody>\n",
       "</table>\n",
       "</div>"
      ],
      "text/plain": [
       "   VIF Factor   features\n",
       "0      11.733  loan_amnt\n",
       "1      11.631   int_rate"
      ]
     },
     "execution_count": 29,
     "metadata": {},
     "output_type": "execute_result"
    }
   ],
   "source": [
    "vif[vif[\"VIF Factor\"]>10]"
   ]
  },
  {
   "cell_type": "code",
   "execution_count": 30,
   "metadata": {},
   "outputs": [],
   "source": [
    "y=data['loan_status']"
   ]
  },
  {
   "cell_type": "code",
   "execution_count": 31,
   "metadata": {},
   "outputs": [],
   "source": [
    "numerical_vars = list(data.select_dtypes(exclude='object').columns)"
   ]
  },
  {
   "cell_type": "code",
   "execution_count": 32,
   "metadata": {},
   "outputs": [],
   "source": [
    "data['loan_status']=np.where(data['loan_status']=='Charged Off',1,0)"
   ]
  },
  {
   "cell_type": "code",
   "execution_count": 33,
   "metadata": {},
   "outputs": [
    {
     "name": "stdout",
     "output_type": "stream",
     "text": [
      "term\n",
      "delinq_2yrs\n",
      "inq_last_6mths\n",
      "initial_list_status\n",
      "total_columns updated 4\n"
     ]
    }
   ],
   "source": [
    "lab= LabelEncoder()\n",
    "col_count=0\n",
    "for i in data:\n",
    "    if data[i].dtype=='O' and data[i].nunique()<=2:\n",
    "        if data[i].isnull().any()==False:\n",
    "            lab.fit(data[i])\n",
    "            data[i]=lab.transform(data[i])\n",
    "            print(i)\n",
    "            col_count+=1\n",
    "            \n",
    "print(\"total_columns updated\",col_count)"
   ]
  },
  {
   "cell_type": "code",
   "execution_count": 34,
   "metadata": {},
   "outputs": [],
   "source": [
    "data=pd.get_dummies(data)"
   ]
  },
  {
   "cell_type": "code",
   "execution_count": 35,
   "metadata": {},
   "outputs": [],
   "source": [
    "y=data['loan_status']\n",
    "X=data.drop('loan_status',axis=1)"
   ]
  },
  {
   "cell_type": "code",
   "execution_count": 36,
   "metadata": {},
   "outputs": [
    {
     "data": {
      "text/plain": [
       "Index(['loan_amnt', 'term', 'int_rate', 'emp_length', 'annual_inc', 'dti',\n",
       "       'delinq_2yrs', 'inq_last_6mths', 'open_acc', 'pub_rec', 'revol_bal',\n",
       "       'revol_util', 'initial_list_status', 'total_rec_int',\n",
       "       'total_rec_late_fee', 'recoveries', 'collection_recovery_fee',\n",
       "       'last_pymnt_amnt', 'collections_12_mths_ex_med', 'grade_A', 'grade_B',\n",
       "       'grade_C', 'grade_D', 'grade_E', 'grade_F', 'grade_G', 'sub_grade_A1',\n",
       "       'sub_grade_A2', 'sub_grade_A3', 'sub_grade_A4', 'sub_grade_A5',\n",
       "       'sub_grade_B1', 'sub_grade_B2', 'sub_grade_B3', 'sub_grade_B4',\n",
       "       'sub_grade_B5', 'sub_grade_C1', 'sub_grade_C2', 'sub_grade_C3',\n",
       "       'sub_grade_C4', 'sub_grade_C5', 'sub_grade_D1', 'sub_grade_D2',\n",
       "       'sub_grade_D3', 'sub_grade_D4', 'sub_grade_D5', 'sub_grade_E1',\n",
       "       'sub_grade_E2', 'sub_grade_E3', 'sub_grade_E4', 'sub_grade_E5',\n",
       "       'sub_grade_F1', 'sub_grade_F2', 'sub_grade_F3', 'sub_grade_F4',\n",
       "       'sub_grade_F5', 'sub_grade_G1', 'sub_grade_G2', 'sub_grade_G3',\n",
       "       'sub_grade_G4', 'sub_grade_G5', 'home_ownership_MORTGAGE',\n",
       "       'home_ownership_OWN', 'home_ownership_RENT',\n",
       "       'verification_status_Not Verified',\n",
       "       'verification_status_Source Verified', 'verification_status_Verified',\n",
       "       'purpose_car', 'purpose_credit_card', 'purpose_debt_consolidation',\n",
       "       'purpose_educational', 'purpose_home_improvement', 'purpose_house',\n",
       "       'purpose_major_purchase', 'purpose_medical', 'purpose_moving',\n",
       "       'purpose_other', 'purpose_renewable_energy', 'purpose_small_business',\n",
       "       'purpose_vacation', 'purpose_wedding'],\n",
       "      dtype='object')"
      ]
     },
     "execution_count": 36,
     "metadata": {},
     "output_type": "execute_result"
    }
   ],
   "source": [
    "X.columns"
   ]
  },
  {
   "cell_type": "code",
   "execution_count": 37,
   "metadata": {},
   "outputs": [],
   "source": [
    "X_train, X_test , y_train , y_test = train_test_split(X,y,test_size=0.25 , random_state=50)"
   ]
  },
  {
   "cell_type": "code",
   "execution_count": 38,
   "metadata": {},
   "outputs": [
    {
     "name": "stderr",
     "output_type": "stream",
     "text": [
      "D:\\Installation\\lib\\site-packages\\ipykernel_launcher.py:7: SettingWithCopyWarning: \n",
      "A value is trying to be set on a copy of a slice from a DataFrame.\n",
      "Try using .loc[row_indexer,col_indexer] = value instead\n",
      "\n",
      "See the caveats in the documentation: https://pandas.pydata.org/pandas-docs/stable/user_guide/indexing.html#returning-a-view-versus-a-copy\n",
      "  import sys\n",
      "D:\\Installation\\lib\\site-packages\\ipykernel_launcher.py:10: SettingWithCopyWarning: \n",
      "A value is trying to be set on a copy of a slice from a DataFrame.\n",
      "Try using .loc[row_indexer,col_indexer] = value instead\n",
      "\n",
      "See the caveats in the documentation: https://pandas.pydata.org/pandas-docs/stable/user_guide/indexing.html#returning-a-view-versus-a-copy\n",
      "  # Remove the CWD from sys.path while we load stuff.\n",
      "D:\\Installation\\lib\\site-packages\\ipykernel_launcher.py:7: SettingWithCopyWarning: \n",
      "A value is trying to be set on a copy of a slice from a DataFrame.\n",
      "Try using .loc[row_indexer,col_indexer] = value instead\n",
      "\n",
      "See the caveats in the documentation: https://pandas.pydata.org/pandas-docs/stable/user_guide/indexing.html#returning-a-view-versus-a-copy\n",
      "  import sys\n",
      "D:\\Installation\\lib\\site-packages\\ipykernel_launcher.py:10: SettingWithCopyWarning: \n",
      "A value is trying to be set on a copy of a slice from a DataFrame.\n",
      "Try using .loc[row_indexer,col_indexer] = value instead\n",
      "\n",
      "See the caveats in the documentation: https://pandas.pydata.org/pandas-docs/stable/user_guide/indexing.html#returning-a-view-versus-a-copy\n",
      "  # Remove the CWD from sys.path while we load stuff.\n",
      "D:\\Installation\\lib\\site-packages\\ipykernel_launcher.py:7: SettingWithCopyWarning: \n",
      "A value is trying to be set on a copy of a slice from a DataFrame.\n",
      "Try using .loc[row_indexer,col_indexer] = value instead\n",
      "\n",
      "See the caveats in the documentation: https://pandas.pydata.org/pandas-docs/stable/user_guide/indexing.html#returning-a-view-versus-a-copy\n",
      "  import sys\n",
      "D:\\Installation\\lib\\site-packages\\ipykernel_launcher.py:10: SettingWithCopyWarning: \n",
      "A value is trying to be set on a copy of a slice from a DataFrame.\n",
      "Try using .loc[row_indexer,col_indexer] = value instead\n",
      "\n",
      "See the caveats in the documentation: https://pandas.pydata.org/pandas-docs/stable/user_guide/indexing.html#returning-a-view-versus-a-copy\n",
      "  # Remove the CWD from sys.path while we load stuff.\n",
      "D:\\Installation\\lib\\site-packages\\ipykernel_launcher.py:7: SettingWithCopyWarning: \n",
      "A value is trying to be set on a copy of a slice from a DataFrame.\n",
      "Try using .loc[row_indexer,col_indexer] = value instead\n",
      "\n",
      "See the caveats in the documentation: https://pandas.pydata.org/pandas-docs/stable/user_guide/indexing.html#returning-a-view-versus-a-copy\n",
      "  import sys\n",
      "D:\\Installation\\lib\\site-packages\\ipykernel_launcher.py:10: SettingWithCopyWarning: \n",
      "A value is trying to be set on a copy of a slice from a DataFrame.\n",
      "Try using .loc[row_indexer,col_indexer] = value instead\n",
      "\n",
      "See the caveats in the documentation: https://pandas.pydata.org/pandas-docs/stable/user_guide/indexing.html#returning-a-view-versus-a-copy\n",
      "  # Remove the CWD from sys.path while we load stuff.\n",
      "D:\\Installation\\lib\\site-packages\\ipykernel_launcher.py:7: SettingWithCopyWarning: \n",
      "A value is trying to be set on a copy of a slice from a DataFrame.\n",
      "Try using .loc[row_indexer,col_indexer] = value instead\n",
      "\n",
      "See the caveats in the documentation: https://pandas.pydata.org/pandas-docs/stable/user_guide/indexing.html#returning-a-view-versus-a-copy\n",
      "  import sys\n",
      "D:\\Installation\\lib\\site-packages\\ipykernel_launcher.py:10: SettingWithCopyWarning: \n",
      "A value is trying to be set on a copy of a slice from a DataFrame.\n",
      "Try using .loc[row_indexer,col_indexer] = value instead\n",
      "\n",
      "See the caveats in the documentation: https://pandas.pydata.org/pandas-docs/stable/user_guide/indexing.html#returning-a-view-versus-a-copy\n",
      "  # Remove the CWD from sys.path while we load stuff.\n",
      "D:\\Installation\\lib\\site-packages\\ipykernel_launcher.py:7: SettingWithCopyWarning: \n",
      "A value is trying to be set on a copy of a slice from a DataFrame.\n",
      "Try using .loc[row_indexer,col_indexer] = value instead\n",
      "\n",
      "See the caveats in the documentation: https://pandas.pydata.org/pandas-docs/stable/user_guide/indexing.html#returning-a-view-versus-a-copy\n",
      "  import sys\n",
      "D:\\Installation\\lib\\site-packages\\ipykernel_launcher.py:10: SettingWithCopyWarning: \n",
      "A value is trying to be set on a copy of a slice from a DataFrame.\n",
      "Try using .loc[row_indexer,col_indexer] = value instead\n",
      "\n",
      "See the caveats in the documentation: https://pandas.pydata.org/pandas-docs/stable/user_guide/indexing.html#returning-a-view-versus-a-copy\n",
      "  # Remove the CWD from sys.path while we load stuff.\n",
      "D:\\Installation\\lib\\site-packages\\ipykernel_launcher.py:7: SettingWithCopyWarning: \n",
      "A value is trying to be set on a copy of a slice from a DataFrame.\n",
      "Try using .loc[row_indexer,col_indexer] = value instead\n",
      "\n",
      "See the caveats in the documentation: https://pandas.pydata.org/pandas-docs/stable/user_guide/indexing.html#returning-a-view-versus-a-copy\n",
      "  import sys\n",
      "D:\\Installation\\lib\\site-packages\\ipykernel_launcher.py:10: SettingWithCopyWarning: \n",
      "A value is trying to be set on a copy of a slice from a DataFrame.\n",
      "Try using .loc[row_indexer,col_indexer] = value instead\n",
      "\n",
      "See the caveats in the documentation: https://pandas.pydata.org/pandas-docs/stable/user_guide/indexing.html#returning-a-view-versus-a-copy\n",
      "  # Remove the CWD from sys.path while we load stuff.\n",
      "D:\\Installation\\lib\\site-packages\\ipykernel_launcher.py:7: SettingWithCopyWarning: \n",
      "A value is trying to be set on a copy of a slice from a DataFrame.\n",
      "Try using .loc[row_indexer,col_indexer] = value instead\n",
      "\n",
      "See the caveats in the documentation: https://pandas.pydata.org/pandas-docs/stable/user_guide/indexing.html#returning-a-view-versus-a-copy\n",
      "  import sys\n",
      "D:\\Installation\\lib\\site-packages\\ipykernel_launcher.py:10: SettingWithCopyWarning: \n",
      "A value is trying to be set on a copy of a slice from a DataFrame.\n",
      "Try using .loc[row_indexer,col_indexer] = value instead\n",
      "\n",
      "See the caveats in the documentation: https://pandas.pydata.org/pandas-docs/stable/user_guide/indexing.html#returning-a-view-versus-a-copy\n",
      "  # Remove the CWD from sys.path while we load stuff.\n",
      "D:\\Installation\\lib\\site-packages\\ipykernel_launcher.py:7: SettingWithCopyWarning: \n",
      "A value is trying to be set on a copy of a slice from a DataFrame.\n",
      "Try using .loc[row_indexer,col_indexer] = value instead\n",
      "\n",
      "See the caveats in the documentation: https://pandas.pydata.org/pandas-docs/stable/user_guide/indexing.html#returning-a-view-versus-a-copy\n",
      "  import sys\n",
      "D:\\Installation\\lib\\site-packages\\ipykernel_launcher.py:10: SettingWithCopyWarning: \n",
      "A value is trying to be set on a copy of a slice from a DataFrame.\n",
      "Try using .loc[row_indexer,col_indexer] = value instead\n",
      "\n",
      "See the caveats in the documentation: https://pandas.pydata.org/pandas-docs/stable/user_guide/indexing.html#returning-a-view-versus-a-copy\n",
      "  # Remove the CWD from sys.path while we load stuff.\n",
      "D:\\Installation\\lib\\site-packages\\ipykernel_launcher.py:7: SettingWithCopyWarning: \n",
      "A value is trying to be set on a copy of a slice from a DataFrame.\n",
      "Try using .loc[row_indexer,col_indexer] = value instead\n",
      "\n",
      "See the caveats in the documentation: https://pandas.pydata.org/pandas-docs/stable/user_guide/indexing.html#returning-a-view-versus-a-copy\n",
      "  import sys\n",
      "D:\\Installation\\lib\\site-packages\\ipykernel_launcher.py:10: SettingWithCopyWarning: \n",
      "A value is trying to be set on a copy of a slice from a DataFrame.\n",
      "Try using .loc[row_indexer,col_indexer] = value instead\n",
      "\n",
      "See the caveats in the documentation: https://pandas.pydata.org/pandas-docs/stable/user_guide/indexing.html#returning-a-view-versus-a-copy\n",
      "  # Remove the CWD from sys.path while we load stuff.\n",
      "D:\\Installation\\lib\\site-packages\\ipykernel_launcher.py:7: SettingWithCopyWarning: \n",
      "A value is trying to be set on a copy of a slice from a DataFrame.\n",
      "Try using .loc[row_indexer,col_indexer] = value instead\n",
      "\n",
      "See the caveats in the documentation: https://pandas.pydata.org/pandas-docs/stable/user_guide/indexing.html#returning-a-view-versus-a-copy\n",
      "  import sys\n",
      "D:\\Installation\\lib\\site-packages\\ipykernel_launcher.py:10: SettingWithCopyWarning: \n",
      "A value is trying to be set on a copy of a slice from a DataFrame.\n",
      "Try using .loc[row_indexer,col_indexer] = value instead\n",
      "\n",
      "See the caveats in the documentation: https://pandas.pydata.org/pandas-docs/stable/user_guide/indexing.html#returning-a-view-versus-a-copy\n",
      "  # Remove the CWD from sys.path while we load stuff.\n",
      "D:\\Installation\\lib\\site-packages\\ipykernel_launcher.py:7: SettingWithCopyWarning: \n",
      "A value is trying to be set on a copy of a slice from a DataFrame.\n",
      "Try using .loc[row_indexer,col_indexer] = value instead\n",
      "\n",
      "See the caveats in the documentation: https://pandas.pydata.org/pandas-docs/stable/user_guide/indexing.html#returning-a-view-versus-a-copy\n",
      "  import sys\n",
      "D:\\Installation\\lib\\site-packages\\ipykernel_launcher.py:10: SettingWithCopyWarning: \n",
      "A value is trying to be set on a copy of a slice from a DataFrame.\n",
      "Try using .loc[row_indexer,col_indexer] = value instead\n",
      "\n",
      "See the caveats in the documentation: https://pandas.pydata.org/pandas-docs/stable/user_guide/indexing.html#returning-a-view-versus-a-copy\n",
      "  # Remove the CWD from sys.path while we load stuff.\n",
      "D:\\Installation\\lib\\site-packages\\ipykernel_launcher.py:7: SettingWithCopyWarning: \n",
      "A value is trying to be set on a copy of a slice from a DataFrame.\n",
      "Try using .loc[row_indexer,col_indexer] = value instead\n",
      "\n",
      "See the caveats in the documentation: https://pandas.pydata.org/pandas-docs/stable/user_guide/indexing.html#returning-a-view-versus-a-copy\n",
      "  import sys\n",
      "D:\\Installation\\lib\\site-packages\\ipykernel_launcher.py:10: SettingWithCopyWarning: \n",
      "A value is trying to be set on a copy of a slice from a DataFrame.\n",
      "Try using .loc[row_indexer,col_indexer] = value instead\n",
      "\n",
      "See the caveats in the documentation: https://pandas.pydata.org/pandas-docs/stable/user_guide/indexing.html#returning-a-view-versus-a-copy\n",
      "  # Remove the CWD from sys.path while we load stuff.\n",
      "D:\\Installation\\lib\\site-packages\\ipykernel_launcher.py:7: SettingWithCopyWarning: \n",
      "A value is trying to be set on a copy of a slice from a DataFrame.\n",
      "Try using .loc[row_indexer,col_indexer] = value instead\n",
      "\n",
      "See the caveats in the documentation: https://pandas.pydata.org/pandas-docs/stable/user_guide/indexing.html#returning-a-view-versus-a-copy\n",
      "  import sys\n",
      "D:\\Installation\\lib\\site-packages\\ipykernel_launcher.py:10: SettingWithCopyWarning: \n",
      "A value is trying to be set on a copy of a slice from a DataFrame.\n",
      "Try using .loc[row_indexer,col_indexer] = value instead\n",
      "\n",
      "See the caveats in the documentation: https://pandas.pydata.org/pandas-docs/stable/user_guide/indexing.html#returning-a-view-versus-a-copy\n",
      "  # Remove the CWD from sys.path while we load stuff.\n",
      "D:\\Installation\\lib\\site-packages\\ipykernel_launcher.py:7: SettingWithCopyWarning: \n",
      "A value is trying to be set on a copy of a slice from a DataFrame.\n",
      "Try using .loc[row_indexer,col_indexer] = value instead\n",
      "\n",
      "See the caveats in the documentation: https://pandas.pydata.org/pandas-docs/stable/user_guide/indexing.html#returning-a-view-versus-a-copy\n",
      "  import sys\n",
      "D:\\Installation\\lib\\site-packages\\ipykernel_launcher.py:10: SettingWithCopyWarning: \n",
      "A value is trying to be set on a copy of a slice from a DataFrame.\n",
      "Try using .loc[row_indexer,col_indexer] = value instead\n",
      "\n",
      "See the caveats in the documentation: https://pandas.pydata.org/pandas-docs/stable/user_guide/indexing.html#returning-a-view-versus-a-copy\n",
      "  # Remove the CWD from sys.path while we load stuff.\n"
     ]
    }
   ],
   "source": [
    "for i in numerical_vars:\n",
    "    \n",
    "    # fit on training data column\n",
    "    scale = StandardScaler().fit(X_train[[i]])\n",
    "    \n",
    "    # transform the training data column\n",
    "    X_train[i] = scale.transform(X_train[[i]])\n",
    "    \n",
    "    # transform the testing data column\n",
    "    X_test[i] = scale.transform(X_test[[i]])"
   ]
  },
  {
   "cell_type": "code",
   "execution_count": 40,
   "metadata": {},
   "outputs": [
    {
     "data": {
      "text/plain": [
       "(189589, 81)"
      ]
     },
     "execution_count": 40,
     "metadata": {},
     "output_type": "execute_result"
    }
   ],
   "source": [
    "X_train.shape"
   ]
  },
  {
   "cell_type": "code",
   "execution_count": 41,
   "metadata": {},
   "outputs": [
    {
     "data": {
      "text/plain": [
       "(63197, 81)"
      ]
     },
     "execution_count": 41,
     "metadata": {},
     "output_type": "execute_result"
    }
   ],
   "source": [
    "X_test.shape"
   ]
  },
  {
   "cell_type": "code",
   "execution_count": 42,
   "metadata": {},
   "outputs": [
    {
     "data": {
      "text/plain": [
       "(189589,)"
      ]
     },
     "execution_count": 42,
     "metadata": {},
     "output_type": "execute_result"
    }
   ],
   "source": [
    "y_train.shape"
   ]
  },
  {
   "cell_type": "code",
   "execution_count": 43,
   "metadata": {},
   "outputs": [],
   "source": [
    "sm = SMOTE(random_state=12)"
   ]
  },
  {
   "cell_type": "code",
   "execution_count": 44,
   "metadata": {},
   "outputs": [],
   "source": [
    "X_train_res, y_train_res = sm.fit_sample(X_train, y_train)"
   ]
  },
  {
   "cell_type": "code",
   "execution_count": 49,
   "metadata": {},
   "outputs": [
    {
     "name": "stdout",
     "output_type": "stream",
     "text": [
      "Validation Results :  0.1\n",
      "0.008349602612617857\n",
      "Validation Results :  0.01\n",
      "0.45131249140505797\n"
     ]
    },
    {
     "name": "stderr",
     "output_type": "stream",
     "text": [
      "D:\\Installation\\lib\\site-packages\\sklearn\\linear_model\\_coordinate_descent.py:476: ConvergenceWarning: Objective did not converge. You might want to increase the number of iterations. Duality gap: 10.524173393030651, tolerance: 7.78145\n",
      "  positive)\n"
     ]
    },
    {
     "name": "stdout",
     "output_type": "stream",
     "text": [
      "Validation Results :  0.001\n",
      "0.49981424928639884\n",
      "Validation Results :  0.002\n",
      "0.48642386621312245\n"
     ]
    }
   ],
   "source": [
    "lasso = Lasso()\n",
    "alphas = [0.1,0.01,0.001,0.002]\n",
    "scores = []\n",
    "for n in alphas:\n",
    "    lasso.set_params(alpha=n)\n",
    "    lasso.fit(X_train_res, y_train_res)\n",
    "    print('Validation Results : ',n)\n",
    "    print(lasso.score(X_test, y_test))\n",
    "    \n"
   ]
  },
  {
   "cell_type": "markdown",
   "metadata": {},
   "source": [
    "## Let us apply Lasso using Logistic regression with the best alpha velue fecthed from above and fetch the variables it used"
   ]
  },
  {
   "cell_type": "markdown",
   "metadata": {},
   "source": [
    "### Applied to imbalanced data"
   ]
  },
  {
   "cell_type": "code",
   "execution_count": 45,
   "metadata": {},
   "outputs": [],
   "source": [
    "LR_l1 = LogisticRegression(C = 0.002, penalty='l1',solver='liblinear')\n",
    "LR_l1.fit(X_train, y_train)\n",
    "\n",
    "interceptDF = pd.DataFrame(LR_l1.intercept_, index = ['Intercept'], columns = ['Value'])\n",
    "coefDF = pd.DataFrame(LR_l1.coef_[0][np.where(LR_l1.coef_[0] != 0)], \n",
    "                      index = X_train_res.columns[np.where(LR_l1.coef_[0] != 0)], \n",
    "                      columns = ['Value'])\n",
    "\n",
    "finalDF = pd.concat([interceptDF, coefDF])"
   ]
  },
  {
   "cell_type": "code",
   "execution_count": 46,
   "metadata": {},
   "outputs": [
    {
     "data": {
      "text/html": [
       "<div>\n",
       "<style scoped>\n",
       "    .dataframe tbody tr th:only-of-type {\n",
       "        vertical-align: middle;\n",
       "    }\n",
       "\n",
       "    .dataframe tbody tr th {\n",
       "        vertical-align: top;\n",
       "    }\n",
       "\n",
       "    .dataframe thead th {\n",
       "        text-align: right;\n",
       "    }\n",
       "</style>\n",
       "<table border=\"1\" class=\"dataframe\">\n",
       "  <thead>\n",
       "    <tr style=\"text-align: right;\">\n",
       "      <th></th>\n",
       "      <th>Value</th>\n",
       "    </tr>\n",
       "  </thead>\n",
       "  <tbody>\n",
       "    <tr>\n",
       "      <th>Intercept</th>\n",
       "      <td>-3.514218</td>\n",
       "    </tr>\n",
       "    <tr>\n",
       "      <th>loan_amnt</th>\n",
       "      <td>0.822967</td>\n",
       "    </tr>\n",
       "    <tr>\n",
       "      <th>term</th>\n",
       "      <td>0.777832</td>\n",
       "    </tr>\n",
       "    <tr>\n",
       "      <th>int_rate</th>\n",
       "      <td>0.667961</td>\n",
       "    </tr>\n",
       "    <tr>\n",
       "      <th>emp_length</th>\n",
       "      <td>0.005356</td>\n",
       "    </tr>\n",
       "    <tr>\n",
       "      <th>annual_inc</th>\n",
       "      <td>-0.100119</td>\n",
       "    </tr>\n",
       "    <tr>\n",
       "      <th>dti</th>\n",
       "      <td>0.228713</td>\n",
       "    </tr>\n",
       "    <tr>\n",
       "      <th>pub_rec</th>\n",
       "      <td>0.058985</td>\n",
       "    </tr>\n",
       "    <tr>\n",
       "      <th>initial_list_status</th>\n",
       "      <td>0.349134</td>\n",
       "    </tr>\n",
       "    <tr>\n",
       "      <th>total_rec_int</th>\n",
       "      <td>-0.678379</td>\n",
       "    </tr>\n",
       "    <tr>\n",
       "      <th>total_rec_late_fee</th>\n",
       "      <td>0.162138</td>\n",
       "    </tr>\n",
       "    <tr>\n",
       "      <th>recoveries</th>\n",
       "      <td>5.164731</td>\n",
       "    </tr>\n",
       "    <tr>\n",
       "      <th>last_pymnt_amnt</th>\n",
       "      <td>-4.468387</td>\n",
       "    </tr>\n",
       "    <tr>\n",
       "      <th>verification_status_Not Verified</th>\n",
       "      <td>-0.035237</td>\n",
       "    </tr>\n",
       "  </tbody>\n",
       "</table>\n",
       "</div>"
      ],
      "text/plain": [
       "                                     Value\n",
       "Intercept                        -3.514218\n",
       "loan_amnt                         0.822967\n",
       "term                              0.777832\n",
       "int_rate                          0.667961\n",
       "emp_length                        0.005356\n",
       "annual_inc                       -0.100119\n",
       "dti                               0.228713\n",
       "pub_rec                           0.058985\n",
       "initial_list_status               0.349134\n",
       "total_rec_int                    -0.678379\n",
       "total_rec_late_fee                0.162138\n",
       "recoveries                        5.164731\n",
       "last_pymnt_amnt                  -4.468387\n",
       "verification_status_Not Verified -0.035237"
      ]
     },
     "execution_count": 46,
     "metadata": {},
     "output_type": "execute_result"
    }
   ],
   "source": [
    "finalDF"
   ]
  },
  {
   "cell_type": "code",
   "execution_count": 47,
   "metadata": {},
   "outputs": [
    {
     "name": "stdout",
     "output_type": "stream",
     "text": [
      "Validation Results\n",
      "0.9313258540753517\n",
      "0.6800248800426515\n",
      "0.779089891071974\n",
      "0.8328988732269551\n",
      "0.9119399428026692\n"
     ]
    }
   ],
   "source": [
    "print('Validation Results')\n",
    "print(LR_l1.score(X_test, y_test))\n",
    "print(recall_score(y_test, LR_l1.predict(X_test)))\n",
    "print(f1_score(y_test, LR_l1.predict(X_test)))\n",
    "print(roc_auc_score(y_test, LR_l1.predict(X_test)))\n",
    "print(precision_score(y_test, LR_l1.predict(X_test)))"
   ]
  },
  {
   "cell_type": "code",
   "execution_count": 48,
   "metadata": {},
   "outputs": [
    {
     "data": {
      "text/plain": [
       "<matplotlib.axes._subplots.AxesSubplot at 0xf4a10c8>"
      ]
     },
     "execution_count": 48,
     "metadata": {},
     "output_type": "execute_result"
    },
    {
     "data": {
      "image/png": "[encoded data removed]",
      "text/plain": [
       "<Figure size 432x288 with 2 Axes>"
      ]
     },
     "metadata": {
      "needs_background": "light"
     },
     "output_type": "display_data"
    }
   ],
   "source": [
    "y_predict=LR_l1.predict(X_test)\n",
    "cm=confusion_matrix(y_test,y_predict)\n",
    "sns.heatmap(cm , annot=True)"
   ]
  },
  {
   "cell_type": "markdown",
   "metadata": {},
   "source": [
    "### Applying the same process to Balanced Data"
   ]
  },
  {
   "cell_type": "code",
   "execution_count": 49,
   "metadata": {},
   "outputs": [
    {
     "data": {
      "text/plain": [
       "LogisticRegression(C=0.002, class_weight=None, dual=False, fit_intercept=True,\n",
       "                   intercept_scaling=1, l1_ratio=None, max_iter=100,\n",
       "                   multi_class='auto', n_jobs=None, penalty='l1',\n",
       "                   random_state=None, solver='liblinear', tol=0.0001, verbose=0,\n",
       "                   warm_start=False)"
      ]
     },
     "execution_count": 49,
     "metadata": {},
     "output_type": "execute_result"
    }
   ],
   "source": [
    "LR_l1 = LogisticRegression(C = 0.002, penalty='l1',solver='liblinear')\n",
    "LR_l1.fit(X_train_res, y_train_res)"
   ]
  },
  {
   "cell_type": "code",
   "execution_count": 50,
   "metadata": {},
   "outputs": [],
   "source": [
    "interceptDF = pd.DataFrame(LR_l1.intercept_, index = ['Intercept'], columns = ['Value'])\n",
    "coefDF = pd.DataFrame(LR_l1.coef_[0][np.where(LR_l1.coef_[0] != 0)], \n",
    "                      index = X_train_res.columns[np.where(LR_l1.coef_[0] != 0)], \n",
    "                      columns = ['Value'])\n",
    "\n",
    "finalDF = pd.concat([interceptDF, coefDF])"
   ]
  },
  {
   "cell_type": "code",
   "execution_count": 51,
   "metadata": {},
   "outputs": [
    {
     "data": {
      "text/html": [
       "<div>\n",
       "<style scoped>\n",
       "    .dataframe tbody tr th:only-of-type {\n",
       "        vertical-align: middle;\n",
       "    }\n",
       "\n",
       "    .dataframe tbody tr th {\n",
       "        vertical-align: top;\n",
       "    }\n",
       "\n",
       "    .dataframe thead th {\n",
       "        text-align: right;\n",
       "    }\n",
       "</style>\n",
       "<table border=\"1\" class=\"dataframe\">\n",
       "  <thead>\n",
       "    <tr style=\"text-align: right;\">\n",
       "      <th></th>\n",
       "      <th>Value</th>\n",
       "      <th>absval</th>\n",
       "    </tr>\n",
       "  </thead>\n",
       "  <tbody>\n",
       "    <tr>\n",
       "      <th>recoveries</th>\n",
       "      <td>9.202751</td>\n",
       "      <td>9.202751</td>\n",
       "    </tr>\n",
       "    <tr>\n",
       "      <th>last_pymnt_amnt</th>\n",
       "      <td>-6.601049</td>\n",
       "      <td>6.601049</td>\n",
       "    </tr>\n",
       "    <tr>\n",
       "      <th>home_ownership_OWN</th>\n",
       "      <td>-1.276333</td>\n",
       "      <td>1.276333</td>\n",
       "    </tr>\n",
       "    <tr>\n",
       "      <th>loan_amnt</th>\n",
       "      <td>1.253511</td>\n",
       "      <td>1.253511</td>\n",
       "    </tr>\n",
       "    <tr>\n",
       "      <th>verification_status_Not Verified</th>\n",
       "      <td>-1.210749</td>\n",
       "      <td>1.210749</td>\n",
       "    </tr>\n",
       "    <tr>\n",
       "      <th>verification_status_Verified</th>\n",
       "      <td>-1.151577</td>\n",
       "      <td>1.151577</td>\n",
       "    </tr>\n",
       "    <tr>\n",
       "      <th>home_ownership_RENT</th>\n",
       "      <td>-1.096121</td>\n",
       "      <td>1.096121</td>\n",
       "    </tr>\n",
       "    <tr>\n",
       "      <th>home_ownership_MORTGAGE</th>\n",
       "      <td>-1.069697</td>\n",
       "      <td>1.069697</td>\n",
       "    </tr>\n",
       "    <tr>\n",
       "      <th>verification_status_Source Verified</th>\n",
       "      <td>-1.068654</td>\n",
       "      <td>1.068654</td>\n",
       "    </tr>\n",
       "    <tr>\n",
       "      <th>total_rec_int</th>\n",
       "      <td>-1.030198</td>\n",
       "      <td>1.030198</td>\n",
       "    </tr>\n",
       "    <tr>\n",
       "      <th>int_rate</th>\n",
       "      <td>0.852904</td>\n",
       "      <td>0.852904</td>\n",
       "    </tr>\n",
       "    <tr>\n",
       "      <th>term</th>\n",
       "      <td>0.702140</td>\n",
       "      <td>0.702140</td>\n",
       "    </tr>\n",
       "    <tr>\n",
       "      <th>Intercept</th>\n",
       "      <td>-0.578785</td>\n",
       "      <td>0.578785</td>\n",
       "    </tr>\n",
       "    <tr>\n",
       "      <th>delinq_2yrs</th>\n",
       "      <td>-0.387990</td>\n",
       "      <td>0.387990</td>\n",
       "    </tr>\n",
       "    <tr>\n",
       "      <th>purpose_other</th>\n",
       "      <td>-0.288915</td>\n",
       "      <td>0.288915</td>\n",
       "    </tr>\n",
       "    <tr>\n",
       "      <th>dti</th>\n",
       "      <td>0.258144</td>\n",
       "      <td>0.258144</td>\n",
       "    </tr>\n",
       "    <tr>\n",
       "      <th>annual_inc</th>\n",
       "      <td>-0.251815</td>\n",
       "      <td>0.251815</td>\n",
       "    </tr>\n",
       "    <tr>\n",
       "      <th>inq_last_6mths</th>\n",
       "      <td>-0.190429</td>\n",
       "      <td>0.190429</td>\n",
       "    </tr>\n",
       "    <tr>\n",
       "      <th>total_rec_late_fee</th>\n",
       "      <td>0.187114</td>\n",
       "      <td>0.187114</td>\n",
       "    </tr>\n",
       "    <tr>\n",
       "      <th>purpose_credit_card</th>\n",
       "      <td>-0.141787</td>\n",
       "      <td>0.141787</td>\n",
       "    </tr>\n",
       "    <tr>\n",
       "      <th>initial_list_status</th>\n",
       "      <td>0.117775</td>\n",
       "      <td>0.117775</td>\n",
       "    </tr>\n",
       "    <tr>\n",
       "      <th>grade_A</th>\n",
       "      <td>-0.103332</td>\n",
       "      <td>0.103332</td>\n",
       "    </tr>\n",
       "    <tr>\n",
       "      <th>purpose_home_improvement</th>\n",
       "      <td>-0.082887</td>\n",
       "      <td>0.082887</td>\n",
       "    </tr>\n",
       "    <tr>\n",
       "      <th>pub_rec</th>\n",
       "      <td>0.073428</td>\n",
       "      <td>0.073428</td>\n",
       "    </tr>\n",
       "    <tr>\n",
       "      <th>emp_length</th>\n",
       "      <td>0.069844</td>\n",
       "      <td>0.069844</td>\n",
       "    </tr>\n",
       "    <tr>\n",
       "      <th>open_acc</th>\n",
       "      <td>0.031151</td>\n",
       "      <td>0.031151</td>\n",
       "    </tr>\n",
       "    <tr>\n",
       "      <th>revol_bal</th>\n",
       "      <td>-0.026550</td>\n",
       "      <td>0.026550</td>\n",
       "    </tr>\n",
       "    <tr>\n",
       "      <th>sub_grade_B3</th>\n",
       "      <td>-0.015190</td>\n",
       "      <td>0.015190</td>\n",
       "    </tr>\n",
       "    <tr>\n",
       "      <th>grade_D</th>\n",
       "      <td>-0.013668</td>\n",
       "      <td>0.013668</td>\n",
       "    </tr>\n",
       "    <tr>\n",
       "      <th>collections_12_mths_ex_med</th>\n",
       "      <td>0.008439</td>\n",
       "      <td>0.008439</td>\n",
       "    </tr>\n",
       "    <tr>\n",
       "      <th>grade_C</th>\n",
       "      <td>0.002998</td>\n",
       "      <td>0.002998</td>\n",
       "    </tr>\n",
       "  </tbody>\n",
       "</table>\n",
       "</div>"
      ],
      "text/plain": [
       "                                        Value    absval\n",
       "recoveries                           9.202751  9.202751\n",
       "last_pymnt_amnt                     -6.601049  6.601049\n",
       "home_ownership_OWN                  -1.276333  1.276333\n",
       "loan_amnt                            1.253511  1.253511\n",
       "verification_status_Not Verified    -1.210749  1.210749\n",
       "verification_status_Verified        -1.151577  1.151577\n",
       "home_ownership_RENT                 -1.096121  1.096121\n",
       "home_ownership_MORTGAGE             -1.069697  1.069697\n",
       "verification_status_Source Verified -1.068654  1.068654\n",
       "total_rec_int                       -1.030198  1.030198\n",
       "int_rate                             0.852904  0.852904\n",
       "term                                 0.702140  0.702140\n",
       "Intercept                           -0.578785  0.578785\n",
       "delinq_2yrs                         -0.387990  0.387990\n",
       "purpose_other                       -0.288915  0.288915\n",
       "dti                                  0.258144  0.258144\n",
       "annual_inc                          -0.251815  0.251815\n",
       "inq_last_6mths                      -0.190429  0.190429\n",
       "total_rec_late_fee                   0.187114  0.187114\n",
       "purpose_credit_card                 -0.141787  0.141787\n",
       "initial_list_status                  0.117775  0.117775\n",
       "grade_A                             -0.103332  0.103332\n",
       "purpose_home_improvement            -0.082887  0.082887\n",
       "pub_rec                              0.073428  0.073428\n",
       "emp_length                           0.069844  0.069844\n",
       "open_acc                             0.031151  0.031151\n",
       "revol_bal                           -0.026550  0.026550\n",
       "sub_grade_B3                        -0.015190  0.015190\n",
       "grade_D                             -0.013668  0.013668\n",
       "collections_12_mths_ex_med           0.008439  0.008439\n",
       "grade_C                              0.002998  0.002998"
      ]
     },
     "execution_count": 51,
     "metadata": {},
     "output_type": "execute_result"
    }
   ],
   "source": [
    "finalDF['absval'] = abs(finalDF['Value'])\n",
    "finalDF.sort_values(by='absval',ascending=False)"
   ]
  },
  {
   "cell_type": "code",
   "execution_count": 52,
   "metadata": {},
   "outputs": [
    {
     "name": "stdout",
     "output_type": "stream",
     "text": [
      "Validation Results\n",
      "0.9236514391505926\n",
      "0.9198507197440909\n",
      "0.8109992557483644\n",
      "0.9221628124643101\n",
      "0.7251838879159369\n"
     ]
    }
   ],
   "source": [
    "print('Validation Results')\n",
    "print(LR_l1.score(X_test, y_test))\n",
    "print(recall_score(y_test, LR_l1.predict(X_test)))\n",
    "print(f1_score(y_test, LR_l1.predict(X_test)))\n",
    "print(roc_auc_score(y_test, LR_l1.predict(X_test)))\n",
    "print(precision_score(y_test, LR_l1.predict(X_test)))"
   ]
  },
  {
   "cell_type": "code",
   "execution_count": 53,
   "metadata": {},
   "outputs": [
    {
     "data": {
      "text/plain": [
       "<matplotlib.axes._subplots.AxesSubplot at 0xf44ef48>"
      ]
     },
     "execution_count": 53,
     "metadata": {},
     "output_type": "execute_result"
    },
    {
     "data": {
      "image/png": "[encoded data removed]",
      "text/plain": [
       "<Figure size 432x288 with 2 Axes>"
      ]
     },
     "metadata": {
      "needs_background": "light"
     },
     "output_type": "display_data"
    }
   ],
   "source": [
    "y_predict=LR_l1.predict(X_test)\n",
    "cm=confusion_matrix(y_test,y_predict)\n",
    "sns.heatmap(cm , annot=True)"
   ]
  },
  {
   "cell_type": "markdown",
   "metadata": {},
   "source": [
    "## Selecting important features by Applyting the same process using SelectFromModel"
   ]
  },
  {
   "cell_type": "code",
   "execution_count": 54,
   "metadata": {},
   "outputs": [
    {
     "data": {
      "text/plain": [
       "SelectFromModel(estimator=LogisticRegression(C=0.002, class_weight=None,\n",
       "                                             dual=False, fit_intercept=True,\n",
       "                                             intercept_scaling=1, l1_ratio=None,\n",
       "                                             max_iter=100, multi_class='auto',\n",
       "                                             n_jobs=None, penalty='l1',\n",
       "                                             random_state=None,\n",
       "                                             solver='liblinear', tol=0.0001,\n",
       "                                             verbose=0, warm_start=False),\n",
       "                max_features=None, norm_order=1, prefit=False, threshold=None)"
      ]
     },
     "execution_count": 54,
     "metadata": {},
     "output_type": "execute_result"
    }
   ],
   "source": [
    "sel_ = SelectFromModel(LogisticRegression(C=0.002, penalty='l1',solver='liblinear'))\n",
    "sel_.fit(X_train_res, y_train_res)"
   ]
  },
  {
   "cell_type": "markdown",
   "metadata": {},
   "source": [
    "### Visualising features that were kept by the lasso regularisation\n",
    "\n",
    "##### True is for the features that lasso thought is important (non-zero features) while False is for the features whose weights were shrinked to zero and are not important according to Lasso."
   ]
  },
  {
   "cell_type": "code",
   "execution_count": 55,
   "metadata": {},
   "outputs": [
    {
     "data": {
      "text/plain": [
       "array([ True,  True,  True,  True,  True,  True,  True,  True,  True,\n",
       "        True,  True, False,  True,  True,  True,  True, False,  True,\n",
       "        True,  True, False,  True,  True, False, False, False, False,\n",
       "       False, False, False, False, False, False,  True, False, False,\n",
       "       False, False, False, False, False, False, False, False, False,\n",
       "       False, False, False, False, False, False, False, False, False,\n",
       "       False, False, False, False, False, False, False,  True,  True,\n",
       "        True,  True,  True,  True, False,  True, False, False,  True,\n",
       "       False, False, False, False,  True, False, False, False, False])"
      ]
     },
     "execution_count": 55,
     "metadata": {},
     "output_type": "execute_result"
    }
   ],
   "source": [
    "sel_.get_support()"
   ]
  },
  {
   "cell_type": "code",
   "execution_count": 56,
   "metadata": {},
   "outputs": [
    {
     "name": "stdout",
     "output_type": "stream",
     "text": [
      "total features: 81\n",
      "selected features: 30\n",
      "features with coefficients shrank to zero: 51\n"
     ]
    }
   ],
   "source": [
    "selected_feat = X_train.columns[(sel_.get_support())]\n",
    "print('total features: {}'.format((X_train.shape[1])))\n",
    "print('selected features: {}'.format(len(selected_feat)))\n",
    "print('features with coefficients shrank to zero: {}'.format(\n",
    "      np.sum(sel_.estimator_.coef_ == 0)))"
   ]
  },
  {
   "cell_type": "code",
   "execution_count": 57,
   "metadata": {
    "scrolled": true
   },
   "outputs": [
    {
     "data": {
      "text/plain": [
       "Index(['revol_util', 'collection_recovery_fee', 'grade_B', 'grade_E',\n",
       "       'grade_F', 'grade_G', 'sub_grade_A1', 'sub_grade_A2', 'sub_grade_A3',\n",
       "       'sub_grade_A4', 'sub_grade_A5', 'sub_grade_B1', 'sub_grade_B2',\n",
       "       'sub_grade_B4', 'sub_grade_B5', 'sub_grade_C1', 'sub_grade_C2',\n",
       "       'sub_grade_C3', 'sub_grade_C4', 'sub_grade_C5', 'sub_grade_D1',\n",
       "       'sub_grade_D2', 'sub_grade_D3', 'sub_grade_D4', 'sub_grade_D5',\n",
       "       'sub_grade_E1', 'sub_grade_E2', 'sub_grade_E3', 'sub_grade_E4',\n",
       "       'sub_grade_E5', 'sub_grade_F1', 'sub_grade_F2', 'sub_grade_F3',\n",
       "       'sub_grade_F4', 'sub_grade_F5', 'sub_grade_G1', 'sub_grade_G2',\n",
       "       'sub_grade_G3', 'sub_grade_G4', 'sub_grade_G5', 'purpose_car',\n",
       "       'purpose_debt_consolidation', 'purpose_educational', 'purpose_house',\n",
       "       'purpose_major_purchase', 'purpose_medical', 'purpose_moving',\n",
       "       'purpose_renewable_energy', 'purpose_small_business',\n",
       "       'purpose_vacation', 'purpose_wedding'],\n",
       "      dtype='object')"
      ]
     },
     "execution_count": 57,
     "metadata": {},
     "output_type": "execute_result"
    }
   ],
   "source": [
    "removed_feats = X_train.columns[(sel_.estimator_.coef_ == 0).ravel().tolist()]\n",
    "removed_feats"
   ]
  },
  {
   "cell_type": "code",
   "execution_count": 58,
   "metadata": {},
   "outputs": [
    {
     "data": {
      "text/plain": [
       "Index(['loan_amnt', 'term', 'int_rate', 'emp_length', 'annual_inc', 'dti',\n",
       "       'delinq_2yrs', 'inq_last_6mths', 'open_acc', 'pub_rec', 'revol_bal',\n",
       "       'initial_list_status', 'total_rec_int', 'total_rec_late_fee',\n",
       "       'recoveries', 'last_pymnt_amnt', 'collections_12_mths_ex_med',\n",
       "       'grade_A', 'grade_C', 'grade_D', 'sub_grade_B3',\n",
       "       'home_ownership_MORTGAGE', 'home_ownership_OWN', 'home_ownership_RENT',\n",
       "       'verification_status_Not Verified',\n",
       "       'verification_status_Source Verified', 'verification_status_Verified',\n",
       "       'purpose_credit_card', 'purpose_home_improvement', 'purpose_other'],\n",
       "      dtype='object')"
      ]
     },
     "execution_count": 58,
     "metadata": {},
     "output_type": "execute_result"
    }
   ],
   "source": [
    "selected_feats = X_train.columns[(sel_.estimator_.coef_ != 0).ravel().tolist()]\n",
    "selected_feats"
   ]
  },
  {
   "cell_type": "markdown",
   "metadata": {},
   "source": [
    "### Deleting the unused columns and taking only the columns selected by Lasso"
   ]
  },
  {
   "cell_type": "code",
   "execution_count": 59,
   "metadata": {},
   "outputs": [
    {
     "data": {
      "text/plain": [
       "((189589, 30), (63197, 30))"
      ]
     },
     "execution_count": 59,
     "metadata": {},
     "output_type": "execute_result"
    }
   ],
   "source": [
    "X_train_selected = sel_.transform(X_train.fillna(0))\n",
    "X_test_selected = sel_.transform(X_test.fillna(0))\n",
    "X_train_selected.shape, X_test_selected.shape"
   ]
  },
  {
   "cell_type": "markdown",
   "metadata": {},
   "source": [
    "### As the sample was imbalanced doing smote transformation to balanced the data"
   ]
  },
  {
   "cell_type": "code",
   "execution_count": 60,
   "metadata": {},
   "outputs": [],
   "source": [
    "X_train_sel_res, y_train_sel_res = sm.fit_sample(X_train_selected, y_train)"
   ]
  },
  {
   "cell_type": "markdown",
   "metadata": {},
   "source": [
    "### Applying the selected feature test to Random Forest "
   ]
  },
  {
   "cell_type": "code",
   "execution_count": 61,
   "metadata": {},
   "outputs": [
    {
     "data": {
      "text/plain": [
       "RandomForestClassifier(bootstrap=True, ccp_alpha=0.0, class_weight=None,\n",
       "                       criterion='gini', max_depth=None, max_features='auto',\n",
       "                       max_leaf_nodes=None, max_samples=None,\n",
       "                       min_impurity_decrease=0.0, min_impurity_split=None,\n",
       "                       min_samples_leaf=1, min_samples_split=2,\n",
       "                       min_weight_fraction_leaf=0.0, n_estimators=100,\n",
       "                       n_jobs=None, oob_score=False, random_state=None,\n",
       "                       verbose=0, warm_start=False)"
      ]
     },
     "execution_count": 61,
     "metadata": {},
     "output_type": "execute_result"
    }
   ],
   "source": [
    "rf = RandomForestClassifier()\n",
    "rf.fit(X_train_sel_res, y_train_sel_res)"
   ]
  },
  {
   "cell_type": "code",
   "execution_count": 62,
   "metadata": {},
   "outputs": [
    {
     "name": "stdout",
     "output_type": "stream",
     "text": [
      "Validation Results\n",
      "0.9689225754387075\n",
      "0.9082992713701795\n",
      "0.9123527311674401\n",
      "0.9451782632191176\n",
      "0.9164425318271472\n"
     ]
    }
   ],
   "source": [
    "print('Validation Results')\n",
    "print(rf.score(X_test_selected, y_test))\n",
    "print(recall_score(y_test, rf.predict(X_test_selected)))\n",
    "print(f1_score(y_test, rf.predict(X_test_selected)))\n",
    "print(roc_auc_score(y_test, rf.predict(X_test_selected)))\n",
    "print(precision_score(y_test, rf.predict(X_test_selected)))"
   ]
  },
  {
   "cell_type": "code",
   "execution_count": 63,
   "metadata": {},
   "outputs": [
    {
     "data": {
      "text/plain": [
       "<matplotlib.axes._subplots.AxesSubplot at 0xf6cdd48>"
      ]
     },
     "execution_count": 63,
     "metadata": {},
     "output_type": "execute_result"
    },
    {
     "data": {
      "image/png": "[encoded data removed]",
      "text/plain": [
       "<Figure size 432x288 with 2 Axes>"
      ]
     },
     "metadata": {
      "needs_background": "light"
     },
     "output_type": "display_data"
    }
   ],
   "source": [
    "y_predict=rf.predict(X_test_selected)\n",
    "cm=confusion_matrix(y_test,y_predict)\n",
    "sns.heatmap(cm , annot=True)"
   ]
  },
  {
   "cell_type": "markdown",
   "metadata": {},
   "source": [
    "## Checking Feature importance according to Random Forest"
   ]
  },
  {
   "cell_type": "code",
   "execution_count": 64,
   "metadata": {},
   "outputs": [
    {
     "data": {
      "text/plain": [
       "RandomForestClassifier(bootstrap=True, ccp_alpha=0.0, class_weight=None,\n",
       "                       criterion='gini', max_depth=None, max_features='auto',\n",
       "                       max_leaf_nodes=None, max_samples=None,\n",
       "                       min_impurity_decrease=0.0, min_impurity_split=None,\n",
       "                       min_samples_leaf=1, min_samples_split=2,\n",
       "                       min_weight_fraction_leaf=0.0, n_estimators=100,\n",
       "                       n_jobs=None, oob_score=False, random_state=None,\n",
       "                       verbose=0, warm_start=False)"
      ]
     },
     "execution_count": 64,
     "metadata": {},
     "output_type": "execute_result"
    }
   ],
   "source": [
    "rf1 = RandomForestClassifier()\n",
    "rf1.fit(X_train_res, y_train_res)\n"
   ]
  },
  {
   "cell_type": "code",
   "execution_count": 65,
   "metadata": {},
   "outputs": [
    {
     "name": "stdout",
     "output_type": "stream",
     "text": [
      "Validation Results\n",
      "0.966090162507714\n",
      "0.8990581126710503\n",
      "0.9042405826891281\n",
      "0.9398357386603813\n",
      "0.9094831460674158\n"
     ]
    }
   ],
   "source": [
    "print('Validation Results')\n",
    "print(rf1.score(X_test, y_test))\n",
    "print(recall_score(y_test, rf1.predict(X_test)))\n",
    "print(f1_score(y_test, rf1.predict(X_test)))\n",
    "print(roc_auc_score(y_test, rf1.predict(X_test)))\n",
    "print(precision_score(y_test, rf1.predict(X_test)))"
   ]
  },
  {
   "cell_type": "code",
   "execution_count": 66,
   "metadata": {},
   "outputs": [
    {
     "data": {
      "text/plain": [
       "<matplotlib.axes._subplots.AxesSubplot at 0x16b70308>"
      ]
     },
     "execution_count": 66,
     "metadata": {},
     "output_type": "execute_result"
    },
    {
     "data": {
      "image/png": "[encoded data removed]",
      "text/plain": [
       "<Figure size 432x288 with 2 Axes>"
      ]
     },
     "metadata": {
      "needs_background": "light"
     },
     "output_type": "display_data"
    }
   ],
   "source": [
    "y_predict=rf1.predict(X_test)\n",
    "cm=confusion_matrix(y_test,y_predict)\n",
    "sns.heatmap(cm , annot=True)"
   ]
  },
  {
   "cell_type": "markdown",
   "metadata": {},
   "source": [
    "### Features DataFrame"
   ]
  },
  {
   "cell_type": "code",
   "execution_count": 67,
   "metadata": {},
   "outputs": [],
   "source": [
    "features=pd.DataFrame({'Importance':rf1.feature_importances_},index=X_test.columns)\n",
    "features=features.sort_values(by=['Importance'],ascending=False)"
   ]
  },
  {
   "cell_type": "code",
   "execution_count": 68,
   "metadata": {
    "scrolled": true
   },
   "outputs": [
    {
     "data": {
      "text/html": [
       "<div>\n",
       "<style scoped>\n",
       "    .dataframe tbody tr th:only-of-type {\n",
       "        vertical-align: middle;\n",
       "    }\n",
       "\n",
       "    .dataframe tbody tr th {\n",
       "        vertical-align: top;\n",
       "    }\n",
       "\n",
       "    .dataframe thead th {\n",
       "        text-align: right;\n",
       "    }\n",
       "</style>\n",
       "<table border=\"1\" class=\"dataframe\">\n",
       "  <thead>\n",
       "    <tr style=\"text-align: right;\">\n",
       "      <th></th>\n",
       "      <th>Importance</th>\n",
       "    </tr>\n",
       "  </thead>\n",
       "  <tbody>\n",
       "    <tr>\n",
       "      <th>last_pymnt_amnt</th>\n",
       "      <td>0.395506</td>\n",
       "    </tr>\n",
       "    <tr>\n",
       "      <th>recoveries</th>\n",
       "      <td>0.160736</td>\n",
       "    </tr>\n",
       "    <tr>\n",
       "      <th>collection_recovery_fee</th>\n",
       "      <td>0.122144</td>\n",
       "    </tr>\n",
       "    <tr>\n",
       "      <th>int_rate</th>\n",
       "      <td>0.044527</td>\n",
       "    </tr>\n",
       "    <tr>\n",
       "      <th>total_rec_int</th>\n",
       "      <td>0.034122</td>\n",
       "    </tr>\n",
       "    <tr>\n",
       "      <th>loan_amnt</th>\n",
       "      <td>0.030283</td>\n",
       "    </tr>\n",
       "    <tr>\n",
       "      <th>dti</th>\n",
       "      <td>0.020348</td>\n",
       "    </tr>\n",
       "    <tr>\n",
       "      <th>annual_inc</th>\n",
       "      <td>0.020263</td>\n",
       "    </tr>\n",
       "    <tr>\n",
       "      <th>revol_util</th>\n",
       "      <td>0.016767</td>\n",
       "    </tr>\n",
       "    <tr>\n",
       "      <th>open_acc</th>\n",
       "      <td>0.016654</td>\n",
       "    </tr>\n",
       "    <tr>\n",
       "      <th>emp_length</th>\n",
       "      <td>0.014961</td>\n",
       "    </tr>\n",
       "    <tr>\n",
       "      <th>revol_bal</th>\n",
       "      <td>0.014646</td>\n",
       "    </tr>\n",
       "    <tr>\n",
       "      <th>grade_A</th>\n",
       "      <td>0.013094</td>\n",
       "    </tr>\n",
       "    <tr>\n",
       "      <th>total_rec_late_fee</th>\n",
       "      <td>0.010701</td>\n",
       "    </tr>\n",
       "    <tr>\n",
       "      <th>initial_list_status</th>\n",
       "      <td>0.007437</td>\n",
       "    </tr>\n",
       "  </tbody>\n",
       "</table>\n",
       "</div>"
      ],
      "text/plain": [
       "                         Importance\n",
       "last_pymnt_amnt            0.395506\n",
       "recoveries                 0.160736\n",
       "collection_recovery_fee    0.122144\n",
       "int_rate                   0.044527\n",
       "total_rec_int              0.034122\n",
       "loan_amnt                  0.030283\n",
       "dti                        0.020348\n",
       "annual_inc                 0.020263\n",
       "revol_util                 0.016767\n",
       "open_acc                   0.016654\n",
       "emp_length                 0.014961\n",
       "revol_bal                  0.014646\n",
       "grade_A                    0.013094\n",
       "total_rec_late_fee         0.010701\n",
       "initial_list_status        0.007437"
      ]
     },
     "execution_count": 68,
     "metadata": {},
     "output_type": "execute_result"
    }
   ],
   "source": [
    "features[:15]"
   ]
  },
  {
   "cell_type": "code",
   "execution_count": 69,
   "metadata": {},
   "outputs": [
    {
     "data": {
      "text/plain": [
       "[]"
      ]
     },
     "execution_count": 69,
     "metadata": {},
     "output_type": "execute_result"
    },
    {
     "data": {
      "image/png": "[encoded data removed]",
      "text/plain": [
       "<Figure size 1008x360 with 1 Axes>"
      ]
     },
     "metadata": {
      "needs_background": "light"
     },
     "output_type": "display_data"
    }
   ],
   "source": [
    "plt.figure(figsize=[14,5])\n",
    "sns.barplot(x=features.index[:10],y=features.Importance[:10])\n",
    "plt.plot()"
   ]
  },
  {
   "cell_type": "markdown",
   "metadata": {},
   "source": [
    "### K-fold Cross Validation"
   ]
  },
  {
   "cell_type": "code",
   "execution_count": 70,
   "metadata": {},
   "outputs": [
    {
     "name": "stdout",
     "output_type": "stream",
     "text": [
      "Accuracy of Logistic Regression: 94.24 %\n"
     ]
    }
   ],
   "source": [
    "lasso_log = cross_val_score(LogisticRegression(max_iter=2000), X_train_sel_res, y_train_sel_res, scoring = 'accuracy',\n",
    "                            cv = KFold(5, shuffle = True))\n",
    "\n",
    "print(\"Accuracy of Logistic Regression: %.2f\"%(np.mean(lasso_log)*100), \"%\")"
   ]
  },
  {
   "cell_type": "code",
   "execution_count": 71,
   "metadata": {},
   "outputs": [
    {
     "name": "stdout",
     "output_type": "stream",
     "text": [
      "Accuracy of Decision Tree : 97.32 %\n",
      "Accuracy of Random Forest: 98.35 %\n"
     ]
    }
   ],
   "source": [
    "lasso_tree = cross_val_score(DecisionTreeClassifier(), X_train_sel_res, y_train_sel_res, \n",
    "                                   scoring = 'accuracy', cv = KFold(10, \n",
    "                                   shuffle = True))\n",
    "lasso_forest = cross_val_score(RandomForestClassifier(),  X_train_sel_res, y_train_sel_res, scoring = 'accuracy', \n",
    "                                  cv = KFold(10, shuffle = True))\n",
    "print(\"Accuracy of Decision Tree : %.2f\"%(np.mean(lasso_tree)*100), \"%\")\n",
    "print(\"Accuracy of Random Forest: %.2f\"%(np.mean(lasso_forest)*100), \"%\")"
   ]
  },
  {
   "cell_type": "code",
   "execution_count": null,
   "metadata": {},
   "outputs": [],
   "source": []
  }
 ],
 "metadata": {
  "kernelspec": {
   "display_name": "Python 3",
   "language": "python",
   "name": "python3"
  },
  "language_info": {
   "codemirror_mode": {
    "name": "ipython",
    "version": 3
   },
   "file_extension": ".py",
   "mimetype": "text/x-python",
   "name": "python",
   "nbconvert_exporter": "python",
   "pygments_lexer": "ipython3",
   "version": "3.7.6"
  }
 },
 "nbformat": 4,
 "nbformat_minor": 4
}
