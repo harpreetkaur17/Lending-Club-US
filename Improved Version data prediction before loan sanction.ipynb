{
 "cells": [
  {
   "cell_type": "code",
   "execution_count": 48,
   "metadata": {},
   "outputs": [],
   "source": [
    "import pandas as pd\n",
    "import numpy as np\n",
    "import matplotlib.pyplot as plt\n",
    "import seaborn as sns\n",
    "\n",
    "from sklearn.preprocessing import LabelEncoder\n",
    "from sklearn.preprocessing import StandardScaler\n",
    "\n",
    "from imblearn.over_sampling import SMOTE\n",
    "\n",
    "from sklearn.model_selection import train_test_split\n",
    "from sklearn.model_selection import cross_val_score\n",
    "from sklearn.model_selection import KFold\n",
    "from sklearn.feature_selection import SelectFromModel\n",
    "\n",
    "\n",
    "from sklearn.linear_model import LogisticRegression\n",
    "from sklearn.linear_model import Lasso\n",
    "from sklearn.ensemble import RandomForestClassifier,GradientBoostingClassifier\n",
    "from sklearn.tree import DecisionTreeClassifier\n",
    "\n",
    "\n",
    "from sklearn.metrics import confusion_matrix,classification_report\n",
    "\n",
    "from sklearn.metrics import recall_score , accuracy_score ,precision_score,f1_score,roc_auc_score\n",
    "\n",
    "from sklearn.metrics import confusion_matrix,classification_report\n",
    "from imblearn.metrics import sensitivity_specificity_support\n",
    "from imblearn.metrics import sensitivity_score ,specificity_score\n",
    "from sklearn.metrics import recall_score , accuracy_score ,precision_score,f1_score,roc_auc_score\n",
    "import statsmodels.api as sms\n",
    "from sklearn.model_selection import GridSearchCV\n",
    "from sklearn.metrics import roc_auc_score,roc_curve,precision_recall_curve,precision_score"
   ]
  },
  {
   "cell_type": "code",
   "execution_count": 9,
   "metadata": {},
   "outputs": [],
   "source": [
    "data=pd.read_csv('before_loan_cleaned_data.csv',parse_dates=['issue_d','earliest_cr_line'])"
   ]
  },
  {
   "cell_type": "code",
   "execution_count": 10,
   "metadata": {},
   "outputs": [],
   "source": [
    "dataloan=data.copy()"
   ]
  },
  {
   "cell_type": "code",
   "execution_count": 11,
   "metadata": {},
   "outputs": [],
   "source": [
    "data.drop('Unnamed: 0',inplace=True,axis=1)"
   ]
  },
  {
   "cell_type": "markdown",
   "metadata": {},
   "source": [
    "\n",
    "### We can also drop issue month,issue date and issue year as our testing data is only og 1 year so it wont make any difference\n"
   ]
  },
  {
   "cell_type": "code",
   "execution_count": 12,
   "metadata": {},
   "outputs": [],
   "source": [
    "data.drop(['issue_d','issue_month','issue_year'],axis=1, inplace=True)"
   ]
  },
  {
   "cell_type": "code",
   "execution_count": 13,
   "metadata": {},
   "outputs": [],
   "source": [
    "numerical_vars = list(data.select_dtypes(exclude='object').columns)"
   ]
  },
  {
   "cell_type": "code",
   "execution_count": 14,
   "metadata": {},
   "outputs": [
    {
     "data": {
      "text/plain": [
       "['loan_amnt',\n",
       " 'int_rate',\n",
       " 'emp_length',\n",
       " 'annual_inc',\n",
       " 'dti',\n",
       " 'earliest_cr_line',\n",
       " 'open_acc',\n",
       " 'pub_rec',\n",
       " 'revol_bal',\n",
       " 'revol_util']"
      ]
     },
     "execution_count": 14,
     "metadata": {},
     "output_type": "execute_result"
    }
   ],
   "source": [
    "numerical_vars"
   ]
  },
  {
   "cell_type": "code",
   "execution_count": 15,
   "metadata": {},
   "outputs": [],
   "source": [
    "data['loan_status']=np.where(data['loan_status']=='Charged Off',1,0)"
   ]
  },
  {
   "cell_type": "code",
   "execution_count": 16,
   "metadata": {},
   "outputs": [
    {
     "name": "stdout",
     "output_type": "stream",
     "text": [
      "term\n",
      "initial_list_status\n",
      "total_columns updated 2\n"
     ]
    }
   ],
   "source": [
    "lab= LabelEncoder()\n",
    "col_count=0\n",
    "for i in data:\n",
    "    if data[i].dtype=='O' and data[i].nunique()<=2:\n",
    "        if data[i].isnull().any()==False:\n",
    "            lab.fit(data[i])\n",
    "            data[i]=lab.transform(data[i])\n",
    "            print(i)\n",
    "            col_count+=1\n",
    "            \n",
    "print(\"total_columns updated\",col_count)"
   ]
  },
  {
   "cell_type": "markdown",
   "metadata": {},
   "source": [
    "### Here we have Grade and Subgrade but we know subgrade is further division of grade so we can remove grade column and just keep the subgrade"
   ]
  },
  {
   "cell_type": "code",
   "execution_count": 17,
   "metadata": {},
   "outputs": [],
   "source": [
    "data.drop('grade',axis=1,inplace=True)"
   ]
  },
  {
   "cell_type": "code",
   "execution_count": 18,
   "metadata": {},
   "outputs": [],
   "source": [
    "data=pd.get_dummies(data)"
   ]
  },
  {
   "cell_type": "code",
   "execution_count": 19,
   "metadata": {},
   "outputs": [],
   "source": [
    "y=data['loan_status']\n",
    "X=data.drop('loan_status',axis=1)"
   ]
  },
  {
   "cell_type": "code",
   "execution_count": 20,
   "metadata": {},
   "outputs": [
    {
     "data": {
      "text/plain": [
       "Index(['loan_amnt', 'term', 'int_rate', 'emp_length', 'annual_inc', 'dti',\n",
       "       'earliest_cr_line', 'open_acc', 'pub_rec', 'revol_bal',\n",
       "       ...\n",
       "       'addr_state_SD', 'addr_state_TN', 'addr_state_TX', 'addr_state_UT',\n",
       "       'addr_state_VA', 'addr_state_VT', 'addr_state_WA', 'addr_state_WI',\n",
       "       'addr_state_WV', 'addr_state_WY'],\n",
       "      dtype='object', length=118)"
      ]
     },
     "execution_count": 20,
     "metadata": {},
     "output_type": "execute_result"
    }
   ],
   "source": [
    "X.columns"
   ]
  },
  {
   "cell_type": "code",
   "execution_count": 21,
   "metadata": {},
   "outputs": [],
   "source": [
    "X_train, X_test , y_train , y_test = train_test_split(X,y,test_size=0.25 , random_state=50)"
   ]
  },
  {
   "cell_type": "code",
   "execution_count": 22,
   "metadata": {},
   "outputs": [
    {
     "name": "stderr",
     "output_type": "stream",
     "text": [
      "D:\\Installation\\lib\\site-packages\\ipykernel_launcher.py:7: SettingWithCopyWarning: \n",
      "A value is trying to be set on a copy of a slice from a DataFrame.\n",
      "Try using .loc[row_indexer,col_indexer] = value instead\n",
      "\n",
      "See the caveats in the documentation: https://pandas.pydata.org/pandas-docs/stable/user_guide/indexing.html#returning-a-view-versus-a-copy\n",
      "  import sys\n",
      "D:\\Installation\\lib\\site-packages\\ipykernel_launcher.py:10: SettingWithCopyWarning: \n",
      "A value is trying to be set on a copy of a slice from a DataFrame.\n",
      "Try using .loc[row_indexer,col_indexer] = value instead\n",
      "\n",
      "See the caveats in the documentation: https://pandas.pydata.org/pandas-docs/stable/user_guide/indexing.html#returning-a-view-versus-a-copy\n",
      "  # Remove the CWD from sys.path while we load stuff.\n",
      "D:\\Installation\\lib\\site-packages\\ipykernel_launcher.py:7: SettingWithCopyWarning: \n",
      "A value is trying to be set on a copy of a slice from a DataFrame.\n",
      "Try using .loc[row_indexer,col_indexer] = value instead\n",
      "\n",
      "See the caveats in the documentation: https://pandas.pydata.org/pandas-docs/stable/user_guide/indexing.html#returning-a-view-versus-a-copy\n",
      "  import sys\n",
      "D:\\Installation\\lib\\site-packages\\ipykernel_launcher.py:10: SettingWithCopyWarning: \n",
      "A value is trying to be set on a copy of a slice from a DataFrame.\n",
      "Try using .loc[row_indexer,col_indexer] = value instead\n",
      "\n",
      "See the caveats in the documentation: https://pandas.pydata.org/pandas-docs/stable/user_guide/indexing.html#returning-a-view-versus-a-copy\n",
      "  # Remove the CWD from sys.path while we load stuff.\n",
      "D:\\Installation\\lib\\site-packages\\ipykernel_launcher.py:7: SettingWithCopyWarning: \n",
      "A value is trying to be set on a copy of a slice from a DataFrame.\n",
      "Try using .loc[row_indexer,col_indexer] = value instead\n",
      "\n",
      "See the caveats in the documentation: https://pandas.pydata.org/pandas-docs/stable/user_guide/indexing.html#returning-a-view-versus-a-copy\n",
      "  import sys\n",
      "D:\\Installation\\lib\\site-packages\\ipykernel_launcher.py:10: SettingWithCopyWarning: \n",
      "A value is trying to be set on a copy of a slice from a DataFrame.\n",
      "Try using .loc[row_indexer,col_indexer] = value instead\n",
      "\n",
      "See the caveats in the documentation: https://pandas.pydata.org/pandas-docs/stable/user_guide/indexing.html#returning-a-view-versus-a-copy\n",
      "  # Remove the CWD from sys.path while we load stuff.\n",
      "D:\\Installation\\lib\\site-packages\\ipykernel_launcher.py:7: SettingWithCopyWarning: \n",
      "A value is trying to be set on a copy of a slice from a DataFrame.\n",
      "Try using .loc[row_indexer,col_indexer] = value instead\n",
      "\n",
      "See the caveats in the documentation: https://pandas.pydata.org/pandas-docs/stable/user_guide/indexing.html#returning-a-view-versus-a-copy\n",
      "  import sys\n",
      "D:\\Installation\\lib\\site-packages\\ipykernel_launcher.py:10: SettingWithCopyWarning: \n",
      "A value is trying to be set on a copy of a slice from a DataFrame.\n",
      "Try using .loc[row_indexer,col_indexer] = value instead\n",
      "\n",
      "See the caveats in the documentation: https://pandas.pydata.org/pandas-docs/stable/user_guide/indexing.html#returning-a-view-versus-a-copy\n",
      "  # Remove the CWD from sys.path while we load stuff.\n",
      "D:\\Installation\\lib\\site-packages\\ipykernel_launcher.py:7: SettingWithCopyWarning: \n",
      "A value is trying to be set on a copy of a slice from a DataFrame.\n",
      "Try using .loc[row_indexer,col_indexer] = value instead\n",
      "\n",
      "See the caveats in the documentation: https://pandas.pydata.org/pandas-docs/stable/user_guide/indexing.html#returning-a-view-versus-a-copy\n",
      "  import sys\n",
      "D:\\Installation\\lib\\site-packages\\ipykernel_launcher.py:10: SettingWithCopyWarning: \n",
      "A value is trying to be set on a copy of a slice from a DataFrame.\n",
      "Try using .loc[row_indexer,col_indexer] = value instead\n",
      "\n",
      "See the caveats in the documentation: https://pandas.pydata.org/pandas-docs/stable/user_guide/indexing.html#returning-a-view-versus-a-copy\n",
      "  # Remove the CWD from sys.path while we load stuff.\n",
      "D:\\Installation\\lib\\site-packages\\ipykernel_launcher.py:7: SettingWithCopyWarning: \n",
      "A value is trying to be set on a copy of a slice from a DataFrame.\n",
      "Try using .loc[row_indexer,col_indexer] = value instead\n",
      "\n",
      "See the caveats in the documentation: https://pandas.pydata.org/pandas-docs/stable/user_guide/indexing.html#returning-a-view-versus-a-copy\n",
      "  import sys\n",
      "D:\\Installation\\lib\\site-packages\\ipykernel_launcher.py:10: SettingWithCopyWarning: \n",
      "A value is trying to be set on a copy of a slice from a DataFrame.\n",
      "Try using .loc[row_indexer,col_indexer] = value instead\n",
      "\n",
      "See the caveats in the documentation: https://pandas.pydata.org/pandas-docs/stable/user_guide/indexing.html#returning-a-view-versus-a-copy\n",
      "  # Remove the CWD from sys.path while we load stuff.\n",
      "D:\\Installation\\lib\\site-packages\\ipykernel_launcher.py:7: SettingWithCopyWarning: \n",
      "A value is trying to be set on a copy of a slice from a DataFrame.\n",
      "Try using .loc[row_indexer,col_indexer] = value instead\n",
      "\n",
      "See the caveats in the documentation: https://pandas.pydata.org/pandas-docs/stable/user_guide/indexing.html#returning-a-view-versus-a-copy\n",
      "  import sys\n",
      "D:\\Installation\\lib\\site-packages\\ipykernel_launcher.py:10: SettingWithCopyWarning: \n",
      "A value is trying to be set on a copy of a slice from a DataFrame.\n",
      "Try using .loc[row_indexer,col_indexer] = value instead\n",
      "\n",
      "See the caveats in the documentation: https://pandas.pydata.org/pandas-docs/stable/user_guide/indexing.html#returning-a-view-versus-a-copy\n",
      "  # Remove the CWD from sys.path while we load stuff.\n",
      "D:\\Installation\\lib\\site-packages\\ipykernel_launcher.py:7: SettingWithCopyWarning: \n",
      "A value is trying to be set on a copy of a slice from a DataFrame.\n",
      "Try using .loc[row_indexer,col_indexer] = value instead\n",
      "\n",
      "See the caveats in the documentation: https://pandas.pydata.org/pandas-docs/stable/user_guide/indexing.html#returning-a-view-versus-a-copy\n",
      "  import sys\n",
      "D:\\Installation\\lib\\site-packages\\ipykernel_launcher.py:10: SettingWithCopyWarning: \n",
      "A value is trying to be set on a copy of a slice from a DataFrame.\n",
      "Try using .loc[row_indexer,col_indexer] = value instead\n",
      "\n",
      "See the caveats in the documentation: https://pandas.pydata.org/pandas-docs/stable/user_guide/indexing.html#returning-a-view-versus-a-copy\n",
      "  # Remove the CWD from sys.path while we load stuff.\n",
      "D:\\Installation\\lib\\site-packages\\ipykernel_launcher.py:7: SettingWithCopyWarning: \n",
      "A value is trying to be set on a copy of a slice from a DataFrame.\n",
      "Try using .loc[row_indexer,col_indexer] = value instead\n",
      "\n",
      "See the caveats in the documentation: https://pandas.pydata.org/pandas-docs/stable/user_guide/indexing.html#returning-a-view-versus-a-copy\n",
      "  import sys\n",
      "D:\\Installation\\lib\\site-packages\\ipykernel_launcher.py:10: SettingWithCopyWarning: \n",
      "A value is trying to be set on a copy of a slice from a DataFrame.\n",
      "Try using .loc[row_indexer,col_indexer] = value instead\n",
      "\n",
      "See the caveats in the documentation: https://pandas.pydata.org/pandas-docs/stable/user_guide/indexing.html#returning-a-view-versus-a-copy\n",
      "  # Remove the CWD from sys.path while we load stuff.\n",
      "D:\\Installation\\lib\\site-packages\\ipykernel_launcher.py:7: SettingWithCopyWarning: \n",
      "A value is trying to be set on a copy of a slice from a DataFrame.\n",
      "Try using .loc[row_indexer,col_indexer] = value instead\n",
      "\n",
      "See the caveats in the documentation: https://pandas.pydata.org/pandas-docs/stable/user_guide/indexing.html#returning-a-view-versus-a-copy\n",
      "  import sys\n",
      "D:\\Installation\\lib\\site-packages\\ipykernel_launcher.py:10: SettingWithCopyWarning: \n",
      "A value is trying to be set on a copy of a slice from a DataFrame.\n",
      "Try using .loc[row_indexer,col_indexer] = value instead\n",
      "\n",
      "See the caveats in the documentation: https://pandas.pydata.org/pandas-docs/stable/user_guide/indexing.html#returning-a-view-versus-a-copy\n",
      "  # Remove the CWD from sys.path while we load stuff.\n"
     ]
    }
   ],
   "source": [
    "for i in numerical_vars:\n",
    "    \n",
    "    # fit on training data column\n",
    "    scale = StandardScaler().fit(X_train[[i]])\n",
    "    \n",
    "    # transform the training data column\n",
    "    X_train[i] = scale.transform(X_train[[i]])\n",
    "    \n",
    "    # transform the testing data column\n",
    "    X_test[i] = scale.transform(X_test[[i]])"
   ]
  },
  {
   "cell_type": "code",
   "execution_count": 23,
   "metadata": {},
   "outputs": [
    {
     "data": {
      "text/html": [
       "<div>\n",
       "<style scoped>\n",
       "    .dataframe tbody tr th:only-of-type {\n",
       "        vertical-align: middle;\n",
       "    }\n",
       "\n",
       "    .dataframe tbody tr th {\n",
       "        vertical-align: top;\n",
       "    }\n",
       "\n",
       "    .dataframe thead th {\n",
       "        text-align: right;\n",
       "    }\n",
       "</style>\n",
       "<table border=\"1\" class=\"dataframe\">\n",
       "  <thead>\n",
       "    <tr style=\"text-align: right;\">\n",
       "      <th></th>\n",
       "      <th>loan_amnt</th>\n",
       "      <th>term</th>\n",
       "      <th>int_rate</th>\n",
       "      <th>emp_length</th>\n",
       "      <th>annual_inc</th>\n",
       "      <th>dti</th>\n",
       "      <th>earliest_cr_line</th>\n",
       "      <th>open_acc</th>\n",
       "      <th>pub_rec</th>\n",
       "      <th>revol_bal</th>\n",
       "      <th>...</th>\n",
       "      <th>addr_state_SD</th>\n",
       "      <th>addr_state_TN</th>\n",
       "      <th>addr_state_TX</th>\n",
       "      <th>addr_state_UT</th>\n",
       "      <th>addr_state_VA</th>\n",
       "      <th>addr_state_VT</th>\n",
       "      <th>addr_state_WA</th>\n",
       "      <th>addr_state_WI</th>\n",
       "      <th>addr_state_WV</th>\n",
       "      <th>addr_state_WY</th>\n",
       "    </tr>\n",
       "  </thead>\n",
       "  <tbody>\n",
       "    <tr>\n",
       "      <th>8627</th>\n",
       "      <td>2.631968</td>\n",
       "      <td>0</td>\n",
       "      <td>0.048673</td>\n",
       "      <td>-0.560906</td>\n",
       "      <td>-0.003047</td>\n",
       "      <td>0.326738</td>\n",
       "      <td>0.690230</td>\n",
       "      <td>0.012901</td>\n",
       "      <td>-0.329319</td>\n",
       "      <td>0.418897</td>\n",
       "      <td>...</td>\n",
       "      <td>0</td>\n",
       "      <td>0</td>\n",
       "      <td>0</td>\n",
       "      <td>0</td>\n",
       "      <td>0</td>\n",
       "      <td>0</td>\n",
       "      <td>0</td>\n",
       "      <td>0</td>\n",
       "      <td>0</td>\n",
       "      <td>0</td>\n",
       "    </tr>\n",
       "    <tr>\n",
       "      <th>23348</th>\n",
       "      <td>-0.684502</td>\n",
       "      <td>0</td>\n",
       "      <td>-1.506137</td>\n",
       "      <td>-0.560906</td>\n",
       "      <td>-0.369070</td>\n",
       "      <td>-1.064869</td>\n",
       "      <td>0.785533</td>\n",
       "      <td>-0.805951</td>\n",
       "      <td>-0.329319</td>\n",
       "      <td>-0.443137</td>\n",
       "      <td>...</td>\n",
       "      <td>0</td>\n",
       "      <td>0</td>\n",
       "      <td>0</td>\n",
       "      <td>0</td>\n",
       "      <td>0</td>\n",
       "      <td>0</td>\n",
       "      <td>0</td>\n",
       "      <td>0</td>\n",
       "      <td>0</td>\n",
       "      <td>0</td>\n",
       "    </tr>\n",
       "    <tr>\n",
       "      <th>78898</th>\n",
       "      <td>-1.347796</td>\n",
       "      <td>0</td>\n",
       "      <td>1.349266</td>\n",
       "      <td>0.023369</td>\n",
       "      <td>-0.630515</td>\n",
       "      <td>2.072991</td>\n",
       "      <td>-2.139422</td>\n",
       "      <td>0.012901</td>\n",
       "      <td>-0.329319</td>\n",
       "      <td>-0.131567</td>\n",
       "      <td>...</td>\n",
       "      <td>0</td>\n",
       "      <td>0</td>\n",
       "      <td>1</td>\n",
       "      <td>0</td>\n",
       "      <td>0</td>\n",
       "      <td>0</td>\n",
       "      <td>0</td>\n",
       "      <td>0</td>\n",
       "      <td>0</td>\n",
       "      <td>0</td>\n",
       "    </tr>\n",
       "    <tr>\n",
       "      <th>18933</th>\n",
       "      <td>-0.193173</td>\n",
       "      <td>1</td>\n",
       "      <td>-0.605028</td>\n",
       "      <td>-1.145182</td>\n",
       "      <td>-0.123965</td>\n",
       "      <td>-0.534182</td>\n",
       "      <td>0.236466</td>\n",
       "      <td>0.422327</td>\n",
       "      <td>-0.329319</td>\n",
       "      <td>-0.030434</td>\n",
       "      <td>...</td>\n",
       "      <td>0</td>\n",
       "      <td>0</td>\n",
       "      <td>0</td>\n",
       "      <td>0</td>\n",
       "      <td>0</td>\n",
       "      <td>0</td>\n",
       "      <td>0</td>\n",
       "      <td>0</td>\n",
       "      <td>0</td>\n",
       "      <td>0</td>\n",
       "    </tr>\n",
       "    <tr>\n",
       "      <th>202580</th>\n",
       "      <td>-0.653794</td>\n",
       "      <td>0</td>\n",
       "      <td>0.416380</td>\n",
       "      <td>-0.560906</td>\n",
       "      <td>-0.565154</td>\n",
       "      <td>-0.063889</td>\n",
       "      <td>-0.229064</td>\n",
       "      <td>-0.191812</td>\n",
       "      <td>1.962558</td>\n",
       "      <td>-0.645720</td>\n",
       "      <td>...</td>\n",
       "      <td>0</td>\n",
       "      <td>0</td>\n",
       "      <td>0</td>\n",
       "      <td>0</td>\n",
       "      <td>0</td>\n",
       "      <td>0</td>\n",
       "      <td>0</td>\n",
       "      <td>0</td>\n",
       "      <td>0</td>\n",
       "      <td>0</td>\n",
       "    </tr>\n",
       "    <tr>\n",
       "      <th>...</th>\n",
       "      <td>...</td>\n",
       "      <td>...</td>\n",
       "      <td>...</td>\n",
       "      <td>...</td>\n",
       "      <td>...</td>\n",
       "      <td>...</td>\n",
       "      <td>...</td>\n",
       "      <td>...</td>\n",
       "      <td>...</td>\n",
       "      <td>...</td>\n",
       "      <td>...</td>\n",
       "      <td>...</td>\n",
       "      <td>...</td>\n",
       "      <td>...</td>\n",
       "      <td>...</td>\n",
       "      <td>...</td>\n",
       "      <td>...</td>\n",
       "      <td>...</td>\n",
       "      <td>...</td>\n",
       "      <td>...</td>\n",
       "      <td>...</td>\n",
       "    </tr>\n",
       "    <tr>\n",
       "      <th>179489</th>\n",
       "      <td>-0.316005</td>\n",
       "      <td>0</td>\n",
       "      <td>-1.381298</td>\n",
       "      <td>-1.437319</td>\n",
       "      <td>0.039438</td>\n",
       "      <td>-0.680667</td>\n",
       "      <td>0.989079</td>\n",
       "      <td>2.060031</td>\n",
       "      <td>-0.329319</td>\n",
       "      <td>-0.047140</td>\n",
       "      <td>...</td>\n",
       "      <td>0</td>\n",
       "      <td>0</td>\n",
       "      <td>0</td>\n",
       "      <td>0</td>\n",
       "      <td>0</td>\n",
       "      <td>0</td>\n",
       "      <td>0</td>\n",
       "      <td>0</td>\n",
       "      <td>0</td>\n",
       "      <td>0</td>\n",
       "    </tr>\n",
       "    <tr>\n",
       "      <th>153709</th>\n",
       "      <td>0.175324</td>\n",
       "      <td>0</td>\n",
       "      <td>-1.333633</td>\n",
       "      <td>0.023369</td>\n",
       "      <td>-0.287368</td>\n",
       "      <td>-0.156406</td>\n",
       "      <td>0.642383</td>\n",
       "      <td>-0.396525</td>\n",
       "      <td>-0.329319</td>\n",
       "      <td>-0.093886</td>\n",
       "      <td>...</td>\n",
       "      <td>0</td>\n",
       "      <td>0</td>\n",
       "      <td>0</td>\n",
       "      <td>0</td>\n",
       "      <td>0</td>\n",
       "      <td>0</td>\n",
       "      <td>0</td>\n",
       "      <td>0</td>\n",
       "      <td>0</td>\n",
       "      <td>0</td>\n",
       "    </tr>\n",
       "    <tr>\n",
       "      <th>239499</th>\n",
       "      <td>-1.077565</td>\n",
       "      <td>0</td>\n",
       "      <td>-0.246401</td>\n",
       "      <td>-0.853044</td>\n",
       "      <td>-0.695876</td>\n",
       "      <td>0.546465</td>\n",
       "      <td>1.442059</td>\n",
       "      <td>-0.396525</td>\n",
       "      <td>-0.329319</td>\n",
       "      <td>-0.429962</td>\n",
       "      <td>...</td>\n",
       "      <td>0</td>\n",
       "      <td>0</td>\n",
       "      <td>0</td>\n",
       "      <td>0</td>\n",
       "      <td>0</td>\n",
       "      <td>0</td>\n",
       "      <td>0</td>\n",
       "      <td>0</td>\n",
       "      <td>0</td>\n",
       "      <td>0</td>\n",
       "    </tr>\n",
       "    <tr>\n",
       "      <th>103904</th>\n",
       "      <td>-0.782768</td>\n",
       "      <td>0</td>\n",
       "      <td>0.570726</td>\n",
       "      <td>1.191920</td>\n",
       "      <td>-0.009583</td>\n",
       "      <td>-0.385127</td>\n",
       "      <td>-0.789896</td>\n",
       "      <td>-1.010664</td>\n",
       "      <td>-0.329319</td>\n",
       "      <td>-0.427221</td>\n",
       "      <td>...</td>\n",
       "      <td>0</td>\n",
       "      <td>0</td>\n",
       "      <td>0</td>\n",
       "      <td>0</td>\n",
       "      <td>0</td>\n",
       "      <td>0</td>\n",
       "      <td>0</td>\n",
       "      <td>0</td>\n",
       "      <td>0</td>\n",
       "      <td>0</td>\n",
       "    </tr>\n",
       "    <tr>\n",
       "      <th>145072</th>\n",
       "      <td>-0.377421</td>\n",
       "      <td>0</td>\n",
       "      <td>-0.023961</td>\n",
       "      <td>0.023369</td>\n",
       "      <td>-0.287368</td>\n",
       "      <td>-0.021485</td>\n",
       "      <td>-1.375043</td>\n",
       "      <td>0.627040</td>\n",
       "      <td>-0.329319</td>\n",
       "      <td>0.060318</td>\n",
       "      <td>...</td>\n",
       "      <td>0</td>\n",
       "      <td>0</td>\n",
       "      <td>0</td>\n",
       "      <td>0</td>\n",
       "      <td>0</td>\n",
       "      <td>0</td>\n",
       "      <td>0</td>\n",
       "      <td>0</td>\n",
       "      <td>0</td>\n",
       "      <td>0</td>\n",
       "    </tr>\n",
       "  </tbody>\n",
       "</table>\n",
       "<p>189589 rows × 118 columns</p>\n",
       "</div>"
      ],
      "text/plain": [
       "        loan_amnt  term  int_rate  emp_length  annual_inc       dti  \\\n",
       "8627     2.631968     0  0.048673   -0.560906   -0.003047  0.326738   \n",
       "23348   -0.684502     0 -1.506137   -0.560906   -0.369070 -1.064869   \n",
       "78898   -1.347796     0  1.349266    0.023369   -0.630515  2.072991   \n",
       "18933   -0.193173     1 -0.605028   -1.145182   -0.123965 -0.534182   \n",
       "202580  -0.653794     0  0.416380   -0.560906   -0.565154 -0.063889   \n",
       "...           ...   ...       ...         ...         ...       ...   \n",
       "179489  -0.316005     0 -1.381298   -1.437319    0.039438 -0.680667   \n",
       "153709   0.175324     0 -1.333633    0.023369   -0.287368 -0.156406   \n",
       "239499  -1.077565     0 -0.246401   -0.853044   -0.695876  0.546465   \n",
       "103904  -0.782768     0  0.570726    1.191920   -0.009583 -0.385127   \n",
       "145072  -0.377421     0 -0.023961    0.023369   -0.287368 -0.021485   \n",
       "\n",
       "        earliest_cr_line  open_acc   pub_rec  revol_bal  ...  addr_state_SD  \\\n",
       "8627            0.690230  0.012901 -0.329319   0.418897  ...              0   \n",
       "23348           0.785533 -0.805951 -0.329319  -0.443137  ...              0   \n",
       "78898          -2.139422  0.012901 -0.329319  -0.131567  ...              0   \n",
       "18933           0.236466  0.422327 -0.329319  -0.030434  ...              0   \n",
       "202580         -0.229064 -0.191812  1.962558  -0.645720  ...              0   \n",
       "...                  ...       ...       ...        ...  ...            ...   \n",
       "179489          0.989079  2.060031 -0.329319  -0.047140  ...              0   \n",
       "153709          0.642383 -0.396525 -0.329319  -0.093886  ...              0   \n",
       "239499          1.442059 -0.396525 -0.329319  -0.429962  ...              0   \n",
       "103904         -0.789896 -1.010664 -0.329319  -0.427221  ...              0   \n",
       "145072         -1.375043  0.627040 -0.329319   0.060318  ...              0   \n",
       "\n",
       "        addr_state_TN  addr_state_TX  addr_state_UT  addr_state_VA  \\\n",
       "8627                0              0              0              0   \n",
       "23348               0              0              0              0   \n",
       "78898               0              1              0              0   \n",
       "18933               0              0              0              0   \n",
       "202580              0              0              0              0   \n",
       "...               ...            ...            ...            ...   \n",
       "179489              0              0              0              0   \n",
       "153709              0              0              0              0   \n",
       "239499              0              0              0              0   \n",
       "103904              0              0              0              0   \n",
       "145072              0              0              0              0   \n",
       "\n",
       "        addr_state_VT  addr_state_WA  addr_state_WI  addr_state_WV  \\\n",
       "8627                0              0              0              0   \n",
       "23348               0              0              0              0   \n",
       "78898               0              0              0              0   \n",
       "18933               0              0              0              0   \n",
       "202580              0              0              0              0   \n",
       "...               ...            ...            ...            ...   \n",
       "179489              0              0              0              0   \n",
       "153709              0              0              0              0   \n",
       "239499              0              0              0              0   \n",
       "103904              0              0              0              0   \n",
       "145072              0              0              0              0   \n",
       "\n",
       "        addr_state_WY  \n",
       "8627                0  \n",
       "23348               0  \n",
       "78898               0  \n",
       "18933               0  \n",
       "202580              0  \n",
       "...               ...  \n",
       "179489              0  \n",
       "153709              0  \n",
       "239499              0  \n",
       "103904              0  \n",
       "145072              0  \n",
       "\n",
       "[189589 rows x 118 columns]"
      ]
     },
     "execution_count": 23,
     "metadata": {},
     "output_type": "execute_result"
    }
   ],
   "source": [
    "X_train"
   ]
  },
  {
   "cell_type": "code",
   "execution_count": 24,
   "metadata": {},
   "outputs": [
    {
     "data": {
      "text/plain": [
       "(189589, 118)"
      ]
     },
     "execution_count": 24,
     "metadata": {},
     "output_type": "execute_result"
    }
   ],
   "source": [
    "X_train.shape"
   ]
  },
  {
   "cell_type": "code",
   "execution_count": 25,
   "metadata": {},
   "outputs": [
    {
     "data": {
      "text/plain": [
       "(63197, 118)"
      ]
     },
     "execution_count": 25,
     "metadata": {},
     "output_type": "execute_result"
    }
   ],
   "source": [
    "X_test.shape"
   ]
  },
  {
   "cell_type": "code",
   "execution_count": 26,
   "metadata": {},
   "outputs": [
    {
     "data": {
      "text/plain": [
       "(189589,)"
      ]
     },
     "execution_count": 26,
     "metadata": {},
     "output_type": "execute_result"
    }
   ],
   "source": [
    "y_train.shape"
   ]
  },
  {
   "cell_type": "code",
   "execution_count": 27,
   "metadata": {},
   "outputs": [],
   "source": [
    "sm = SMOTE(random_state=12)"
   ]
  },
  {
   "cell_type": "code",
   "execution_count": 28,
   "metadata": {},
   "outputs": [],
   "source": [
    "X_train_res, y_train_res = sm.fit_sample(X_train, y_train)"
   ]
  },
  {
   "cell_type": "code",
   "execution_count": 93,
   "metadata": {},
   "outputs": [],
   "source": [
    "\n",
    "\n",
    "def model_selection(model,model_name,X_train,X_test,y_train,y_test):\n",
    "    cols=['model', 'roc_auc_score', 'precision_score', 'recall_score','f1_score']\n",
    "    model_report = pd.DataFrame(columns = cols)\n",
    "    algo=model\n",
    "    algo.fit(X_train,y_train)\n",
    "    algo_predict=algo.predict(X_test)\n",
    "    cm_algo = confusion_matrix(y_test, algo_predict)\n",
    "    algo_acc = accuracy_score(y_test, algo_predict)\n",
    "    y_score = algo.predict_proba(X_test)[:,1]\n",
    "    print(\"Model :\" ,model_name)\n",
    "    print('Validation Results')\n",
    "    print(\"Recall score \",recall_score(y_test, algo_predict))\n",
    "    print(\"F1 score\",f1_score(y_test, algo_predict))\n",
    "    print(\"roc auc score\",roc_auc_score(y_test, y_score))\n",
    "    print(\"Precision Score\",precision_score(y_test, algo_predict))\n",
    "    print(\"Accuracy score : \",algo_acc)\n",
    "    model_ser=pd.Series({'model':model_name , 'roc_auc_score':roc_auc_score(y_test, y_score),\n",
    "                         'precision_score':precision_score(y_test, algo_predict),\n",
    "                         'recall_score':recall_score(y_test, algo_predict),\n",
    "                         'f1_score':f1_score(y_test, algo_predict)})\n",
    "    model_report = model_report.append(model_ser, ignore_index = True)\n",
    "    fpr, tpr, thresholds = roc_curve(y_test, y_score, drop_intermediate = False, pos_label = 1)\n",
    "    sns.heatmap(cm_algo,annot=True)\n",
    "    \n",
    "    return model_report ,fpr, tpr, thresholds\n",
    "    "
   ]
  },
  {
   "cell_type": "code",
   "execution_count": 68,
   "metadata": {},
   "outputs": [
    {
     "name": "stdout",
     "output_type": "stream",
     "text": [
      "Using LogisticRegression c 0.002\n",
      "Model : LogisticRegression\n",
      "Validation Results\n",
      "Recall score  0.40972098809312246\n",
      "F1 score 0.35318448163609206\n",
      "roc auc score 0.6724779630811633\n",
      "Precision Score 0.3103587534495524\n",
      "Accuracy score :  0.7327563017231831\n"
     ]
    }
   ],
   "source": [
    "print(\"Using LogisticRegression c 0.002\")\n",
    "logistic_report,fpr_log, tpr_log, thresholds_log=model_selection(LogisticRegression(C = 0.002, penalty='l1',solver = \"liblinear\"),'LogisticRegression',X_train_res, X_test, y_train_res, y_test)"
   ]
  },
  {
   "cell_type": "code",
   "execution_count": 69,
   "metadata": {},
   "outputs": [
    {
     "data": {
      "text/html": [
       "<div>\n",
       "<style scoped>\n",
       "    .dataframe tbody tr th:only-of-type {\n",
       "        vertical-align: middle;\n",
       "    }\n",
       "\n",
       "    .dataframe tbody tr th {\n",
       "        vertical-align: top;\n",
       "    }\n",
       "\n",
       "    .dataframe thead th {\n",
       "        text-align: right;\n",
       "    }\n",
       "</style>\n",
       "<table border=\"1\" class=\"dataframe\">\n",
       "  <thead>\n",
       "    <tr style=\"text-align: right;\">\n",
       "      <th></th>\n",
       "      <th>model</th>\n",
       "      <th>roc_auc_score</th>\n",
       "      <th>precision_score</th>\n",
       "      <th>recall_score</th>\n",
       "      <th>f1_score</th>\n",
       "    </tr>\n",
       "  </thead>\n",
       "  <tbody>\n",
       "    <tr>\n",
       "      <th>0</th>\n",
       "      <td>LogisticRegression</td>\n",
       "      <td>0.672478</td>\n",
       "      <td>0.310359</td>\n",
       "      <td>0.409721</td>\n",
       "      <td>0.353184</td>\n",
       "    </tr>\n",
       "  </tbody>\n",
       "</table>\n",
       "</div>"
      ],
      "text/plain": [
       "                model  roc_auc_score  precision_score  recall_score  f1_score\n",
       "0  LogisticRegression       0.672478         0.310359      0.409721  0.353184"
      ]
     },
     "execution_count": 69,
     "metadata": {},
     "output_type": "execute_result"
    }
   ],
   "source": [
    "logistic_report"
   ]
  },
  {
   "cell_type": "code",
   "execution_count": 72,
   "metadata": {},
   "outputs": [
    {
     "name": "stdout",
     "output_type": "stream",
     "text": [
      "Using RandomForestClassifier()\n",
      "Model : RandomForestClassifier\n",
      "Validation Results\n",
      "Recall score  0.23458325928558735\n",
      "F1 score 0.2827309236947791\n",
      "roc auc score 0.6824093503254024\n",
      "Precision Score 0.3557472038808786\n",
      "Accuracy score :  0.7880437362533032\n"
     ]
    }
   ],
   "source": [
    "print(\"Using RandomForestClassifier()\")\n",
    "RandomForest_report,fpr_ran, tpr_ran, thresholds_ran=model_selection(RandomForestClassifier(),'RandomForestClassifier',X_train_res, X_test, y_train_res, y_test)"
   ]
  },
  {
   "cell_type": "code",
   "execution_count": 82,
   "metadata": {},
   "outputs": [
    {
     "data": {
      "text/html": [
       "<div>\n",
       "<style scoped>\n",
       "    .dataframe tbody tr th:only-of-type {\n",
       "        vertical-align: middle;\n",
       "    }\n",
       "\n",
       "    .dataframe tbody tr th {\n",
       "        vertical-align: top;\n",
       "    }\n",
       "\n",
       "    .dataframe thead th {\n",
       "        text-align: right;\n",
       "    }\n",
       "</style>\n",
       "<table border=\"1\" class=\"dataframe\">\n",
       "  <thead>\n",
       "    <tr style=\"text-align: right;\">\n",
       "      <th></th>\n",
       "      <th>model</th>\n",
       "      <th>roc_auc_score</th>\n",
       "      <th>precision_score</th>\n",
       "      <th>recall_score</th>\n",
       "      <th>f1_score</th>\n",
       "    </tr>\n",
       "  </thead>\n",
       "  <tbody>\n",
       "    <tr>\n",
       "      <th>0</th>\n",
       "      <td>RandomForestClassifier</td>\n",
       "      <td>0.682409</td>\n",
       "      <td>0.355747</td>\n",
       "      <td>0.234583</td>\n",
       "      <td>0.282731</td>\n",
       "    </tr>\n",
       "  </tbody>\n",
       "</table>\n",
       "</div>"
      ],
      "text/plain": [
       "                    model  roc_auc_score  precision_score  recall_score  \\\n",
       "0  RandomForestClassifier       0.682409         0.355747      0.234583   \n",
       "\n",
       "   f1_score  \n",
       "0  0.282731  "
      ]
     },
     "execution_count": 82,
     "metadata": {},
     "output_type": "execute_result"
    }
   ],
   "source": [
    "RandomForest_report"
   ]
  },
  {
   "cell_type": "code",
   "execution_count": 81,
   "metadata": {},
   "outputs": [
    {
     "name": "stdout",
     "output_type": "stream",
     "text": [
      "Using GradientBoostingClassifier()\n",
      "Model : GradientBoostingClassifier\n",
      "Validation Results\n",
      "Recall score  0.39408210414074996\n",
      "F1 score 0.35534011697780626\n",
      "roc auc score 0.6846826767133956\n",
      "Precision Score 0.32353370294718414\n",
      "Accuracy score :  0.7453676598572717\n"
     ]
    }
   ],
   "source": [
    "print(\"Using GradientBoostingClassifier()\")\n",
    "GradientBoosting_report2,fpr_gb, tpr_gb, thresholds_gb=model_selection(GradientBoostingClassifier(max_depth= 6, n_estimators=100, max_features = 0.3),'GradientBoostingClassifier',X_train_res, X_test, y_train_res, y_test)"
   ]
  },
  {
   "cell_type": "code",
   "execution_count": 92,
   "metadata": {},
   "outputs": [
    {
     "data": {
      "text/plain": [
       "<matplotlib.legend.Legend at 0xc110c88>"
      ]
     },
     "execution_count": 92,
     "metadata": {},
     "output_type": "execute_result"
    },
    {
     "data": {
      "image/png": "[encoded data removed]",
      "text/plain": [
       "<Figure size 432x432 with 1 Axes>"
      ]
     },
     "metadata": {
      "needs_background": "light"
     },
     "output_type": "display_data"
    }
   ],
   "source": [
    "plt.figure(1, figsize=(6,6))\n",
    "plt.xlabel('false positive rate')\n",
    "plt.ylabel('true positive rate')\n",
    "plt.plot(fpr_log, tpr_log, label = 'LogisticRegression' )\n",
    "plt.plot(fpr_ran, tpr_ran, label = 'RandomForest')\n",
    "plt.plot(fpr_gb, tpr_gb, label = 'GradientBoosting' )\n",
    "plt.plot([0,1],[0,1], color = 'black')\n",
    "plt.legend()"
   ]
  },
  {
   "cell_type": "markdown",
   "metadata": {},
   "source": [
    "## Selecting important features by Applyting the same process using SelectFromModel"
   ]
  },
  {
   "cell_type": "code",
   "execution_count": 94,
   "metadata": {},
   "outputs": [
    {
     "data": {
      "text/plain": [
       "SelectFromModel(estimator=LogisticRegression(C=0.002, class_weight=None,\n",
       "                                             dual=False, fit_intercept=True,\n",
       "                                             intercept_scaling=1, l1_ratio=None,\n",
       "                                             max_iter=100, multi_class='auto',\n",
       "                                             n_jobs=None, penalty='l1',\n",
       "                                             random_state=None,\n",
       "                                             solver='liblinear', tol=0.0001,\n",
       "                                             verbose=0, warm_start=False),\n",
       "                max_features=None, norm_order=1, prefit=False, threshold=None)"
      ]
     },
     "execution_count": 94,
     "metadata": {},
     "output_type": "execute_result"
    }
   ],
   "source": [
    "sel_ = SelectFromModel(LogisticRegression(C=0.002, penalty='l1',solver='liblinear'))\n",
    "sel_.fit(X_train_res, y_train_res)"
   ]
  },
  {
   "cell_type": "markdown",
   "metadata": {},
   "source": [
    "### Visualising features that were kept by the lasso regularisation\n",
    "\n",
    "##### True is for the features that lasso thought is important (non-zero features) while False is for the features whose weights were shrinked to zero and are not important according to Lasso."
   ]
  },
  {
   "cell_type": "code",
   "execution_count": 95,
   "metadata": {},
   "outputs": [
    {
     "data": {
      "text/plain": [
       "array([ True, False,  True,  True,  True,  True,  True, False,  True,\n",
       "        True,  True,  True,  True,  True,  True,  True,  True,  True,\n",
       "        True,  True,  True,  True,  True,  True,  True,  True,  True,\n",
       "        True,  True,  True,  True,  True,  True,  True,  True,  True,\n",
       "       False, False, False, False, False, False, False, False, False,\n",
       "       False, False,  True,  True,  True,  True,  True,  True,  True,\n",
       "        True,  True, False,  True, False,  True,  True, False,  True,\n",
       "       False,  True, False,  True, False,  True, False,  True,  True,\n",
       "        True,  True, False, False,  True,  True, False, False, False,\n",
       "        True,  True,  True,  True,  True,  True,  True, False,  True,\n",
       "        True,  True, False, False,  True, False, False, False,  True,\n",
       "       False,  True,  True,  True,  True,  True,  True, False,  True,\n",
       "       False,  True,  True,  True,  True, False,  True,  True, False,\n",
       "       False])"
      ]
     },
     "execution_count": 95,
     "metadata": {},
     "output_type": "execute_result"
    }
   ],
   "source": [
    "sel_.get_support()"
   ]
  },
  {
   "cell_type": "code",
   "execution_count": 96,
   "metadata": {},
   "outputs": [
    {
     "name": "stdout",
     "output_type": "stream",
     "text": [
      "total features: 118\n",
      "selected features: 81\n",
      "features with coefficients shrank to zero: 37\n"
     ]
    }
   ],
   "source": [
    "selected_feat = X_train.columns[(sel_.get_support())]\n",
    "print('total features: {}'.format((X_train.shape[1])))\n",
    "print('selected features: {}'.format(len(selected_feat)))\n",
    "print('features with coefficients shrank to zero: {}'.format(\n",
    "      np.sum(sel_.estimator_.coef_ == 0)))"
   ]
  },
  {
   "cell_type": "code",
   "execution_count": 97,
   "metadata": {},
   "outputs": [
    {
     "data": {
      "text/plain": [
       "Index(['term', 'open_acc', 'sub_grade_E5', 'sub_grade_F1', 'sub_grade_F2',\n",
       "       'sub_grade_F3', 'sub_grade_F4', 'sub_grade_F5', 'sub_grade_G1',\n",
       "       'sub_grade_G2', 'sub_grade_G3', 'sub_grade_G4', 'sub_grade_G5',\n",
       "       'purpose_educational', 'purpose_house', 'purpose_moving',\n",
       "       'purpose_renewable_energy', 'purpose_vacation', 'addr_state_AK',\n",
       "       'addr_state_AR', 'addr_state_DC', 'addr_state_DE', 'addr_state_HI',\n",
       "       'addr_state_IA', 'addr_state_ID', 'addr_state_ME', 'addr_state_MS',\n",
       "       'addr_state_MT', 'addr_state_ND', 'addr_state_NE', 'addr_state_NH',\n",
       "       'addr_state_NM', 'addr_state_RI', 'addr_state_SD', 'addr_state_VT',\n",
       "       'addr_state_WV', 'addr_state_WY'],\n",
       "      dtype='object')"
      ]
     },
     "execution_count": 97,
     "metadata": {},
     "output_type": "execute_result"
    }
   ],
   "source": [
    "removed_feats = X_train.columns[(sel_.estimator_.coef_ == 0).ravel().tolist()]\n",
    "removed_feats"
   ]
  },
  {
   "cell_type": "code",
   "execution_count": 98,
   "metadata": {},
   "outputs": [
    {
     "data": {
      "text/plain": [
       "Index(['loan_amnt', 'int_rate', 'emp_length', 'annual_inc', 'dti',\n",
       "       'earliest_cr_line', 'pub_rec', 'revol_bal', 'revol_util',\n",
       "       'initial_list_status', 'sub_grade_A1', 'sub_grade_A2', 'sub_grade_A3',\n",
       "       'sub_grade_A4', 'sub_grade_A5', 'sub_grade_B1', 'sub_grade_B2',\n",
       "       'sub_grade_B3', 'sub_grade_B4', 'sub_grade_B5', 'sub_grade_C1',\n",
       "       'sub_grade_C2', 'sub_grade_C3', 'sub_grade_C4', 'sub_grade_C5',\n",
       "       'sub_grade_D1', 'sub_grade_D2', 'sub_grade_D3', 'sub_grade_D4',\n",
       "       'sub_grade_D5', 'sub_grade_E1', 'sub_grade_E2', 'sub_grade_E3',\n",
       "       'sub_grade_E4', 'home_ownership_MORTGAGE', 'home_ownership_OWN',\n",
       "       'home_ownership_RENT', 'verification_status_Not Verified',\n",
       "       'verification_status_Source Verified', 'verification_status_Verified',\n",
       "       'purpose_car', 'purpose_credit_card', 'purpose_debt_consolidation',\n",
       "       'purpose_home_improvement', 'purpose_major_purchase', 'purpose_medical',\n",
       "       'purpose_other', 'purpose_small_business', 'purpose_wedding',\n",
       "       'addr_state_AL', 'addr_state_AZ', 'addr_state_CA', 'addr_state_CO',\n",
       "       'addr_state_CT', 'addr_state_FL', 'addr_state_GA', 'addr_state_IL',\n",
       "       'addr_state_IN', 'addr_state_KS', 'addr_state_KY', 'addr_state_LA',\n",
       "       'addr_state_MA', 'addr_state_MD', 'addr_state_MI', 'addr_state_MN',\n",
       "       'addr_state_MO', 'addr_state_NC', 'addr_state_NJ', 'addr_state_NV',\n",
       "       'addr_state_NY', 'addr_state_OH', 'addr_state_OK', 'addr_state_OR',\n",
       "       'addr_state_PA', 'addr_state_SC', 'addr_state_TN', 'addr_state_TX',\n",
       "       'addr_state_UT', 'addr_state_VA', 'addr_state_WA', 'addr_state_WI'],\n",
       "      dtype='object')"
      ]
     },
     "execution_count": 98,
     "metadata": {},
     "output_type": "execute_result"
    }
   ],
   "source": [
    "selected_feats = X_train.columns[(sel_.estimator_.coef_ != 0).ravel().tolist()]\n",
    "selected_feats"
   ]
  },
  {
   "cell_type": "markdown",
   "metadata": {},
   "source": [
    "### Deleting the unused columns and taking only the columns selected by Lasso"
   ]
  },
  {
   "cell_type": "code",
   "execution_count": 99,
   "metadata": {},
   "outputs": [
    {
     "data": {
      "text/plain": [
       "((189589, 81), (63197, 81))"
      ]
     },
     "execution_count": 99,
     "metadata": {},
     "output_type": "execute_result"
    }
   ],
   "source": [
    "X_train_selected = sel_.transform(X_train.fillna(0))\n",
    "X_test_selected = sel_.transform(X_test.fillna(0))\n",
    "X_train_selected.shape, X_test_selected.shape"
   ]
  },
  {
   "cell_type": "markdown",
   "metadata": {},
   "source": [
    "### As the sample was imbalanced doing smote transformation to balanced the data"
   ]
  },
  {
   "cell_type": "code",
   "execution_count": 100,
   "metadata": {},
   "outputs": [],
   "source": [
    "X_train_sel_res, y_train_sel_res = sm.fit_sample(X_train_selected, y_train)"
   ]
  },
  {
   "cell_type": "markdown",
   "metadata": {},
   "source": [
    "### Applying the selected feature test to Random Forest "
   ]
  },
  {
   "cell_type": "code",
   "execution_count": 101,
   "metadata": {},
   "outputs": [
    {
     "data": {
      "text/plain": [
       "RandomForestClassifier(bootstrap=True, ccp_alpha=0.0, class_weight=None,\n",
       "                       criterion='gini', max_depth=None, max_features='auto',\n",
       "                       max_leaf_nodes=None, max_samples=None,\n",
       "                       min_impurity_decrease=0.0, min_impurity_split=None,\n",
       "                       min_samples_leaf=1, min_samples_split=2,\n",
       "                       min_weight_fraction_leaf=0.0, n_estimators=100,\n",
       "                       n_jobs=None, oob_score=False, random_state=None,\n",
       "                       verbose=0, warm_start=False)"
      ]
     },
     "execution_count": 101,
     "metadata": {},
     "output_type": "execute_result"
    }
   ],
   "source": [
    "rf = RandomForestClassifier()\n",
    "rf.fit(X_train_sel_res, y_train_sel_res)"
   ]
  },
  {
   "cell_type": "code",
   "execution_count": 102,
   "metadata": {},
   "outputs": [
    {
     "name": "stdout",
     "output_type": "stream",
     "text": [
      "Validation Results\n",
      "0.8062091554978875\n",
      "0.14270481606539898\n",
      "0.2077754059124135\n",
      "0.5463346000508733\n",
      "0.38192627824019026\n"
     ]
    }
   ],
   "source": [
    "print('Validation Results')\n",
    "print(rf.score(X_test_selected, y_test))\n",
    "print(recall_score(y_test, rf.predict(X_test_selected)))\n",
    "print(f1_score(y_test, rf.predict(X_test_selected)))\n",
    "print(roc_auc_score(y_test, rf.predict(X_test_selected)))\n",
    "print(precision_score(y_test, rf.predict(X_test_selected)))"
   ]
  },
  {
   "cell_type": "code",
   "execution_count": 103,
   "metadata": {},
   "outputs": [
    {
     "data": {
      "text/plain": [
       "<matplotlib.axes._subplots.AxesSubplot at 0x21691f48>"
      ]
     },
     "execution_count": 103,
     "metadata": {},
     "output_type": "execute_result"
    },
    {
     "data": {
      "image/png": "[encoded data removed]",
      "text/plain": [
       "<Figure size 432x288 with 2 Axes>"
      ]
     },
     "metadata": {
      "needs_background": "light"
     },
     "output_type": "display_data"
    }
   ],
   "source": [
    "y_predict=rf.predict(X_test_selected)\n",
    "cm=confusion_matrix(y_test,y_predict)\n",
    "sns.heatmap(cm , annot=True)"
   ]
  },
  {
   "cell_type": "code",
   "execution_count": 104,
   "metadata": {},
   "outputs": [
    {
     "name": "stdout",
     "output_type": "stream",
     "text": [
      "Accuracy of Logistic Regression: 65.27 %\n"
     ]
    }
   ],
   "source": [
    "lasso_log = cross_val_score(LogisticRegression(max_iter=2000), X_train_sel_res, y_train_sel_res, scoring = 'accuracy',\n",
    "                            cv = KFold(5, shuffle = True))\n",
    "\n",
    "print(\"Accuracy of Logistic Regression: %.2f\"%(np.mean(lasso_log)*100), \"%\")"
   ]
  },
  {
   "cell_type": "code",
   "execution_count": null,
   "metadata": {},
   "outputs": [],
   "source": []
  }
 ],
 "metadata": {
  "kernelspec": {
   "display_name": "Python 3",
   "language": "python",
   "name": "python3"
  },
  "language_info": {
   "codemirror_mode": {
    "name": "ipython",
    "version": 3
   },
   "file_extension": ".py",
   "mimetype": "text/x-python",
   "name": "python",
   "nbconvert_exporter": "python",
   "pygments_lexer": "ipython3",
   "version": "3.7.6"
  }
 },
 "nbformat": 4,
 "nbformat_minor": 4
}
