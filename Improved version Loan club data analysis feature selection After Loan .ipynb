{
 "cells": [
  {
   "cell_type": "code",
   "execution_count": 1,
   "metadata": {},
   "outputs": [],
   "source": [
    "import pandas as pd\n",
    "import numpy as np\n",
    "import matplotlib.pyplot as plt\n",
    "import seaborn as sns\n",
    "\n",
    "from sklearn.preprocessing import LabelEncoder\n",
    "from sklearn.preprocessing import StandardScaler\n",
    "\n",
    "from sklearn.model_selection import train_test_split\n",
    "\n",
    "from sklearn.linear_model import LogisticRegression\n",
    "from sklearn.neighbors import KNeighborsClassifier\n",
    "from sklearn.ensemble import RandomForestClassifier\n",
    "from sklearn.tree import DecisionTreeClassifier\n",
    "\n",
    "\n",
    "from sklearn.metrics import confusion_matrix,classification_report\n",
    "\n",
    "from sklearn.metrics import recall_score , accuracy_score ,precision_score,f1_score,roc_auc_score\n",
    "from imblearn.over_sampling import SMOTE\n",
    "\n",
    "\n",
    "from sklearn.model_selection import GridSearchCV"
   ]
  },
  {
   "cell_type": "code",
   "execution_count": 2,
   "metadata": {},
   "outputs": [],
   "source": [
    "# read the large csv file with specified chunksize \n",
    "df_chunk = pd.read_csv(r'E:/Chrome/loan/loan.csv', chunksize=10000,low_memory=False,parse_dates=['issue_d','earliest_cr_line','last_pymnt_d','last_credit_pull_d','next_pymnt_d'])\n",
    "\n"
   ]
  },
  {
   "cell_type": "code",
   "execution_count": 3,
   "metadata": {},
   "outputs": [],
   "source": [
    "chunk_list = []  # append each chunk df here \n",
    "\n",
    "# Each chunk is in df format\n",
    "for chunk in df_chunk:  \n",
    "    # perform data filtering \n",
    "    #chunk_filter = chunk_preprocessing(chunk)\n",
    "    \n",
    "    # Once the data filtering is done, append the chunk to list\n",
    "    chunk_list.append(chunk)\n",
    "    \n"
   ]
  },
  {
   "cell_type": "code",
   "execution_count": 4,
   "metadata": {},
   "outputs": [],
   "source": [
    "# concat the list into dataframe \n",
    "df_concats = pd.concat(chunk_list)"
   ]
  },
  {
   "cell_type": "code",
   "execution_count": 5,
   "metadata": {},
   "outputs": [
    {
     "data": {
      "text/html": [
       "<div>\n",
       "<style scoped>\n",
       "    .dataframe tbody tr th:only-of-type {\n",
       "        vertical-align: middle;\n",
       "    }\n",
       "\n",
       "    .dataframe tbody tr th {\n",
       "        vertical-align: top;\n",
       "    }\n",
       "\n",
       "    .dataframe thead th {\n",
       "        text-align: right;\n",
       "    }\n",
       "</style>\n",
       "<table border=\"1\" class=\"dataframe\">\n",
       "  <thead>\n",
       "    <tr style=\"text-align: right;\">\n",
       "      <th></th>\n",
       "      <th>id</th>\n",
       "      <th>member_id</th>\n",
       "      <th>loan_amnt</th>\n",
       "      <th>funded_amnt</th>\n",
       "      <th>funded_amnt_inv</th>\n",
       "      <th>term</th>\n",
       "      <th>int_rate</th>\n",
       "      <th>installment</th>\n",
       "      <th>grade</th>\n",
       "      <th>sub_grade</th>\n",
       "      <th>...</th>\n",
       "      <th>total_bal_il</th>\n",
       "      <th>il_util</th>\n",
       "      <th>open_rv_12m</th>\n",
       "      <th>open_rv_24m</th>\n",
       "      <th>max_bal_bc</th>\n",
       "      <th>all_util</th>\n",
       "      <th>total_rev_hi_lim</th>\n",
       "      <th>inq_fi</th>\n",
       "      <th>total_cu_tl</th>\n",
       "      <th>inq_last_12m</th>\n",
       "    </tr>\n",
       "  </thead>\n",
       "  <tbody>\n",
       "    <tr>\n",
       "      <th>0</th>\n",
       "      <td>1077501</td>\n",
       "      <td>1296599</td>\n",
       "      <td>5000.0</td>\n",
       "      <td>5000.0</td>\n",
       "      <td>4975.0</td>\n",
       "      <td>36 months</td>\n",
       "      <td>10.65</td>\n",
       "      <td>162.87</td>\n",
       "      <td>B</td>\n",
       "      <td>B2</td>\n",
       "      <td>...</td>\n",
       "      <td>NaN</td>\n",
       "      <td>NaN</td>\n",
       "      <td>NaN</td>\n",
       "      <td>NaN</td>\n",
       "      <td>NaN</td>\n",
       "      <td>NaN</td>\n",
       "      <td>NaN</td>\n",
       "      <td>NaN</td>\n",
       "      <td>NaN</td>\n",
       "      <td>NaN</td>\n",
       "    </tr>\n",
       "    <tr>\n",
       "      <th>1</th>\n",
       "      <td>1077430</td>\n",
       "      <td>1314167</td>\n",
       "      <td>2500.0</td>\n",
       "      <td>2500.0</td>\n",
       "      <td>2500.0</td>\n",
       "      <td>60 months</td>\n",
       "      <td>15.27</td>\n",
       "      <td>59.83</td>\n",
       "      <td>C</td>\n",
       "      <td>C4</td>\n",
       "      <td>...</td>\n",
       "      <td>NaN</td>\n",
       "      <td>NaN</td>\n",
       "      <td>NaN</td>\n",
       "      <td>NaN</td>\n",
       "      <td>NaN</td>\n",
       "      <td>NaN</td>\n",
       "      <td>NaN</td>\n",
       "      <td>NaN</td>\n",
       "      <td>NaN</td>\n",
       "      <td>NaN</td>\n",
       "    </tr>\n",
       "    <tr>\n",
       "      <th>2</th>\n",
       "      <td>1077175</td>\n",
       "      <td>1313524</td>\n",
       "      <td>2400.0</td>\n",
       "      <td>2400.0</td>\n",
       "      <td>2400.0</td>\n",
       "      <td>36 months</td>\n",
       "      <td>15.96</td>\n",
       "      <td>84.33</td>\n",
       "      <td>C</td>\n",
       "      <td>C5</td>\n",
       "      <td>...</td>\n",
       "      <td>NaN</td>\n",
       "      <td>NaN</td>\n",
       "      <td>NaN</td>\n",
       "      <td>NaN</td>\n",
       "      <td>NaN</td>\n",
       "      <td>NaN</td>\n",
       "      <td>NaN</td>\n",
       "      <td>NaN</td>\n",
       "      <td>NaN</td>\n",
       "      <td>NaN</td>\n",
       "    </tr>\n",
       "    <tr>\n",
       "      <th>3</th>\n",
       "      <td>1076863</td>\n",
       "      <td>1277178</td>\n",
       "      <td>10000.0</td>\n",
       "      <td>10000.0</td>\n",
       "      <td>10000.0</td>\n",
       "      <td>36 months</td>\n",
       "      <td>13.49</td>\n",
       "      <td>339.31</td>\n",
       "      <td>C</td>\n",
       "      <td>C1</td>\n",
       "      <td>...</td>\n",
       "      <td>NaN</td>\n",
       "      <td>NaN</td>\n",
       "      <td>NaN</td>\n",
       "      <td>NaN</td>\n",
       "      <td>NaN</td>\n",
       "      <td>NaN</td>\n",
       "      <td>NaN</td>\n",
       "      <td>NaN</td>\n",
       "      <td>NaN</td>\n",
       "      <td>NaN</td>\n",
       "    </tr>\n",
       "    <tr>\n",
       "      <th>4</th>\n",
       "      <td>1075358</td>\n",
       "      <td>1311748</td>\n",
       "      <td>3000.0</td>\n",
       "      <td>3000.0</td>\n",
       "      <td>3000.0</td>\n",
       "      <td>60 months</td>\n",
       "      <td>12.69</td>\n",
       "      <td>67.79</td>\n",
       "      <td>B</td>\n",
       "      <td>B5</td>\n",
       "      <td>...</td>\n",
       "      <td>NaN</td>\n",
       "      <td>NaN</td>\n",
       "      <td>NaN</td>\n",
       "      <td>NaN</td>\n",
       "      <td>NaN</td>\n",
       "      <td>NaN</td>\n",
       "      <td>NaN</td>\n",
       "      <td>NaN</td>\n",
       "      <td>NaN</td>\n",
       "      <td>NaN</td>\n",
       "    </tr>\n",
       "    <tr>\n",
       "      <th>...</th>\n",
       "      <td>...</td>\n",
       "      <td>...</td>\n",
       "      <td>...</td>\n",
       "      <td>...</td>\n",
       "      <td>...</td>\n",
       "      <td>...</td>\n",
       "      <td>...</td>\n",
       "      <td>...</td>\n",
       "      <td>...</td>\n",
       "      <td>...</td>\n",
       "      <td>...</td>\n",
       "      <td>...</td>\n",
       "      <td>...</td>\n",
       "      <td>...</td>\n",
       "      <td>...</td>\n",
       "      <td>...</td>\n",
       "      <td>...</td>\n",
       "      <td>...</td>\n",
       "      <td>...</td>\n",
       "      <td>...</td>\n",
       "      <td>...</td>\n",
       "    </tr>\n",
       "    <tr>\n",
       "      <th>887374</th>\n",
       "      <td>36371250</td>\n",
       "      <td>39102635</td>\n",
       "      <td>10000.0</td>\n",
       "      <td>10000.0</td>\n",
       "      <td>10000.0</td>\n",
       "      <td>36 months</td>\n",
       "      <td>11.99</td>\n",
       "      <td>332.10</td>\n",
       "      <td>B</td>\n",
       "      <td>B5</td>\n",
       "      <td>...</td>\n",
       "      <td>NaN</td>\n",
       "      <td>NaN</td>\n",
       "      <td>NaN</td>\n",
       "      <td>NaN</td>\n",
       "      <td>NaN</td>\n",
       "      <td>NaN</td>\n",
       "      <td>17100.0</td>\n",
       "      <td>NaN</td>\n",
       "      <td>NaN</td>\n",
       "      <td>NaN</td>\n",
       "    </tr>\n",
       "    <tr>\n",
       "      <th>887375</th>\n",
       "      <td>36441262</td>\n",
       "      <td>39152692</td>\n",
       "      <td>24000.0</td>\n",
       "      <td>24000.0</td>\n",
       "      <td>24000.0</td>\n",
       "      <td>36 months</td>\n",
       "      <td>11.99</td>\n",
       "      <td>797.03</td>\n",
       "      <td>B</td>\n",
       "      <td>B5</td>\n",
       "      <td>...</td>\n",
       "      <td>NaN</td>\n",
       "      <td>NaN</td>\n",
       "      <td>NaN</td>\n",
       "      <td>NaN</td>\n",
       "      <td>NaN</td>\n",
       "      <td>NaN</td>\n",
       "      <td>10200.0</td>\n",
       "      <td>NaN</td>\n",
       "      <td>NaN</td>\n",
       "      <td>NaN</td>\n",
       "    </tr>\n",
       "    <tr>\n",
       "      <th>887376</th>\n",
       "      <td>36271333</td>\n",
       "      <td>38982739</td>\n",
       "      <td>13000.0</td>\n",
       "      <td>13000.0</td>\n",
       "      <td>13000.0</td>\n",
       "      <td>60 months</td>\n",
       "      <td>15.99</td>\n",
       "      <td>316.07</td>\n",
       "      <td>D</td>\n",
       "      <td>D2</td>\n",
       "      <td>...</td>\n",
       "      <td>NaN</td>\n",
       "      <td>NaN</td>\n",
       "      <td>NaN</td>\n",
       "      <td>NaN</td>\n",
       "      <td>NaN</td>\n",
       "      <td>NaN</td>\n",
       "      <td>18000.0</td>\n",
       "      <td>NaN</td>\n",
       "      <td>NaN</td>\n",
       "      <td>NaN</td>\n",
       "    </tr>\n",
       "    <tr>\n",
       "      <th>887377</th>\n",
       "      <td>36490806</td>\n",
       "      <td>39222577</td>\n",
       "      <td>12000.0</td>\n",
       "      <td>12000.0</td>\n",
       "      <td>12000.0</td>\n",
       "      <td>60 months</td>\n",
       "      <td>19.99</td>\n",
       "      <td>317.86</td>\n",
       "      <td>E</td>\n",
       "      <td>E3</td>\n",
       "      <td>...</td>\n",
       "      <td>NaN</td>\n",
       "      <td>NaN</td>\n",
       "      <td>NaN</td>\n",
       "      <td>NaN</td>\n",
       "      <td>NaN</td>\n",
       "      <td>NaN</td>\n",
       "      <td>27000.0</td>\n",
       "      <td>NaN</td>\n",
       "      <td>NaN</td>\n",
       "      <td>NaN</td>\n",
       "    </tr>\n",
       "    <tr>\n",
       "      <th>887378</th>\n",
       "      <td>36271262</td>\n",
       "      <td>38982659</td>\n",
       "      <td>20000.0</td>\n",
       "      <td>20000.0</td>\n",
       "      <td>20000.0</td>\n",
       "      <td>36 months</td>\n",
       "      <td>11.99</td>\n",
       "      <td>664.20</td>\n",
       "      <td>B</td>\n",
       "      <td>B5</td>\n",
       "      <td>...</td>\n",
       "      <td>NaN</td>\n",
       "      <td>NaN</td>\n",
       "      <td>NaN</td>\n",
       "      <td>NaN</td>\n",
       "      <td>NaN</td>\n",
       "      <td>NaN</td>\n",
       "      <td>41700.0</td>\n",
       "      <td>NaN</td>\n",
       "      <td>NaN</td>\n",
       "      <td>NaN</td>\n",
       "    </tr>\n",
       "  </tbody>\n",
       "</table>\n",
       "<p>887379 rows × 74 columns</p>\n",
       "</div>"
      ],
      "text/plain": [
       "              id  member_id  loan_amnt  funded_amnt  funded_amnt_inv  \\\n",
       "0        1077501    1296599     5000.0       5000.0           4975.0   \n",
       "1        1077430    1314167     2500.0       2500.0           2500.0   \n",
       "2        1077175    1313524     2400.0       2400.0           2400.0   \n",
       "3        1076863    1277178    10000.0      10000.0          10000.0   \n",
       "4        1075358    1311748     3000.0       3000.0           3000.0   \n",
       "...          ...        ...        ...          ...              ...   \n",
       "887374  36371250   39102635    10000.0      10000.0          10000.0   \n",
       "887375  36441262   39152692    24000.0      24000.0          24000.0   \n",
       "887376  36271333   38982739    13000.0      13000.0          13000.0   \n",
       "887377  36490806   39222577    12000.0      12000.0          12000.0   \n",
       "887378  36271262   38982659    20000.0      20000.0          20000.0   \n",
       "\n",
       "              term  int_rate  installment grade sub_grade  ... total_bal_il  \\\n",
       "0        36 months     10.65       162.87     B        B2  ...          NaN   \n",
       "1        60 months     15.27        59.83     C        C4  ...          NaN   \n",
       "2        36 months     15.96        84.33     C        C5  ...          NaN   \n",
       "3        36 months     13.49       339.31     C        C1  ...          NaN   \n",
       "4        60 months     12.69        67.79     B        B5  ...          NaN   \n",
       "...            ...       ...          ...   ...       ...  ...          ...   \n",
       "887374   36 months     11.99       332.10     B        B5  ...          NaN   \n",
       "887375   36 months     11.99       797.03     B        B5  ...          NaN   \n",
       "887376   60 months     15.99       316.07     D        D2  ...          NaN   \n",
       "887377   60 months     19.99       317.86     E        E3  ...          NaN   \n",
       "887378   36 months     11.99       664.20     B        B5  ...          NaN   \n",
       "\n",
       "       il_util open_rv_12m  open_rv_24m max_bal_bc all_util total_rev_hi_lim  \\\n",
       "0          NaN         NaN          NaN        NaN      NaN              NaN   \n",
       "1          NaN         NaN          NaN        NaN      NaN              NaN   \n",
       "2          NaN         NaN          NaN        NaN      NaN              NaN   \n",
       "3          NaN         NaN          NaN        NaN      NaN              NaN   \n",
       "4          NaN         NaN          NaN        NaN      NaN              NaN   \n",
       "...        ...         ...          ...        ...      ...              ...   \n",
       "887374     NaN         NaN          NaN        NaN      NaN          17100.0   \n",
       "887375     NaN         NaN          NaN        NaN      NaN          10200.0   \n",
       "887376     NaN         NaN          NaN        NaN      NaN          18000.0   \n",
       "887377     NaN         NaN          NaN        NaN      NaN          27000.0   \n",
       "887378     NaN         NaN          NaN        NaN      NaN          41700.0   \n",
       "\n",
       "       inq_fi total_cu_tl inq_last_12m  \n",
       "0         NaN         NaN          NaN  \n",
       "1         NaN         NaN          NaN  \n",
       "2         NaN         NaN          NaN  \n",
       "3         NaN         NaN          NaN  \n",
       "4         NaN         NaN          NaN  \n",
       "...       ...         ...          ...  \n",
       "887374    NaN         NaN          NaN  \n",
       "887375    NaN         NaN          NaN  \n",
       "887376    NaN         NaN          NaN  \n",
       "887377    NaN         NaN          NaN  \n",
       "887378    NaN         NaN          NaN  \n",
       "\n",
       "[887379 rows x 74 columns]"
      ]
     },
     "execution_count": 5,
     "metadata": {},
     "output_type": "execute_result"
    }
   ],
   "source": [
    "df_concats"
   ]
  },
  {
   "cell_type": "code",
   "execution_count": 6,
   "metadata": {},
   "outputs": [],
   "source": [
    "data=df_concats.copy()"
   ]
  },
  {
   "cell_type": "code",
   "execution_count": 7,
   "metadata": {},
   "outputs": [],
   "source": [
    "## Checking for missing data  \n",
    "\n",
    "data_missing=data.isnull().sum()\n",
    "data_missing_per=100*data.isnull().sum()/len(data)\n",
    "data_df=pd.concat([data_missing,data_missing_per],axis=1)\n",
    "data_df.columns=['missing count','percentage missing']"
   ]
  },
  {
   "cell_type": "code",
   "execution_count": 8,
   "metadata": {},
   "outputs": [
    {
     "data": {
      "text/html": [
       "<div>\n",
       "<style scoped>\n",
       "    .dataframe tbody tr th:only-of-type {\n",
       "        vertical-align: middle;\n",
       "    }\n",
       "\n",
       "    .dataframe tbody tr th {\n",
       "        vertical-align: top;\n",
       "    }\n",
       "\n",
       "    .dataframe thead th {\n",
       "        text-align: right;\n",
       "    }\n",
       "</style>\n",
       "<table border=\"1\" class=\"dataframe\">\n",
       "  <thead>\n",
       "    <tr style=\"text-align: right;\">\n",
       "      <th></th>\n",
       "      <th>missing count</th>\n",
       "      <th>percentage missing</th>\n",
       "    </tr>\n",
       "  </thead>\n",
       "  <tbody>\n",
       "    <tr>\n",
       "      <th>dti_joint</th>\n",
       "      <td>886870</td>\n",
       "      <td>99.942640</td>\n",
       "    </tr>\n",
       "    <tr>\n",
       "      <th>annual_inc_joint</th>\n",
       "      <td>886868</td>\n",
       "      <td>99.942415</td>\n",
       "    </tr>\n",
       "    <tr>\n",
       "      <th>verification_status_joint</th>\n",
       "      <td>886868</td>\n",
       "      <td>99.942415</td>\n",
       "    </tr>\n",
       "    <tr>\n",
       "      <th>il_util</th>\n",
       "      <td>868762</td>\n",
       "      <td>97.902024</td>\n",
       "    </tr>\n",
       "    <tr>\n",
       "      <th>mths_since_rcnt_il</th>\n",
       "      <td>866569</td>\n",
       "      <td>97.654892</td>\n",
       "    </tr>\n",
       "    <tr>\n",
       "      <th>...</th>\n",
       "      <td>...</td>\n",
       "      <td>...</td>\n",
       "    </tr>\n",
       "    <tr>\n",
       "      <th>total_pymnt</th>\n",
       "      <td>0</td>\n",
       "      <td>0.000000</td>\n",
       "    </tr>\n",
       "    <tr>\n",
       "      <th>total_pymnt_inv</th>\n",
       "      <td>0</td>\n",
       "      <td>0.000000</td>\n",
       "    </tr>\n",
       "    <tr>\n",
       "      <th>total_rec_prncp</th>\n",
       "      <td>0</td>\n",
       "      <td>0.000000</td>\n",
       "    </tr>\n",
       "    <tr>\n",
       "      <th>total_rec_int</th>\n",
       "      <td>0</td>\n",
       "      <td>0.000000</td>\n",
       "    </tr>\n",
       "    <tr>\n",
       "      <th>out_prncp_inv</th>\n",
       "      <td>0</td>\n",
       "      <td>0.000000</td>\n",
       "    </tr>\n",
       "  </tbody>\n",
       "</table>\n",
       "<p>74 rows × 2 columns</p>\n",
       "</div>"
      ],
      "text/plain": [
       "                           missing count  percentage missing\n",
       "dti_joint                         886870           99.942640\n",
       "annual_inc_joint                  886868           99.942415\n",
       "verification_status_joint         886868           99.942415\n",
       "il_util                           868762           97.902024\n",
       "mths_since_rcnt_il                866569           97.654892\n",
       "...                                  ...                 ...\n",
       "total_pymnt                            0            0.000000\n",
       "total_pymnt_inv                        0            0.000000\n",
       "total_rec_prncp                        0            0.000000\n",
       "total_rec_int                          0            0.000000\n",
       "out_prncp_inv                          0            0.000000\n",
       "\n",
       "[74 rows x 2 columns]"
      ]
     },
     "execution_count": 8,
     "metadata": {},
     "output_type": "execute_result"
    }
   ],
   "source": [
    "data_df.sort_values(by='percentage missing',ascending=False)"
   ]
  },
  {
   "cell_type": "code",
   "execution_count": 9,
   "metadata": {},
   "outputs": [
    {
     "data": {
      "text/plain": [
       "Index(['desc', 'mths_since_last_record', 'mths_since_last_major_derog',\n",
       "       'annual_inc_joint', 'dti_joint', 'verification_status_joint',\n",
       "       'open_acc_6m', 'open_il_6m', 'open_il_12m', 'open_il_24m',\n",
       "       'mths_since_rcnt_il', 'total_bal_il', 'il_util', 'open_rv_12m',\n",
       "       'open_rv_24m', 'max_bal_bc', 'all_util', 'inq_fi', 'total_cu_tl',\n",
       "       'inq_last_12m'],\n",
       "      dtype='object')"
      ]
     },
     "execution_count": 9,
     "metadata": {},
     "output_type": "execute_result"
    }
   ],
   "source": [
    "data_df[data_df['percentage missing']>55].index"
   ]
  },
  {
   "cell_type": "code",
   "execution_count": 10,
   "metadata": {},
   "outputs": [],
   "source": [
    "data.drop(data_df[data_df['percentage missing']>55].index,axis=1,inplace=True)"
   ]
  },
  {
   "cell_type": "code",
   "execution_count": 11,
   "metadata": {},
   "outputs": [],
   "source": [
    "data_df.drop(data_df[data_df['percentage missing']>55].index , inplace=True)"
   ]
  },
  {
   "cell_type": "code",
   "execution_count": 12,
   "metadata": {},
   "outputs": [
    {
     "data": {
      "text/html": [
       "<div>\n",
       "<style scoped>\n",
       "    .dataframe tbody tr th:only-of-type {\n",
       "        vertical-align: middle;\n",
       "    }\n",
       "\n",
       "    .dataframe tbody tr th {\n",
       "        vertical-align: top;\n",
       "    }\n",
       "\n",
       "    .dataframe thead th {\n",
       "        text-align: right;\n",
       "    }\n",
       "</style>\n",
       "<table border=\"1\" class=\"dataframe\">\n",
       "  <thead>\n",
       "    <tr style=\"text-align: right;\">\n",
       "      <th></th>\n",
       "      <th>missing count</th>\n",
       "      <th>percentage missing</th>\n",
       "    </tr>\n",
       "  </thead>\n",
       "  <tbody>\n",
       "    <tr>\n",
       "      <th>mths_since_last_delinq</th>\n",
       "      <td>454312</td>\n",
       "      <td>51.197065</td>\n",
       "    </tr>\n",
       "    <tr>\n",
       "      <th>next_pymnt_d</th>\n",
       "      <td>252971</td>\n",
       "      <td>28.507661</td>\n",
       "    </tr>\n",
       "    <tr>\n",
       "      <th>tot_cur_bal</th>\n",
       "      <td>70276</td>\n",
       "      <td>7.919502</td>\n",
       "    </tr>\n",
       "    <tr>\n",
       "      <th>tot_coll_amt</th>\n",
       "      <td>70276</td>\n",
       "      <td>7.919502</td>\n",
       "    </tr>\n",
       "    <tr>\n",
       "      <th>total_rev_hi_lim</th>\n",
       "      <td>70276</td>\n",
       "      <td>7.919502</td>\n",
       "    </tr>\n",
       "    <tr>\n",
       "      <th>emp_title</th>\n",
       "      <td>51462</td>\n",
       "      <td>5.799326</td>\n",
       "    </tr>\n",
       "    <tr>\n",
       "      <th>emp_length</th>\n",
       "      <td>44825</td>\n",
       "      <td>5.051393</td>\n",
       "    </tr>\n",
       "    <tr>\n",
       "      <th>last_pymnt_d</th>\n",
       "      <td>17659</td>\n",
       "      <td>1.990018</td>\n",
       "    </tr>\n",
       "    <tr>\n",
       "      <th>revol_util</th>\n",
       "      <td>502</td>\n",
       "      <td>0.056571</td>\n",
       "    </tr>\n",
       "    <tr>\n",
       "      <th>title</th>\n",
       "      <td>152</td>\n",
       "      <td>0.017129</td>\n",
       "    </tr>\n",
       "    <tr>\n",
       "      <th>collections_12_mths_ex_med</th>\n",
       "      <td>145</td>\n",
       "      <td>0.016340</td>\n",
       "    </tr>\n",
       "    <tr>\n",
       "      <th>last_credit_pull_d</th>\n",
       "      <td>53</td>\n",
       "      <td>0.005973</td>\n",
       "    </tr>\n",
       "    <tr>\n",
       "      <th>total_acc</th>\n",
       "      <td>29</td>\n",
       "      <td>0.003268</td>\n",
       "    </tr>\n",
       "    <tr>\n",
       "      <th>open_acc</th>\n",
       "      <td>29</td>\n",
       "      <td>0.003268</td>\n",
       "    </tr>\n",
       "    <tr>\n",
       "      <th>inq_last_6mths</th>\n",
       "      <td>29</td>\n",
       "      <td>0.003268</td>\n",
       "    </tr>\n",
       "    <tr>\n",
       "      <th>earliest_cr_line</th>\n",
       "      <td>29</td>\n",
       "      <td>0.003268</td>\n",
       "    </tr>\n",
       "    <tr>\n",
       "      <th>delinq_2yrs</th>\n",
       "      <td>29</td>\n",
       "      <td>0.003268</td>\n",
       "    </tr>\n",
       "    <tr>\n",
       "      <th>pub_rec</th>\n",
       "      <td>29</td>\n",
       "      <td>0.003268</td>\n",
       "    </tr>\n",
       "    <tr>\n",
       "      <th>acc_now_delinq</th>\n",
       "      <td>29</td>\n",
       "      <td>0.003268</td>\n",
       "    </tr>\n",
       "    <tr>\n",
       "      <th>annual_inc</th>\n",
       "      <td>4</td>\n",
       "      <td>0.000451</td>\n",
       "    </tr>\n",
       "    <tr>\n",
       "      <th>last_pymnt_amnt</th>\n",
       "      <td>0</td>\n",
       "      <td>0.000000</td>\n",
       "    </tr>\n",
       "    <tr>\n",
       "      <th>out_prncp_inv</th>\n",
       "      <td>0</td>\n",
       "      <td>0.000000</td>\n",
       "    </tr>\n",
       "    <tr>\n",
       "      <th>funded_amnt_inv</th>\n",
       "      <td>0</td>\n",
       "      <td>0.000000</td>\n",
       "    </tr>\n",
       "    <tr>\n",
       "      <th>collection_recovery_fee</th>\n",
       "      <td>0</td>\n",
       "      <td>0.000000</td>\n",
       "    </tr>\n",
       "    <tr>\n",
       "      <th>recoveries</th>\n",
       "      <td>0</td>\n",
       "      <td>0.000000</td>\n",
       "    </tr>\n",
       "    <tr>\n",
       "      <th>total_rec_late_fee</th>\n",
       "      <td>0</td>\n",
       "      <td>0.000000</td>\n",
       "    </tr>\n",
       "    <tr>\n",
       "      <th>policy_code</th>\n",
       "      <td>0</td>\n",
       "      <td>0.000000</td>\n",
       "    </tr>\n",
       "    <tr>\n",
       "      <th>application_type</th>\n",
       "      <td>0</td>\n",
       "      <td>0.000000</td>\n",
       "    </tr>\n",
       "    <tr>\n",
       "      <th>total_rec_int</th>\n",
       "      <td>0</td>\n",
       "      <td>0.000000</td>\n",
       "    </tr>\n",
       "    <tr>\n",
       "      <th>total_rec_prncp</th>\n",
       "      <td>0</td>\n",
       "      <td>0.000000</td>\n",
       "    </tr>\n",
       "    <tr>\n",
       "      <th>total_pymnt_inv</th>\n",
       "      <td>0</td>\n",
       "      <td>0.000000</td>\n",
       "    </tr>\n",
       "    <tr>\n",
       "      <th>funded_amnt</th>\n",
       "      <td>0</td>\n",
       "      <td>0.000000</td>\n",
       "    </tr>\n",
       "    <tr>\n",
       "      <th>loan_amnt</th>\n",
       "      <td>0</td>\n",
       "      <td>0.000000</td>\n",
       "    </tr>\n",
       "    <tr>\n",
       "      <th>total_pymnt</th>\n",
       "      <td>0</td>\n",
       "      <td>0.000000</td>\n",
       "    </tr>\n",
       "    <tr>\n",
       "      <th>term</th>\n",
       "      <td>0</td>\n",
       "      <td>0.000000</td>\n",
       "    </tr>\n",
       "    <tr>\n",
       "      <th>out_prncp</th>\n",
       "      <td>0</td>\n",
       "      <td>0.000000</td>\n",
       "    </tr>\n",
       "    <tr>\n",
       "      <th>pymnt_plan</th>\n",
       "      <td>0</td>\n",
       "      <td>0.000000</td>\n",
       "    </tr>\n",
       "    <tr>\n",
       "      <th>installment</th>\n",
       "      <td>0</td>\n",
       "      <td>0.000000</td>\n",
       "    </tr>\n",
       "    <tr>\n",
       "      <th>grade</th>\n",
       "      <td>0</td>\n",
       "      <td>0.000000</td>\n",
       "    </tr>\n",
       "    <tr>\n",
       "      <th>sub_grade</th>\n",
       "      <td>0</td>\n",
       "      <td>0.000000</td>\n",
       "    </tr>\n",
       "    <tr>\n",
       "      <th>home_ownership</th>\n",
       "      <td>0</td>\n",
       "      <td>0.000000</td>\n",
       "    </tr>\n",
       "    <tr>\n",
       "      <th>verification_status</th>\n",
       "      <td>0</td>\n",
       "      <td>0.000000</td>\n",
       "    </tr>\n",
       "    <tr>\n",
       "      <th>issue_d</th>\n",
       "      <td>0</td>\n",
       "      <td>0.000000</td>\n",
       "    </tr>\n",
       "    <tr>\n",
       "      <th>loan_status</th>\n",
       "      <td>0</td>\n",
       "      <td>0.000000</td>\n",
       "    </tr>\n",
       "    <tr>\n",
       "      <th>url</th>\n",
       "      <td>0</td>\n",
       "      <td>0.000000</td>\n",
       "    </tr>\n",
       "    <tr>\n",
       "      <th>initial_list_status</th>\n",
       "      <td>0</td>\n",
       "      <td>0.000000</td>\n",
       "    </tr>\n",
       "    <tr>\n",
       "      <th>purpose</th>\n",
       "      <td>0</td>\n",
       "      <td>0.000000</td>\n",
       "    </tr>\n",
       "    <tr>\n",
       "      <th>zip_code</th>\n",
       "      <td>0</td>\n",
       "      <td>0.000000</td>\n",
       "    </tr>\n",
       "    <tr>\n",
       "      <th>addr_state</th>\n",
       "      <td>0</td>\n",
       "      <td>0.000000</td>\n",
       "    </tr>\n",
       "    <tr>\n",
       "      <th>dti</th>\n",
       "      <td>0</td>\n",
       "      <td>0.000000</td>\n",
       "    </tr>\n",
       "    <tr>\n",
       "      <th>member_id</th>\n",
       "      <td>0</td>\n",
       "      <td>0.000000</td>\n",
       "    </tr>\n",
       "    <tr>\n",
       "      <th>int_rate</th>\n",
       "      <td>0</td>\n",
       "      <td>0.000000</td>\n",
       "    </tr>\n",
       "    <tr>\n",
       "      <th>revol_bal</th>\n",
       "      <td>0</td>\n",
       "      <td>0.000000</td>\n",
       "    </tr>\n",
       "    <tr>\n",
       "      <th>id</th>\n",
       "      <td>0</td>\n",
       "      <td>0.000000</td>\n",
       "    </tr>\n",
       "  </tbody>\n",
       "</table>\n",
       "</div>"
      ],
      "text/plain": [
       "                            missing count  percentage missing\n",
       "mths_since_last_delinq             454312           51.197065\n",
       "next_pymnt_d                       252971           28.507661\n",
       "tot_cur_bal                         70276            7.919502\n",
       "tot_coll_amt                        70276            7.919502\n",
       "total_rev_hi_lim                    70276            7.919502\n",
       "emp_title                           51462            5.799326\n",
       "emp_length                          44825            5.051393\n",
       "last_pymnt_d                        17659            1.990018\n",
       "revol_util                            502            0.056571\n",
       "title                                 152            0.017129\n",
       "collections_12_mths_ex_med            145            0.016340\n",
       "last_credit_pull_d                     53            0.005973\n",
       "total_acc                              29            0.003268\n",
       "open_acc                               29            0.003268\n",
       "inq_last_6mths                         29            0.003268\n",
       "earliest_cr_line                       29            0.003268\n",
       "delinq_2yrs                            29            0.003268\n",
       "pub_rec                                29            0.003268\n",
       "acc_now_delinq                         29            0.003268\n",
       "annual_inc                              4            0.000451\n",
       "last_pymnt_amnt                         0            0.000000\n",
       "out_prncp_inv                           0            0.000000\n",
       "funded_amnt_inv                         0            0.000000\n",
       "collection_recovery_fee                 0            0.000000\n",
       "recoveries                              0            0.000000\n",
       "total_rec_late_fee                      0            0.000000\n",
       "policy_code                             0            0.000000\n",
       "application_type                        0            0.000000\n",
       "total_rec_int                           0            0.000000\n",
       "total_rec_prncp                         0            0.000000\n",
       "total_pymnt_inv                         0            0.000000\n",
       "funded_amnt                             0            0.000000\n",
       "loan_amnt                               0            0.000000\n",
       "total_pymnt                             0            0.000000\n",
       "term                                    0            0.000000\n",
       "out_prncp                               0            0.000000\n",
       "pymnt_plan                              0            0.000000\n",
       "installment                             0            0.000000\n",
       "grade                                   0            0.000000\n",
       "sub_grade                               0            0.000000\n",
       "home_ownership                          0            0.000000\n",
       "verification_status                     0            0.000000\n",
       "issue_d                                 0            0.000000\n",
       "loan_status                             0            0.000000\n",
       "url                                     0            0.000000\n",
       "initial_list_status                     0            0.000000\n",
       "purpose                                 0            0.000000\n",
       "zip_code                                0            0.000000\n",
       "addr_state                              0            0.000000\n",
       "dti                                     0            0.000000\n",
       "member_id                               0            0.000000\n",
       "int_rate                                0            0.000000\n",
       "revol_bal                               0            0.000000\n",
       "id                                      0            0.000000"
      ]
     },
     "execution_count": 12,
     "metadata": {},
     "output_type": "execute_result"
    }
   ],
   "source": [
    "data_df.sort_values(by='percentage missing',ascending=False)"
   ]
  },
  {
   "cell_type": "code",
   "execution_count": 13,
   "metadata": {},
   "outputs": [
    {
     "name": "stdout",
     "output_type": "stream",
     "text": [
      "<class 'pandas.core.frame.DataFrame'>\n",
      "RangeIndex: 887379 entries, 0 to 887378\n",
      "Data columns (total 54 columns):\n",
      " #   Column                      Non-Null Count   Dtype         \n",
      "---  ------                      --------------   -----         \n",
      " 0   id                          887379 non-null  int64         \n",
      " 1   member_id                   887379 non-null  int64         \n",
      " 2   loan_amnt                   887379 non-null  float64       \n",
      " 3   funded_amnt                 887379 non-null  float64       \n",
      " 4   funded_amnt_inv             887379 non-null  float64       \n",
      " 5   term                        887379 non-null  object        \n",
      " 6   int_rate                    887379 non-null  float64       \n",
      " 7   installment                 887379 non-null  float64       \n",
      " 8   grade                       887379 non-null  object        \n",
      " 9   sub_grade                   887379 non-null  object        \n",
      " 10  emp_title                   835917 non-null  object        \n",
      " 11  emp_length                  842554 non-null  object        \n",
      " 12  home_ownership              887379 non-null  object        \n",
      " 13  annual_inc                  887375 non-null  float64       \n",
      " 14  verification_status         887379 non-null  object        \n",
      " 15  issue_d                     887379 non-null  datetime64[ns]\n",
      " 16  loan_status                 887379 non-null  object        \n",
      " 17  pymnt_plan                  887379 non-null  object        \n",
      " 18  url                         887379 non-null  object        \n",
      " 19  purpose                     887379 non-null  object        \n",
      " 20  title                       887227 non-null  object        \n",
      " 21  zip_code                    887379 non-null  object        \n",
      " 22  addr_state                  887379 non-null  object        \n",
      " 23  dti                         887379 non-null  float64       \n",
      " 24  delinq_2yrs                 887350 non-null  float64       \n",
      " 25  earliest_cr_line            887350 non-null  datetime64[ns]\n",
      " 26  inq_last_6mths              887350 non-null  float64       \n",
      " 27  mths_since_last_delinq      433067 non-null  float64       \n",
      " 28  open_acc                    887350 non-null  float64       \n",
      " 29  pub_rec                     887350 non-null  float64       \n",
      " 30  revol_bal                   887379 non-null  float64       \n",
      " 31  revol_util                  886877 non-null  float64       \n",
      " 32  total_acc                   887350 non-null  float64       \n",
      " 33  initial_list_status         887379 non-null  object        \n",
      " 34  out_prncp                   887379 non-null  float64       \n",
      " 35  out_prncp_inv               887379 non-null  float64       \n",
      " 36  total_pymnt                 887379 non-null  float64       \n",
      " 37  total_pymnt_inv             887379 non-null  float64       \n",
      " 38  total_rec_prncp             887379 non-null  float64       \n",
      " 39  total_rec_int               887379 non-null  float64       \n",
      " 40  total_rec_late_fee          887379 non-null  float64       \n",
      " 41  recoveries                  887379 non-null  float64       \n",
      " 42  collection_recovery_fee     887379 non-null  float64       \n",
      " 43  last_pymnt_d                869720 non-null  datetime64[ns]\n",
      " 44  last_pymnt_amnt             887379 non-null  float64       \n",
      " 45  next_pymnt_d                634408 non-null  datetime64[ns]\n",
      " 46  last_credit_pull_d          887326 non-null  datetime64[ns]\n",
      " 47  collections_12_mths_ex_med  887234 non-null  float64       \n",
      " 48  policy_code                 887379 non-null  float64       \n",
      " 49  application_type            887379 non-null  object        \n",
      " 50  acc_now_delinq              887350 non-null  float64       \n",
      " 51  tot_coll_amt                817103 non-null  float64       \n",
      " 52  tot_cur_bal                 817103 non-null  float64       \n",
      " 53  total_rev_hi_lim            817103 non-null  float64       \n",
      "dtypes: datetime64[ns](5), float64(31), int64(2), object(16)\n",
      "memory usage: 365.6+ MB\n"
     ]
    }
   ],
   "source": [
    "data.info()"
   ]
  },
  {
   "cell_type": "code",
   "execution_count": 14,
   "metadata": {},
   "outputs": [
    {
     "data": {
      "text/plain": [
       "float64           31\n",
       "object            16\n",
       "datetime64[ns]     5\n",
       "int64              2\n",
       "dtype: int64"
      ]
     },
     "execution_count": 14,
     "metadata": {},
     "output_type": "execute_result"
    }
   ],
   "source": [
    "data.dtypes.value_counts()"
   ]
  },
  {
   "cell_type": "code",
   "execution_count": 15,
   "metadata": {},
   "outputs": [],
   "source": [
    "data.drop(['id','member_id','url','title','emp_title'],axis=1,inplace=True)"
   ]
  },
  {
   "cell_type": "code",
   "execution_count": 16,
   "metadata": {},
   "outputs": [
    {
     "data": {
      "text/plain": [
       "pandas.core.indexes.base.Index"
      ]
     },
     "execution_count": 16,
     "metadata": {},
     "output_type": "execute_result"
    }
   ],
   "source": [
    "col_list=data.select_dtypes(include='object').columns\n",
    "type(col_list)"
   ]
  },
  {
   "cell_type": "code",
   "execution_count": 17,
   "metadata": {},
   "outputs": [
    {
     "name": "stderr",
     "output_type": "stream",
     "text": [
      "D:\\Installation\\lib\\site-packages\\ipykernel_launcher.py:1: DeprecationWarning: The default dtype for empty Series will be 'object' instead of 'float64' in a future version. Specify a dtype explicitly to silence this warning.\n",
      "  \"\"\"Entry point for launching an IPython kernel.\n"
     ]
    }
   ],
   "source": [
    "object_ser=pd.Series(index=col_list)"
   ]
  },
  {
   "cell_type": "code",
   "execution_count": 18,
   "metadata": {},
   "outputs": [],
   "source": [
    "for i in col_list:\n",
    "    object_ser[i]=data[i].nunique()"
   ]
  },
  {
   "cell_type": "code",
   "execution_count": 19,
   "metadata": {},
   "outputs": [
    {
     "data": {
      "text/plain": [
       "term                     2.0\n",
       "grade                    7.0\n",
       "sub_grade               35.0\n",
       "emp_length              11.0\n",
       "home_ownership           6.0\n",
       "verification_status      3.0\n",
       "loan_status             10.0\n",
       "pymnt_plan               2.0\n",
       "purpose                 14.0\n",
       "zip_code               935.0\n",
       "addr_state              51.0\n",
       "initial_list_status      2.0\n",
       "application_type         2.0\n",
       "dtype: float64"
      ]
     },
     "execution_count": 19,
     "metadata": {},
     "output_type": "execute_result"
    }
   ],
   "source": [
    "object_ser"
   ]
  },
  {
   "cell_type": "code",
   "execution_count": 20,
   "metadata": {},
   "outputs": [
    {
     "data": {
      "text/plain": [
       "INDIVIDUAL    886868\n",
       "JOINT            511\n",
       "Name: application_type, dtype: int64"
      ]
     },
     "execution_count": 20,
     "metadata": {},
     "output_type": "execute_result"
    }
   ],
   "source": [
    "data['application_type'].value_counts()"
   ]
  },
  {
   "cell_type": "markdown",
   "metadata": {},
   "source": [
    "### we can drop application_type as almost all are same"
   ]
  },
  {
   "cell_type": "code",
   "execution_count": 21,
   "metadata": {},
   "outputs": [],
   "source": [
    "data.drop('application_type',axis=1,inplace=True)"
   ]
  },
  {
   "cell_type": "code",
   "execution_count": 22,
   "metadata": {},
   "outputs": [
    {
     "data": {
      "text/plain": [
       "MORTGAGE    443557\n",
       "RENT        356117\n",
       "OWN          87470\n",
       "OTHER          182\n",
       "NONE            50\n",
       "ANY              3\n",
       "Name: home_ownership, dtype: int64"
      ]
     },
     "execution_count": 22,
     "metadata": {},
     "output_type": "execute_result"
    }
   ],
   "source": [
    "data['home_ownership'].value_counts()\n"
   ]
  },
  {
   "cell_type": "code",
   "execution_count": 23,
   "metadata": {},
   "outputs": [
    {
     "data": {
      "text/plain": [
       "debt_consolidation    524215\n",
       "credit_card           206182\n",
       "home_improvement       51829\n",
       "other                  42894\n",
       "major_purchase         17277\n",
       "small_business         10377\n",
       "car                     8863\n",
       "medical                 8540\n",
       "moving                  5414\n",
       "vacation                4736\n",
       "house                   3707\n",
       "wedding                 2347\n",
       "renewable_energy         575\n",
       "educational              423\n",
       "Name: purpose, dtype: int64"
      ]
     },
     "execution_count": 23,
     "metadata": {},
     "output_type": "execute_result"
    }
   ],
   "source": [
    "data['purpose'].value_counts()"
   ]
  },
  {
   "cell_type": "code",
   "execution_count": 24,
   "metadata": {},
   "outputs": [
    {
     "data": {
      "text/plain": [
       "n    887369\n",
       "y        10\n",
       "Name: pymnt_plan, dtype: int64"
      ]
     },
     "execution_count": 24,
     "metadata": {},
     "output_type": "execute_result"
    }
   ],
   "source": [
    "data['pymnt_plan'].value_counts()"
   ]
  },
  {
   "cell_type": "markdown",
   "metadata": {},
   "source": [
    "### we can remove pymnt_plan as max are no only few are yes"
   ]
  },
  {
   "cell_type": "code",
   "execution_count": 25,
   "metadata": {},
   "outputs": [],
   "source": [
    "data.drop('pymnt_plan',axis=1,inplace=True)"
   ]
  },
  {
   "cell_type": "code",
   "execution_count": 26,
   "metadata": {},
   "outputs": [
    {
     "data": {
      "text/plain": [
       " 36 months    621125\n",
       " 60 months    266254\n",
       "Name: term, dtype: int64"
      ]
     },
     "execution_count": 26,
     "metadata": {},
     "output_type": "execute_result"
    }
   ],
   "source": [
    "data['term'].value_counts()"
   ]
  },
  {
   "cell_type": "code",
   "execution_count": 27,
   "metadata": {},
   "outputs": [
    {
     "data": {
      "text/plain": [
       "0         860xx\n",
       "1         309xx\n",
       "2         606xx\n",
       "3         917xx\n",
       "4         972xx\n",
       "          ...  \n",
       "887374    905xx\n",
       "887375    072xx\n",
       "887376    378xx\n",
       "887377    010xx\n",
       "887378    331xx\n",
       "Name: zip_code, Length: 887379, dtype: object"
      ]
     },
     "execution_count": 27,
     "metadata": {},
     "output_type": "execute_result"
    }
   ],
   "source": [
    "data['zip_code']"
   ]
  },
  {
   "cell_type": "code",
   "execution_count": 28,
   "metadata": {},
   "outputs": [],
   "source": [
    "data.drop('zip_code',axis=1,inplace=True)"
   ]
  },
  {
   "cell_type": "code",
   "execution_count": 29,
   "metadata": {},
   "outputs": [
    {
     "data": {
      "text/plain": [
       "0.0     716961\n",
       "1.0     113224\n",
       "2.0      33551\n",
       "3.0      11977\n",
       "4.0       5327\n",
       "5.0       2711\n",
       "6.0       1471\n",
       "7.0        784\n",
       "8.0        461\n",
       "9.0        284\n",
       "10.0       192\n",
       "11.0       121\n",
       "12.0        89\n",
       "13.0        64\n",
       "14.0        45\n",
       "15.0        28\n",
       "16.0        17\n",
       "18.0        11\n",
       "17.0        10\n",
       "19.0         8\n",
       "22.0         3\n",
       "21.0         2\n",
       "26.0         2\n",
       "20.0         2\n",
       "30.0         1\n",
       "39.0         1\n",
       "27.0         1\n",
       "29.0         1\n",
       "24.0         1\n",
       "Name: delinq_2yrs, dtype: int64"
      ]
     },
     "execution_count": 29,
     "metadata": {},
     "output_type": "execute_result"
    }
   ],
   "source": [
    "data['delinq_2yrs'].value_counts()"
   ]
  },
  {
   "cell_type": "code",
   "execution_count": 30,
   "metadata": {},
   "outputs": [
    {
     "data": {
      "text/plain": [
       "0.0     883236\n",
       "1.0       3866\n",
       "2.0        208\n",
       "3.0         28\n",
       "4.0          7\n",
       "5.0          3\n",
       "6.0          1\n",
       "14.0         1\n",
       "Name: acc_now_delinq, dtype: int64"
      ]
     },
     "execution_count": 30,
     "metadata": {},
     "output_type": "execute_result"
    }
   ],
   "source": [
    "data['acc_now_delinq'].value_counts()"
   ]
  },
  {
   "cell_type": "markdown",
   "metadata": {},
   "source": [
    "### acc_now_delinq can be removed as max is 0\n"
   ]
  },
  {
   "cell_type": "code",
   "execution_count": 31,
   "metadata": {},
   "outputs": [],
   "source": [
    "data.drop('acc_now_delinq',axis=1,inplace=True)"
   ]
  },
  {
   "cell_type": "code",
   "execution_count": 32,
   "metadata": {},
   "outputs": [
    {
     "data": {
      "text/plain": [
       "0.0     751572\n",
       "1.0     113266\n",
       "2.0      14854\n",
       "3.0       4487\n",
       "4.0       1564\n",
       "5.0        757\n",
       "6.0        385\n",
       "7.0        170\n",
       "8.0        113\n",
       "9.0         50\n",
       "10.0        42\n",
       "11.0        23\n",
       "12.0        16\n",
       "13.0        12\n",
       "15.0         6\n",
       "18.0         5\n",
       "16.0         5\n",
       "21.0         4\n",
       "17.0         3\n",
       "14.0         2\n",
       "49.0         2\n",
       "19.0         2\n",
       "40.0         1\n",
       "86.0         1\n",
       "20.0         1\n",
       "23.0         1\n",
       "63.0         1\n",
       "22.0         1\n",
       "28.0         1\n",
       "34.0         1\n",
       "26.0         1\n",
       "54.0         1\n",
       "Name: pub_rec, dtype: int64"
      ]
     },
     "execution_count": 32,
     "metadata": {},
     "output_type": "execute_result"
    }
   ],
   "source": [
    "data['pub_rec'].value_counts()"
   ]
  },
  {
   "cell_type": "code",
   "execution_count": 33,
   "metadata": {},
   "outputs": [
    {
     "data": {
      "text/plain": [
       "Current                                                601779\n",
       "Fully Paid                                             207723\n",
       "Charged Off                                             45248\n",
       "Late (31-120 days)                                      11591\n",
       "Issued                                                   8460\n",
       "In Grace Period                                          6253\n",
       "Late (16-30 days)                                        2357\n",
       "Does not meet the credit policy. Status:Fully Paid       1988\n",
       "Default                                                  1219\n",
       "Does not meet the credit policy. Status:Charged Off       761\n",
       "Name: loan_status, dtype: int64"
      ]
     },
     "execution_count": 33,
     "metadata": {},
     "output_type": "execute_result"
    }
   ],
   "source": [
    "data['loan_status'].value_counts()"
   ]
  },
  {
   "cell_type": "code",
   "execution_count": 34,
   "metadata": {},
   "outputs": [],
   "source": [
    "### we want to identify only between curren fully paid so we can remove rest"
   ]
  },
  {
   "cell_type": "code",
   "execution_count": 35,
   "metadata": {},
   "outputs": [],
   "source": [
    "data=data[(data.loan_status=='Fully Paid') | (data.loan_status=='Charged Off')]"
   ]
  },
  {
   "cell_type": "code",
   "execution_count": 36,
   "metadata": {},
   "outputs": [
    {
     "data": {
      "text/plain": [
       "debt_consolidation    148363\n",
       "credit_card            50076\n",
       "home_improvement       14929\n",
       "other                  14277\n",
       "major_purchase          6265\n",
       "small_business          4746\n",
       "car                     3646\n",
       "medical                 2854\n",
       "moving                  2028\n",
       "wedding                 1955\n",
       "house                   1652\n",
       "vacation                1588\n",
       "educational              325\n",
       "renewable_energy         267\n",
       "Name: purpose, dtype: int64"
      ]
     },
     "execution_count": 36,
     "metadata": {},
     "output_type": "execute_result"
    }
   ],
   "source": [
    "data['purpose'].value_counts()"
   ]
  },
  {
   "cell_type": "code",
   "execution_count": 37,
   "metadata": {},
   "outputs": [
    {
     "data": {
      "text/plain": [
       "[]"
      ]
     },
     "execution_count": 37,
     "metadata": {},
     "output_type": "execute_result"
    },
    {
     "data": {
      "image/png": "[encoded data removed]",
      "text/plain": [
       "<Figure size 1152x432 with 1 Axes>"
      ]
     },
     "metadata": {
      "needs_background": "light"
     },
     "output_type": "display_data"
    }
   ],
   "source": [
    "plt.figure(figsize=[16,6])\n",
    "sns.countplot(x='purpose',data=data,hue='loan_status')\n",
    "plt.plot()"
   ]
  },
  {
   "cell_type": "code",
   "execution_count": 38,
   "metadata": {},
   "outputs": [
    {
     "data": {
      "text/plain": [
       "1.0    252971\n",
       "Name: policy_code, dtype: int64"
      ]
     },
     "execution_count": 38,
     "metadata": {},
     "output_type": "execute_result"
    }
   ],
   "source": [
    "data['policy_code'].value_counts()"
   ]
  },
  {
   "cell_type": "code",
   "execution_count": 39,
   "metadata": {},
   "outputs": [
    {
     "data": {
      "text/plain": [
       "0.0     222043\n",
       "1.0      27332\n",
       "2.0       2547\n",
       "3.0        676\n",
       "4.0        202\n",
       "5.0         92\n",
       "6.0         39\n",
       "7.0         19\n",
       "8.0          8\n",
       "9.0          5\n",
       "10.0         5\n",
       "11.0         1\n",
       "12.0         1\n",
       "15.0         1\n",
       "Name: pub_rec, dtype: int64"
      ]
     },
     "execution_count": 39,
     "metadata": {},
     "output_type": "execute_result"
    }
   ],
   "source": [
    "data['pub_rec'].value_counts()"
   ]
  },
  {
   "cell_type": "code",
   "execution_count": 40,
   "metadata": {},
   "outputs": [
    {
     "data": {
      "text/plain": [
       "f    182079\n",
       "w     70892\n",
       "Name: initial_list_status, dtype: int64"
      ]
     },
     "execution_count": 40,
     "metadata": {},
     "output_type": "execute_result"
    }
   ],
   "source": [
    "data['initial_list_status'].value_counts()"
   ]
  },
  {
   "cell_type": "code",
   "execution_count": 41,
   "metadata": {},
   "outputs": [
    {
     "data": {
      "text/plain": [
       "0.0    252971\n",
       "Name: out_prncp, dtype: int64"
      ]
     },
     "execution_count": 41,
     "metadata": {},
     "output_type": "execute_result"
    }
   ],
   "source": [
    "data['out_prncp'].value_counts()"
   ]
  },
  {
   "cell_type": "code",
   "execution_count": 42,
   "metadata": {},
   "outputs": [
    {
     "data": {
      "text/plain": [
       "0.0    252971\n",
       "Name: out_prncp_inv, dtype: int64"
      ]
     },
     "execution_count": 42,
     "metadata": {},
     "output_type": "execute_result"
    }
   ],
   "source": [
    "data['out_prncp_inv'].value_counts()"
   ]
  },
  {
   "cell_type": "code",
   "execution_count": 43,
   "metadata": {},
   "outputs": [
    {
     "data": {
      "text/plain": [
       "0.0    251341\n",
       "1.0      1466\n",
       "2.0        96\n",
       "3.0         8\n",
       "4.0         2\n",
       "5.0         1\n",
       "6.0         1\n",
       "Name: collections_12_mths_ex_med, dtype: int64"
      ]
     },
     "execution_count": 43,
     "metadata": {},
     "output_type": "execute_result"
    }
   ],
   "source": [
    "data['collections_12_mths_ex_med'].value_counts()"
   ]
  },
  {
   "cell_type": "code",
   "execution_count": 44,
   "metadata": {},
   "outputs": [],
   "source": [
    "data.drop(['out_prncp_inv','out_prncp','policy_code'],axis=1,inplace=True)"
   ]
  },
  {
   "cell_type": "code",
   "execution_count": 45,
   "metadata": {},
   "outputs": [
    {
     "name": "stdout",
     "output_type": "stream",
     "text": [
      "<class 'pandas.core.frame.DataFrame'>\n",
      "Int64Index: 252971 entries, 0 to 887371\n",
      "Data columns (total 42 columns):\n",
      " #   Column                      Non-Null Count   Dtype         \n",
      "---  ------                      --------------   -----         \n",
      " 0   loan_amnt                   252971 non-null  float64       \n",
      " 1   funded_amnt                 252971 non-null  float64       \n",
      " 2   funded_amnt_inv             252971 non-null  float64       \n",
      " 3   term                        252971 non-null  object        \n",
      " 4   int_rate                    252971 non-null  float64       \n",
      " 5   installment                 252971 non-null  float64       \n",
      " 6   grade                       252971 non-null  object        \n",
      " 7   sub_grade                   252971 non-null  object        \n",
      " 8   emp_length                  243074 non-null  object        \n",
      " 9   home_ownership              252971 non-null  object        \n",
      " 10  annual_inc                  252971 non-null  float64       \n",
      " 11  verification_status         252971 non-null  object        \n",
      " 12  issue_d                     252971 non-null  datetime64[ns]\n",
      " 13  loan_status                 252971 non-null  object        \n",
      " 14  purpose                     252971 non-null  object        \n",
      " 15  addr_state                  252971 non-null  object        \n",
      " 16  dti                         252971 non-null  float64       \n",
      " 17  delinq_2yrs                 252971 non-null  float64       \n",
      " 18  earliest_cr_line            252971 non-null  datetime64[ns]\n",
      " 19  inq_last_6mths              252971 non-null  float64       \n",
      " 20  mths_since_last_delinq      112151 non-null  float64       \n",
      " 21  open_acc                    252971 non-null  float64       \n",
      " 22  pub_rec                     252971 non-null  float64       \n",
      " 23  revol_bal                   252971 non-null  float64       \n",
      " 24  revol_util                  252772 non-null  float64       \n",
      " 25  total_acc                   252971 non-null  float64       \n",
      " 26  initial_list_status         252971 non-null  object        \n",
      " 27  total_pymnt                 252971 non-null  float64       \n",
      " 28  total_pymnt_inv             252971 non-null  float64       \n",
      " 29  total_rec_prncp             252971 non-null  float64       \n",
      " 30  total_rec_int               252971 non-null  float64       \n",
      " 31  total_rec_late_fee          252971 non-null  float64       \n",
      " 32  recoveries                  252971 non-null  float64       \n",
      " 33  collection_recovery_fee     252971 non-null  float64       \n",
      " 34  last_pymnt_d                252444 non-null  datetime64[ns]\n",
      " 35  last_pymnt_amnt             252971 non-null  float64       \n",
      " 36  next_pymnt_d                0 non-null       datetime64[ns]\n",
      " 37  last_credit_pull_d          252950 non-null  datetime64[ns]\n",
      " 38  collections_12_mths_ex_med  252915 non-null  float64       \n",
      " 39  tot_coll_amt                189263 non-null  float64       \n",
      " 40  tot_cur_bal                 189263 non-null  float64       \n",
      " 41  total_rev_hi_lim            189263 non-null  float64       \n",
      "dtypes: datetime64[ns](5), float64(27), object(10)\n",
      "memory usage: 93.0+ MB\n"
     ]
    }
   ],
   "source": [
    "data.info()"
   ]
  },
  {
   "cell_type": "code",
   "execution_count": 46,
   "metadata": {},
   "outputs": [
    {
     "data": {
      "text/plain": [
       "10+ years    76881\n",
       "2 years      23561\n",
       "< 1 year     20886\n",
       "3 years      20380\n",
       "5 years      18059\n",
       "1 year       16856\n",
       "4 years      16197\n",
       "6 years      14753\n",
       "7 years      14085\n",
       "8 years      11849\n",
       "9 years       9567\n",
       "Name: emp_length, dtype: int64"
      ]
     },
     "execution_count": 46,
     "metadata": {},
     "output_type": "execute_result"
    }
   ],
   "source": [
    "data['emp_length'].value_counts()"
   ]
  },
  {
   "cell_type": "code",
   "execution_count": 47,
   "metadata": {},
   "outputs": [],
   "source": [
    "data['emp_length'].replace({'10+ years':10,'2 years':2,'< 1 year':1,'3 years':3,'5 years':5,'1 year':1,'4 years':4,'6 years':6\n",
    "                           ,'7 years':7,'8 years':8,'9 years':9},inplace=True)"
   ]
  },
  {
   "cell_type": "code",
   "execution_count": 48,
   "metadata": {},
   "outputs": [
    {
     "data": {
      "text/plain": [
       "<function matplotlib.pyplot.plot(*args, scalex=True, scaley=True, data=None, **kwargs)>"
      ]
     },
     "execution_count": 48,
     "metadata": {},
     "output_type": "execute_result"
    },
    {
     "data": {
      "image/png": "[encoded data removed]",
      "text/plain": [
       "<Figure size 576x432 with 1 Axes>"
      ]
     },
     "metadata": {
      "needs_background": "light"
     },
     "output_type": "display_data"
    }
   ],
   "source": [
    "plt.figure(figsize=[8,6])\n",
    "sns.countplot(data['emp_length'])\n",
    "plt.plot"
   ]
  },
  {
   "cell_type": "code",
   "execution_count": 49,
   "metadata": {},
   "outputs": [],
   "source": [
    "data['emp_length'].fillna(data.emp_length.median(),inplace=True)"
   ]
  },
  {
   "cell_type": "code",
   "execution_count": 50,
   "metadata": {},
   "outputs": [
    {
     "data": {
      "text/plain": [
       "0"
      ]
     },
     "execution_count": 50,
     "metadata": {},
     "output_type": "execute_result"
    }
   ],
   "source": [
    "data['emp_length'].isnull().sum()"
   ]
  },
  {
   "cell_type": "code",
   "execution_count": 51,
   "metadata": {},
   "outputs": [
    {
     "data": {
      "text/plain": [
       "<matplotlib.axes._subplots.AxesSubplot at 0x37f59ac8>"
      ]
     },
     "execution_count": 51,
     "metadata": {},
     "output_type": "execute_result"
    },
    {
     "data": {
      "image/png": "[encoded data removed]",
      "text/plain": [
       "<Figure size 432x288 with 1 Axes>"
      ]
     },
     "metadata": {
      "needs_background": "light"
     },
     "output_type": "display_data"
    }
   ],
   "source": [
    "sns.distplot(data['loan_amnt'])"
   ]
  },
  {
   "cell_type": "markdown",
   "metadata": {},
   "source": [
    "## Mostly loan is from 5000 to 20000 "
   ]
  },
  {
   "cell_type": "code",
   "execution_count": 52,
   "metadata": {},
   "outputs": [
    {
     "data": {
      "text/plain": [
       "<matplotlib.axes._subplots.AxesSubplot at 0x37fe4688>"
      ]
     },
     "execution_count": 52,
     "metadata": {},
     "output_type": "execute_result"
    },
    {
     "data": {
      "image/png": "[encoded data removed]",
      "text/plain": [
       "<Figure size 432x288 with 1 Axes>"
      ]
     },
     "metadata": {
      "needs_background": "light"
     },
     "output_type": "display_data"
    }
   ],
   "source": [
    "sns.distplot(data['funded_amnt'])"
   ]
  },
  {
   "cell_type": "code",
   "execution_count": 53,
   "metadata": {},
   "outputs": [
    {
     "data": {
      "text/plain": [
       "<matplotlib.axes._subplots.AxesSubplot at 0x37eb9148>"
      ]
     },
     "execution_count": 53,
     "metadata": {},
     "output_type": "execute_result"
    },
    {
     "data": {
      "image/png": "[encoded data removed]",
      "text/plain": [
       "<Figure size 432x288 with 1 Axes>"
      ]
     },
     "metadata": {
      "needs_background": "light"
     },
     "output_type": "display_data"
    }
   ],
   "source": [
    "sns.distplot(data['funded_amnt_inv'])"
   ]
  },
  {
   "cell_type": "markdown",
   "metadata": {},
   "source": [
    "### loan_amnt\tfunded_amnt \tfunded_amnt_inv  are almost the same , so we can drop 2 of these else it can lead to multicollinearity"
   ]
  },
  {
   "cell_type": "code",
   "execution_count": 54,
   "metadata": {},
   "outputs": [
    {
     "data": {
      "text/plain": [
       "<matplotlib.axes._subplots.AxesSubplot at 0x3b8de208>"
      ]
     },
     "execution_count": 54,
     "metadata": {},
     "output_type": "execute_result"
    },
    {
     "data": {
      "image/png": "[encoded data removed]",
      "text/plain": [
       "<Figure size 432x288 with 1 Axes>"
      ]
     },
     "metadata": {
      "needs_background": "light"
     },
     "output_type": "display_data"
    }
   ],
   "source": [
    "sns.countplot('term',data=data, hue='loan_status')"
   ]
  },
  {
   "cell_type": "code",
   "execution_count": 55,
   "metadata": {},
   "outputs": [
    {
     "data": {
      "text/plain": [
       "<matplotlib.axes._subplots.AxesSubplot at 0x3b937288>"
      ]
     },
     "execution_count": 55,
     "metadata": {},
     "output_type": "execute_result"
    },
    {
     "data": {
      "image/png": "[encoded data removed]",
      "text/plain": [
       "<Figure size 432x288 with 1 Axes>"
      ]
     },
     "metadata": {
      "needs_background": "light"
     },
     "output_type": "display_data"
    }
   ],
   "source": [
    "sns.distplot(data['annual_inc'])"
   ]
  },
  {
   "cell_type": "code",
   "execution_count": 56,
   "metadata": {},
   "outputs": [
    {
     "data": {
      "text/plain": [
       "72538.25102541385"
      ]
     },
     "execution_count": 56,
     "metadata": {},
     "output_type": "execute_result"
    }
   ],
   "source": [
    "data['annual_inc'].mean()"
   ]
  },
  {
   "cell_type": "code",
   "execution_count": 57,
   "metadata": {},
   "outputs": [
    {
     "data": {
      "text/plain": [
       "62000.0"
      ]
     },
     "execution_count": 57,
     "metadata": {},
     "output_type": "execute_result"
    }
   ],
   "source": [
    "data['annual_inc'].median()"
   ]
  },
  {
   "cell_type": "code",
   "execution_count": 58,
   "metadata": {},
   "outputs": [
    {
     "data": {
      "text/plain": [
       "count    2.529710e+05\n",
       "mean     7.253825e+04\n",
       "std      5.881181e+04\n",
       "min      3.000000e+03\n",
       "25%      4.500000e+04\n",
       "50%      6.200000e+04\n",
       "75%      8.700000e+04\n",
       "max      8.706582e+06\n",
       "Name: annual_inc, dtype: float64"
      ]
     },
     "execution_count": 58,
     "metadata": {},
     "output_type": "execute_result"
    }
   ],
   "source": [
    "data['annual_inc'].describe()"
   ]
  },
  {
   "cell_type": "code",
   "execution_count": 59,
   "metadata": {},
   "outputs": [],
   "source": [
    "data['issue_month']=data.issue_d.dt.month\n",
    "data['issue_year']=data.issue_d.dt.year"
   ]
  },
  {
   "cell_type": "code",
   "execution_count": 60,
   "metadata": {},
   "outputs": [
    {
     "data": {
      "text/plain": [
       "<matplotlib.axes._subplots.AxesSubplot at 0x10204488>"
      ]
     },
     "execution_count": 60,
     "metadata": {},
     "output_type": "execute_result"
    },
    {
     "data": {
      "image/png": "[encoded data removed]",
      "text/plain": [
       "<Figure size 576x432 with 1 Axes>"
      ]
     },
     "metadata": {
      "needs_background": "light"
     },
     "output_type": "display_data"
    }
   ],
   "source": [
    "plt.figure(figsize=[8,6])\n",
    "loan_year=data.groupby('issue_year')['loan_amnt'].count()\n",
    "loan_year.plot.bar()"
   ]
  },
  {
   "cell_type": "code",
   "execution_count": 61,
   "metadata": {},
   "outputs": [
    {
     "data": {
      "text/plain": [
       "<matplotlib.axes._subplots.AxesSubplot at 0x2776ee48>"
      ]
     },
     "execution_count": 61,
     "metadata": {},
     "output_type": "execute_result"
    },
    {
     "data": {
      "image/png": "[encoded data removed]",
      "text/plain": [
       "<Figure size 576x432 with 1 Axes>"
      ]
     },
     "metadata": {
      "needs_background": "light"
     },
     "output_type": "display_data"
    }
   ],
   "source": [
    "plt.figure(figsize=[8,6])\n",
    "loan_year=data.groupby('issue_year')['loan_amnt'].sum()\n",
    "loan_year.plot.bar()"
   ]
  },
  {
   "cell_type": "markdown",
   "metadata": {},
   "source": [
    "### As we have deleted out 2015 data so we cannot predict for 2015 but for 2013 and 2014 mostly loans are issued"
   ]
  },
  {
   "cell_type": "code",
   "execution_count": 62,
   "metadata": {},
   "outputs": [
    {
     "data": {
      "text/plain": [
       "<matplotlib.axes._subplots.AxesSubplot at 0x278025c8>"
      ]
     },
     "execution_count": 62,
     "metadata": {},
     "output_type": "execute_result"
    },
    {
     "data": {
      "image/png": "[encoded data removed]",
      "text/plain": [
       "<Figure size 576x432 with 1 Axes>"
      ]
     },
     "metadata": {
      "needs_background": "light"
     },
     "output_type": "display_data"
    }
   ],
   "source": [
    "plt.figure(figsize=[8,6])\n",
    "loan_year=data.groupby('issue_year')['int_rate'].mean()\n",
    "loan_year.plot()"
   ]
  },
  {
   "cell_type": "markdown",
   "metadata": {},
   "source": [
    "### Interest rate is increating with years and is highest in 2013 also it has droped for 2014 little bit "
   ]
  },
  {
   "cell_type": "code",
   "execution_count": 63,
   "metadata": {},
   "outputs": [
    {
     "data": {
      "text/plain": [
       "[]"
      ]
     },
     "execution_count": 63,
     "metadata": {},
     "output_type": "execute_result"
    },
    {
     "data": {
      "image/png": "[encoded data removed]",
      "text/plain": [
       "<Figure size 1152x432 with 1 Axes>"
      ]
     },
     "metadata": {
      "needs_background": "light"
     },
     "output_type": "display_data"
    }
   ],
   "source": [
    "plt.figure(figsize=[16,6])\n",
    "sns.countplot(data['purpose'])\n",
    "plt.plot()"
   ]
  },
  {
   "cell_type": "code",
   "execution_count": 64,
   "metadata": {},
   "outputs": [
    {
     "data": {
      "text/plain": [
       "[]"
      ]
     },
     "execution_count": 64,
     "metadata": {},
     "output_type": "execute_result"
    },
    {
     "data": {
      "image/png": "[encoded data removed]",
      "text/plain": [
       "<Figure size 1152x432 with 1 Axes>"
      ]
     },
     "metadata": {
      "needs_background": "light"
     },
     "output_type": "display_data"
    }
   ],
   "source": [
    "plt.figure(figsize=[16,6])\n",
    "sns.countplot('purpose',data=data ,hue='loan_status')\n",
    "plt.plot()"
   ]
  },
  {
   "cell_type": "code",
   "execution_count": 65,
   "metadata": {},
   "outputs": [
    {
     "data": {
      "text/plain": [
       "debt_consolidation    148363\n",
       "credit_card            50076\n",
       "home_improvement       14929\n",
       "other                  14277\n",
       "major_purchase          6265\n",
       "small_business          4746\n",
       "car                     3646\n",
       "medical                 2854\n",
       "moving                  2028\n",
       "wedding                 1955\n",
       "house                   1652\n",
       "vacation                1588\n",
       "educational              325\n",
       "renewable_energy         267\n",
       "Name: purpose, dtype: int64"
      ]
     },
     "execution_count": 65,
     "metadata": {},
     "output_type": "execute_result"
    }
   ],
   "source": [
    "data['purpose'].value_counts()"
   ]
  },
  {
   "cell_type": "markdown",
   "metadata": {},
   "source": [
    "### debt_consolidation is the major purpose of loan "
   ]
  },
  {
   "cell_type": "code",
   "execution_count": 66,
   "metadata": {},
   "outputs": [
    {
     "data": {
      "text/plain": [
       "[]"
      ]
     },
     "execution_count": 66,
     "metadata": {},
     "output_type": "execute_result"
    },
    {
     "data": {
      "image/png": "[encoded data removed]",
      "text/plain": [
       "<Figure size 1152x432 with 1 Axes>"
      ]
     },
     "metadata": {
      "needs_background": "light"
     },
     "output_type": "display_data"
    }
   ],
   "source": [
    "plt.figure(figsize=[16,6])\n",
    "sns.countplot('home_ownership',data=data,hue='loan_status')\n",
    "plt.plot()"
   ]
  },
  {
   "cell_type": "code",
   "execution_count": 67,
   "metadata": {
    "scrolled": true
   },
   "outputs": [
    {
     "data": {
      "text/plain": [
       "MORTGAGE    124844\n",
       "RENT        105957\n",
       "OWN          21985\n",
       "OTHER          141\n",
       "NONE            43\n",
       "ANY              1\n",
       "Name: home_ownership, dtype: int64"
      ]
     },
     "execution_count": 67,
     "metadata": {},
     "output_type": "execute_result"
    }
   ],
   "source": [
    "data['home_ownership'].value_counts()"
   ]
  },
  {
   "cell_type": "markdown",
   "metadata": {},
   "source": [
    "### here we can remove last 3 categories as the data is alomost negligible in them"
   ]
  },
  {
   "cell_type": "code",
   "execution_count": 68,
   "metadata": {},
   "outputs": [],
   "source": [
    "index_name=data[(data.home_ownership=='OTHER')|(data.home_ownership=='NONE')|(data.home_ownership=='ANY')].index\n"
   ]
  },
  {
   "cell_type": "code",
   "execution_count": 69,
   "metadata": {},
   "outputs": [
    {
     "data": {
      "text/plain": [
       "Int64Index([ 13746,  32686,  32774,  33941,  34721,  34863,  34870,  34903,\n",
       "             35015,  35060,\n",
       "            ...\n",
       "            186814, 186874, 186892, 186901, 186904, 186918, 187030, 187214,\n",
       "            227181, 311334],\n",
       "           dtype='int64', length=185)"
      ]
     },
     "execution_count": 69,
     "metadata": {},
     "output_type": "execute_result"
    }
   ],
   "source": [
    "index_name"
   ]
  },
  {
   "cell_type": "code",
   "execution_count": 70,
   "metadata": {},
   "outputs": [],
   "source": [
    "data.drop(index_name,inplace=True)"
   ]
  },
  {
   "cell_type": "code",
   "execution_count": 71,
   "metadata": {},
   "outputs": [
    {
     "data": {
      "text/plain": [
       "MORTGAGE    124844\n",
       "RENT        105957\n",
       "OWN          21985\n",
       "Name: home_ownership, dtype: int64"
      ]
     },
     "execution_count": 71,
     "metadata": {},
     "output_type": "execute_result"
    }
   ],
   "source": [
    "data['home_ownership'].value_counts()"
   ]
  },
  {
   "cell_type": "markdown",
   "metadata": {},
   "source": [
    "## steps to create countplot with stacked columns"
   ]
  },
  {
   "cell_type": "code",
   "execution_count": 72,
   "metadata": {
    "scrolled": true
   },
   "outputs": [
    {
     "data": {
      "text/plain": [
       "loan_status  home_ownership\n",
       "Charged Off  MORTGAGE           19878\n",
       "             OWN                 4025\n",
       "             RENT               21311\n",
       "Fully Paid   MORTGAGE          104966\n",
       "             OWN                17960\n",
       "             RENT               84646\n",
       "dtype: int64"
      ]
     },
     "execution_count": 72,
     "metadata": {},
     "output_type": "execute_result"
    }
   ],
   "source": [
    "data.groupby(['loan_status', 'home_ownership']).size()"
   ]
  },
  {
   "cell_type": "code",
   "execution_count": 73,
   "metadata": {
    "scrolled": true
   },
   "outputs": [
    {
     "data": {
      "text/html": [
       "<div>\n",
       "<style scoped>\n",
       "    .dataframe tbody tr th:only-of-type {\n",
       "        vertical-align: middle;\n",
       "    }\n",
       "\n",
       "    .dataframe tbody tr th {\n",
       "        vertical-align: top;\n",
       "    }\n",
       "\n",
       "    .dataframe thead th {\n",
       "        text-align: right;\n",
       "    }\n",
       "</style>\n",
       "<table border=\"1\" class=\"dataframe\">\n",
       "  <thead>\n",
       "    <tr style=\"text-align: right;\">\n",
       "      <th></th>\n",
       "      <th>loan_status</th>\n",
       "      <th>home_ownership</th>\n",
       "      <th>0</th>\n",
       "    </tr>\n",
       "  </thead>\n",
       "  <tbody>\n",
       "    <tr>\n",
       "      <th>0</th>\n",
       "      <td>Charged Off</td>\n",
       "      <td>MORTGAGE</td>\n",
       "      <td>19878</td>\n",
       "    </tr>\n",
       "    <tr>\n",
       "      <th>1</th>\n",
       "      <td>Charged Off</td>\n",
       "      <td>OWN</td>\n",
       "      <td>4025</td>\n",
       "    </tr>\n",
       "    <tr>\n",
       "      <th>2</th>\n",
       "      <td>Charged Off</td>\n",
       "      <td>RENT</td>\n",
       "      <td>21311</td>\n",
       "    </tr>\n",
       "    <tr>\n",
       "      <th>3</th>\n",
       "      <td>Fully Paid</td>\n",
       "      <td>MORTGAGE</td>\n",
       "      <td>104966</td>\n",
       "    </tr>\n",
       "    <tr>\n",
       "      <th>4</th>\n",
       "      <td>Fully Paid</td>\n",
       "      <td>OWN</td>\n",
       "      <td>17960</td>\n",
       "    </tr>\n",
       "    <tr>\n",
       "      <th>5</th>\n",
       "      <td>Fully Paid</td>\n",
       "      <td>RENT</td>\n",
       "      <td>84646</td>\n",
       "    </tr>\n",
       "  </tbody>\n",
       "</table>\n",
       "</div>"
      ],
      "text/plain": [
       "   loan_status home_ownership       0\n",
       "0  Charged Off       MORTGAGE   19878\n",
       "1  Charged Off            OWN    4025\n",
       "2  Charged Off           RENT   21311\n",
       "3   Fully Paid       MORTGAGE  104966\n",
       "4   Fully Paid            OWN   17960\n",
       "5   Fully Paid           RENT   84646"
      ]
     },
     "execution_count": 73,
     "metadata": {},
     "output_type": "execute_result"
    }
   ],
   "source": [
    "data.groupby(['loan_status', 'home_ownership']).size().reset_index()"
   ]
  },
  {
   "cell_type": "code",
   "execution_count": 74,
   "metadata": {},
   "outputs": [],
   "source": [
    "df_plot = data.groupby(['loan_status', 'home_ownership']).size().reset_index().pivot(columns='loan_status', index='home_ownership', values=0)"
   ]
  },
  {
   "cell_type": "code",
   "execution_count": 75,
   "metadata": {
    "scrolled": true
   },
   "outputs": [
    {
     "data": {
      "text/html": [
       "<div>\n",
       "<style scoped>\n",
       "    .dataframe tbody tr th:only-of-type {\n",
       "        vertical-align: middle;\n",
       "    }\n",
       "\n",
       "    .dataframe tbody tr th {\n",
       "        vertical-align: top;\n",
       "    }\n",
       "\n",
       "    .dataframe thead th {\n",
       "        text-align: right;\n",
       "    }\n",
       "</style>\n",
       "<table border=\"1\" class=\"dataframe\">\n",
       "  <thead>\n",
       "    <tr style=\"text-align: right;\">\n",
       "      <th>loan_status</th>\n",
       "      <th>Charged Off</th>\n",
       "      <th>Fully Paid</th>\n",
       "    </tr>\n",
       "    <tr>\n",
       "      <th>home_ownership</th>\n",
       "      <th></th>\n",
       "      <th></th>\n",
       "    </tr>\n",
       "  </thead>\n",
       "  <tbody>\n",
       "    <tr>\n",
       "      <th>MORTGAGE</th>\n",
       "      <td>19878</td>\n",
       "      <td>104966</td>\n",
       "    </tr>\n",
       "    <tr>\n",
       "      <th>OWN</th>\n",
       "      <td>4025</td>\n",
       "      <td>17960</td>\n",
       "    </tr>\n",
       "    <tr>\n",
       "      <th>RENT</th>\n",
       "      <td>21311</td>\n",
       "      <td>84646</td>\n",
       "    </tr>\n",
       "  </tbody>\n",
       "</table>\n",
       "</div>"
      ],
      "text/plain": [
       "loan_status     Charged Off  Fully Paid\n",
       "home_ownership                         \n",
       "MORTGAGE              19878      104966\n",
       "OWN                    4025       17960\n",
       "RENT                  21311       84646"
      ]
     },
     "execution_count": 75,
     "metadata": {},
     "output_type": "execute_result"
    }
   ],
   "source": [
    "df_plot"
   ]
  },
  {
   "cell_type": "code",
   "execution_count": 76,
   "metadata": {
    "scrolled": false
   },
   "outputs": [
    {
     "data": {
      "text/plain": [
       "<matplotlib.axes._subplots.AxesSubplot at 0x3c522a88>"
      ]
     },
     "execution_count": 76,
     "metadata": {},
     "output_type": "execute_result"
    },
    {
     "data": {
      "image/png": "[encoded data removed]",
      "text/plain": [
       "<Figure size 432x288 with 1 Axes>"
      ]
     },
     "metadata": {
      "needs_background": "light"
     },
     "output_type": "display_data"
    }
   ],
   "source": [
    "df_plot.plot(kind='bar', stacked=True)"
   ]
  },
  {
   "cell_type": "markdown",
   "metadata": {},
   "source": [
    "### dti ::  A ratio calculated using the borrower’s total monthly debt payments on the total debt obligations, excluding mortgage and the requested LC loan, divided by the borrower’s self-reported monthly income."
   ]
  },
  {
   "cell_type": "code",
   "execution_count": 77,
   "metadata": {},
   "outputs": [
    {
     "data": {
      "text/plain": [
       "<matplotlib.axes._subplots.AxesSubplot at 0x3c637d48>"
      ]
     },
     "execution_count": 77,
     "metadata": {},
     "output_type": "execute_result"
    },
    {
     "data": {
      "image/png": "[encoded data removed]",
      "text/plain": [
       "<Figure size 576x432 with 1 Axes>"
      ]
     },
     "metadata": {
      "needs_background": "light"
     },
     "output_type": "display_data"
    }
   ],
   "source": [
    "plt.figure(figsize=[8,6])\n",
    "loan_year=data.groupby('issue_year')['dti'].sum()\n",
    "loan_year.plot()"
   ]
  },
  {
   "cell_type": "code",
   "execution_count": 78,
   "metadata": {},
   "outputs": [
    {
     "data": {
      "text/plain": [
       "<matplotlib.axes._subplots.AxesSubplot at 0x3c5de4c8>"
      ]
     },
     "execution_count": 78,
     "metadata": {},
     "output_type": "execute_result"
    },
    {
     "data": {
      "image/png": "[encoded data removed]",
      "text/plain": [
       "<Figure size 432x288 with 1 Axes>"
      ]
     },
     "metadata": {
      "needs_background": "light"
     },
     "output_type": "display_data"
    }
   ],
   "source": [
    "sns.distplot(data['dti'])"
   ]
  },
  {
   "cell_type": "code",
   "execution_count": 79,
   "metadata": {},
   "outputs": [
    {
     "data": {
      "text/plain": [
       "B    76003\n",
       "C    65274\n",
       "A    42265\n",
       "D    40476\n",
       "E    19178\n",
       "F     7653\n",
       "G     1937\n",
       "Name: grade, dtype: int64"
      ]
     },
     "execution_count": 79,
     "metadata": {},
     "output_type": "execute_result"
    }
   ],
   "source": [
    "data['grade'].value_counts()"
   ]
  },
  {
   "cell_type": "code",
   "execution_count": 80,
   "metadata": {},
   "outputs": [],
   "source": [
    "df_grade = data.groupby(['grade', 'sub_grade']).size().reset_index().pivot(columns='grade', index='sub_grade', values=0)"
   ]
  },
  {
   "cell_type": "code",
   "execution_count": 81,
   "metadata": {},
   "outputs": [
    {
     "data": {
      "text/plain": [
       "<matplotlib.axes._subplots.AxesSubplot at 0x3bb9f188>"
      ]
     },
     "execution_count": 81,
     "metadata": {},
     "output_type": "execute_result"
    },
    {
     "data": {
      "image/png": "[encoded data removed]",
      "text/plain": [
       "<Figure size 576x432 with 1 Axes>"
      ]
     },
     "metadata": {
      "needs_background": "light"
     },
     "output_type": "display_data"
    }
   ],
   "source": [
    "\n",
    "df_grade.plot(kind='bar',figsize=[8,6])"
   ]
  },
  {
   "cell_type": "code",
   "execution_count": 82,
   "metadata": {},
   "outputs": [
    {
     "data": {
      "text/plain": [
       "<matplotlib.axes._subplots.AxesSubplot at 0x3c5de588>"
      ]
     },
     "execution_count": 82,
     "metadata": {},
     "output_type": "execute_result"
    },
    {
     "data": {
      "image/png": "[encoded data removed]",
      "text/plain": [
       "<Figure size 432x288 with 1 Axes>"
      ]
     },
     "metadata": {
      "needs_background": "light"
     },
     "output_type": "display_data"
    }
   ],
   "source": [
    "sns.countplot('grade',hue='term',data=data)"
   ]
  },
  {
   "cell_type": "markdown",
   "metadata": {},
   "source": [
    "### As the term increases Grade also increases"
   ]
  },
  {
   "cell_type": "code",
   "execution_count": 83,
   "metadata": {},
   "outputs": [
    {
     "data": {
      "text/plain": [
       "<matplotlib.axes._subplots.AxesSubplot at 0x3bdd5a88>"
      ]
     },
     "execution_count": 83,
     "metadata": {},
     "output_type": "execute_result"
    },
    {
     "data": {
      "image/png": "[encoded data removed]",
      "text/plain": [
       "<Figure size 432x288 with 1 Axes>"
      ]
     },
     "metadata": {
      "needs_background": "light"
     },
     "output_type": "display_data"
    }
   ],
   "source": [
    "sns.countplot('term',hue='loan_status',data=data)"
   ]
  },
  {
   "cell_type": "markdown",
   "metadata": {},
   "source": [
    "### As per desc Grade is categorization of int_rate and also sub categorized to sub grades "
   ]
  },
  {
   "cell_type": "code",
   "execution_count": 84,
   "metadata": {},
   "outputs": [
    {
     "data": {
      "text/plain": [
       "<matplotlib.axes._subplots.AxesSubplot at 0x3be02948>"
      ]
     },
     "execution_count": 84,
     "metadata": {},
     "output_type": "execute_result"
    },
    {
     "data": {
      "image/png": "[encoded data removed]",
      "text/plain": [
       "<Figure size 432x288 with 1 Axes>"
      ]
     },
     "metadata": {
      "needs_background": "light"
     },
     "output_type": "display_data"
    }
   ],
   "source": [
    "sns.boxplot(x='grade' ,y='int_rate',data=data)"
   ]
  },
  {
   "cell_type": "markdown",
   "metadata": {},
   "source": [
    "### As the Grade increase interest increases"
   ]
  },
  {
   "cell_type": "code",
   "execution_count": 85,
   "metadata": {},
   "outputs": [
    {
     "data": {
      "text/plain": [
       "<matplotlib.axes._subplots.AxesSubplot at 0x3be65048>"
      ]
     },
     "execution_count": 85,
     "metadata": {},
     "output_type": "execute_result"
    },
    {
     "data": {
      "image/png": "[encoded data removed]",
      "text/plain": [
       "<Figure size 432x288 with 1 Axes>"
      ]
     },
     "metadata": {
      "needs_background": "light"
     },
     "output_type": "display_data"
    }
   ],
   "source": [
    "sns.boxplot(x='term' ,y='int_rate',data=data)"
   ]
  },
  {
   "cell_type": "markdown",
   "metadata": {},
   "source": [
    "### int_rate is more for 60 months as the int rate inc term increase"
   ]
  },
  {
   "cell_type": "code",
   "execution_count": 86,
   "metadata": {},
   "outputs": [
    {
     "data": {
      "text/plain": [
       "[]"
      ]
     },
     "execution_count": 86,
     "metadata": {},
     "output_type": "execute_result"
    },
    {
     "data": {
      "image/png": "[encoded data removed]",
      "text/plain": [
       "<Figure size 1152x432 with 1 Axes>"
      ]
     },
     "metadata": {
      "needs_background": "light"
     },
     "output_type": "display_data"
    }
   ],
   "source": [
    "plt.figure(figsize=[16,6])\n",
    "sns.countplot('grade',data=data,hue='loan_status')\n",
    "plt.plot()"
   ]
  },
  {
   "cell_type": "markdown",
   "metadata": {},
   "source": [
    "### Lower grade are less likely to pay"
   ]
  },
  {
   "cell_type": "code",
   "execution_count": 87,
   "metadata": {},
   "outputs": [
    {
     "data": {
      "text/plain": [
       "grade  loan_status\n",
       "A      Charged Off     2615\n",
       "       Fully Paid     39650\n",
       "B      Charged Off     9505\n",
       "       Fully Paid     66498\n",
       "C      Charged Off    12637\n",
       "       Fully Paid     52637\n",
       "D      Charged Off    10478\n",
       "       Fully Paid     29998\n",
       "E      Charged Off     6255\n",
       "       Fully Paid     12923\n",
       "F      Charged Off     2932\n",
       "       Fully Paid      4721\n",
       "G      Charged Off      792\n",
       "       Fully Paid      1145\n",
       "dtype: int64"
      ]
     },
     "execution_count": 87,
     "metadata": {},
     "output_type": "execute_result"
    }
   ],
   "source": [
    "data.groupby(['grade','loan_status']).size()"
   ]
  },
  {
   "cell_type": "code",
   "execution_count": 88,
   "metadata": {},
   "outputs": [
    {
     "data": {
      "text/plain": [
       "loan_amnt                          0\n",
       "funded_amnt                        0\n",
       "funded_amnt_inv                    0\n",
       "term                               0\n",
       "int_rate                           0\n",
       "installment                        0\n",
       "grade                              0\n",
       "sub_grade                          0\n",
       "emp_length                         0\n",
       "home_ownership                     0\n",
       "annual_inc                         0\n",
       "verification_status                0\n",
       "issue_d                            0\n",
       "loan_status                        0\n",
       "purpose                            0\n",
       "addr_state                         0\n",
       "dti                                0\n",
       "delinq_2yrs                        0\n",
       "earliest_cr_line                   0\n",
       "inq_last_6mths                     0\n",
       "mths_since_last_delinq        140726\n",
       "open_acc                           0\n",
       "pub_rec                            0\n",
       "revol_bal                          0\n",
       "revol_util                       197\n",
       "total_acc                          0\n",
       "initial_list_status                0\n",
       "total_pymnt                        0\n",
       "total_pymnt_inv                    0\n",
       "total_rec_prncp                    0\n",
       "total_rec_int                      0\n",
       "total_rec_late_fee                 0\n",
       "recoveries                         0\n",
       "collection_recovery_fee            0\n",
       "last_pymnt_d                     527\n",
       "last_pymnt_amnt                    0\n",
       "next_pymnt_d                  252786\n",
       "last_credit_pull_d                21\n",
       "collections_12_mths_ex_med        54\n",
       "tot_coll_amt                   63606\n",
       "tot_cur_bal                    63606\n",
       "total_rev_hi_lim               63606\n",
       "issue_month                        0\n",
       "issue_year                         0\n",
       "dtype: int64"
      ]
     },
     "execution_count": 88,
     "metadata": {},
     "output_type": "execute_result"
    }
   ],
   "source": [
    "data.isnull().sum()"
   ]
  },
  {
   "cell_type": "markdown",
   "metadata": {},
   "source": [
    "### Details for below data\n",
    "tot_coll_amt                   63606\n",
    "tot_cur_bal                    63606\n",
    "total_rev_hi_lim               63606\n",
    "### These are nullfor inital period may be they started capturing these values later in years from dec 213 these values started getting filled up so we can remove these features as well OR else we can remove data from prior to this period , we will firest remove these features and check\n"
   ]
  },
  {
   "cell_type": "code",
   "execution_count": 89,
   "metadata": {},
   "outputs": [
    {
     "data": {
      "text/plain": [
       "Charged Off    527\n",
       "Name: loan_status, dtype: int64"
      ]
     },
     "execution_count": 89,
     "metadata": {},
     "output_type": "execute_result"
    }
   ],
   "source": [
    "data[data['last_pymnt_d'].isnull()]['loan_status'].value_counts()"
   ]
  },
  {
   "cell_type": "code",
   "execution_count": 90,
   "metadata": {},
   "outputs": [],
   "source": [
    "### last_pymnt_d is null for all the once whose status is Charged Off "
   ]
  },
  {
   "cell_type": "markdown",
   "metadata": {},
   "source": [
    "### The number of 30+ days past-due incidences of delinquency in the borrower's credit file for the past 2 years"
   ]
  },
  {
   "cell_type": "code",
   "execution_count": 91,
   "metadata": {},
   "outputs": [
    {
     "data": {
      "text/plain": [
       "<matplotlib.axes._subplots.AxesSubplot at 0x37ed4848>"
      ]
     },
     "execution_count": 91,
     "metadata": {},
     "output_type": "execute_result"
    },
    {
     "data": {
      "image/png": "[encoded data removed]",
      "text/plain": [
       "<Figure size 432x288 with 1 Axes>"
      ]
     },
     "metadata": {
      "needs_background": "light"
     },
     "output_type": "display_data"
    }
   ],
   "source": [
    "sns.countplot(data['delinq_2yrs'])"
   ]
  },
  {
   "cell_type": "code",
   "execution_count": 92,
   "metadata": {},
   "outputs": [
    {
     "data": {
      "text/plain": [
       "0.0     212089\n",
       "1.0      28155\n",
       "2.0       7753\n",
       "3.0       2568\n",
       "4.0       1039\n",
       "5.0        541\n",
       "6.0        263\n",
       "7.0        141\n",
       "8.0         86\n",
       "9.0         50\n",
       "10.0        30\n",
       "12.0        24\n",
       "11.0        20\n",
       "14.0         8\n",
       "15.0         4\n",
       "13.0         4\n",
       "18.0         4\n",
       "16.0         2\n",
       "17.0         2\n",
       "22.0         1\n",
       "19.0         1\n",
       "29.0         1\n",
       "Name: delinq_2yrs, dtype: int64"
      ]
     },
     "execution_count": 92,
     "metadata": {},
     "output_type": "execute_result"
    }
   ],
   "source": [
    "data['delinq_2yrs'].value_counts()"
   ]
  },
  {
   "cell_type": "markdown",
   "metadata": {},
   "source": [
    "### inq_last_12m\tNumber of credit inquiries in past 12 months\t\t\t\t"
   ]
  },
  {
   "cell_type": "code",
   "execution_count": 93,
   "metadata": {},
   "outputs": [
    {
     "data": {
      "text/plain": [
       "<matplotlib.axes._subplots.AxesSubplot at 0x3bf0d088>"
      ]
     },
     "execution_count": 93,
     "metadata": {},
     "output_type": "execute_result"
    },
    {
     "data": {
      "image/png": "[encoded data removed]",
      "text/plain": [
       "<Figure size 432x288 with 1 Axes>"
      ]
     },
     "metadata": {
      "needs_background": "light"
     },
     "output_type": "display_data"
    }
   ],
   "source": [
    "sns.countplot(data['inq_last_6mths'])"
   ]
  },
  {
   "cell_type": "code",
   "execution_count": 94,
   "metadata": {},
   "outputs": [
    {
     "data": {
      "text/plain": [
       "<matplotlib.axes._subplots.AxesSubplot at 0x3c03cb88>"
      ]
     },
     "execution_count": 94,
     "metadata": {},
     "output_type": "execute_result"
    },
    {
     "data": {
      "image/png": "[encoded data removed]",
      "text/plain": [
       "<Figure size 432x288 with 1 Axes>"
      ]
     },
     "metadata": {
      "needs_background": "light"
     },
     "output_type": "display_data"
    }
   ],
   "source": [
    "sns.countplot('inq_last_6mths' , data=data,hue='loan_status')"
   ]
  },
  {
   "cell_type": "code",
   "execution_count": 95,
   "metadata": {},
   "outputs": [
    {
     "data": {
      "text/plain": [
       "<matplotlib.axes._subplots.AxesSubplot at 0x3c19e308>"
      ]
     },
     "execution_count": 95,
     "metadata": {},
     "output_type": "execute_result"
    },
    {
     "data": {
      "image/png": "[encoded data removed]",
      "text/plain": [
       "<Figure size 432x288 with 1 Axes>"
      ]
     },
     "metadata": {
      "needs_background": "light"
     },
     "output_type": "display_data"
    }
   ],
   "source": [
    "sns.countplot(data['pub_rec'])"
   ]
  },
  {
   "cell_type": "code",
   "execution_count": 96,
   "metadata": {},
   "outputs": [
    {
     "data": {
      "text/plain": [
       "0.0     221862\n",
       "1.0      27328\n",
       "2.0       2547\n",
       "3.0        676\n",
       "4.0        202\n",
       "5.0         92\n",
       "6.0         39\n",
       "7.0         19\n",
       "8.0          8\n",
       "9.0          5\n",
       "10.0         5\n",
       "11.0         1\n",
       "12.0         1\n",
       "15.0         1\n",
       "Name: pub_rec, dtype: int64"
      ]
     },
     "execution_count": 96,
     "metadata": {},
     "output_type": "execute_result"
    }
   ],
   "source": [
    "data['pub_rec'].value_counts()"
   ]
  },
  {
   "cell_type": "code",
   "execution_count": 97,
   "metadata": {},
   "outputs": [
    {
     "data": {
      "text/plain": [
       "0          5861.071414\n",
       "1          1008.710000\n",
       "2          3003.653644\n",
       "3         12226.302212\n",
       "5          5631.377753\n",
       "              ...     \n",
       "887351     1026.020000\n",
       "887364    11071.870000\n",
       "887366     7050.460000\n",
       "887369     4158.020000\n",
       "887371     2396.050000\n",
       "Name: total_pymnt, Length: 252786, dtype: float64"
      ]
     },
     "execution_count": 97,
     "metadata": {},
     "output_type": "execute_result"
    }
   ],
   "source": [
    "data['total_pymnt']"
   ]
  },
  {
   "cell_type": "code",
   "execution_count": 98,
   "metadata": {},
   "outputs": [
    {
     "data": {
      "text/plain": [
       "<matplotlib.axes._subplots.AxesSubplot at 0x3c18be48>"
      ]
     },
     "execution_count": 98,
     "metadata": {},
     "output_type": "execute_result"
    },
    {
     "data": {
      "image/png": "[encoded data removed]",
      "text/plain": [
       "<Figure size 432x288 with 1 Axes>"
      ]
     },
     "metadata": {
      "needs_background": "light"
     },
     "output_type": "display_data"
    }
   ],
   "source": [
    "sns.boxplot(x='loan_status' ,y='revol_bal',data=data)"
   ]
  },
  {
   "cell_type": "code",
   "execution_count": 99,
   "metadata": {},
   "outputs": [
    {
     "data": {
      "text/plain": [
       "<matplotlib.axes._subplots.AxesSubplot at 0x37f88488>"
      ]
     },
     "execution_count": 99,
     "metadata": {},
     "output_type": "execute_result"
    },
    {
     "data": {
      "image/png": "[encoded data removed]",
      "text/plain": [
       "<Figure size 432x288 with 1 Axes>"
      ]
     },
     "metadata": {
      "needs_background": "light"
     },
     "output_type": "display_data"
    }
   ],
   "source": [
    "sns.boxplot(x='loan_status' ,y='revol_util',data=data)"
   ]
  },
  {
   "cell_type": "code",
   "execution_count": 100,
   "metadata": {},
   "outputs": [
    {
     "data": {
      "text/plain": [
       "54.31289545467235"
      ]
     },
     "execution_count": 100,
     "metadata": {},
     "output_type": "execute_result"
    }
   ],
   "source": [
    "data['revol_util'].mean()"
   ]
  },
  {
   "cell_type": "code",
   "execution_count": 101,
   "metadata": {},
   "outputs": [
    {
     "data": {
      "text/plain": [
       "55.8"
      ]
     },
     "execution_count": 101,
     "metadata": {},
     "output_type": "execute_result"
    }
   ],
   "source": [
    "data['revol_util'].median()"
   ]
  },
  {
   "cell_type": "code",
   "execution_count": 102,
   "metadata": {},
   "outputs": [
    {
     "data": {
      "text/plain": [
       "<matplotlib.axes._subplots.AxesSubplot at 0x3d224148>"
      ]
     },
     "execution_count": 102,
     "metadata": {},
     "output_type": "execute_result"
    },
    {
     "data": {
      "image/png": "[encoded data removed]",
      "text/plain": [
       "<Figure size 432x288 with 1 Axes>"
      ]
     },
     "metadata": {
      "needs_background": "light"
     },
     "output_type": "display_data"
    }
   ],
   "source": [
    "sns.distplot(data['revol_util'])"
   ]
  },
  {
   "cell_type": "code",
   "execution_count": 103,
   "metadata": {},
   "outputs": [],
   "source": [
    "data.dropna(subset = [\"revol_util\"], inplace=True)"
   ]
  },
  {
   "cell_type": "code",
   "execution_count": 104,
   "metadata": {},
   "outputs": [
    {
     "data": {
      "text/plain": [
       "[]"
      ]
     },
     "execution_count": 104,
     "metadata": {},
     "output_type": "execute_result"
    },
    {
     "data": {
      "image/png": "[encoded data removed]",
      "text/plain": [
       "<Figure size 1152x432 with 1 Axes>"
      ]
     },
     "metadata": {
      "needs_background": "light"
     },
     "output_type": "display_data"
    }
   ],
   "source": [
    "plt.figure(figsize=[16,6])\n",
    "sns.countplot('collections_12_mths_ex_med',data=data,hue='loan_status')\n",
    "plt.plot()"
   ]
  },
  {
   "cell_type": "code",
   "execution_count": 105,
   "metadata": {},
   "outputs": [
    {
     "data": {
      "text/plain": [
       "0.0    250961\n",
       "1.0      1466\n",
       "2.0        96\n",
       "3.0         8\n",
       "4.0         2\n",
       "5.0         1\n",
       "6.0         1\n",
       "Name: collections_12_mths_ex_med, dtype: int64"
      ]
     },
     "execution_count": 105,
     "metadata": {},
     "output_type": "execute_result"
    }
   ],
   "source": [
    "data['collections_12_mths_ex_med'].value_counts()"
   ]
  },
  {
   "cell_type": "code",
   "execution_count": 106,
   "metadata": {},
   "outputs": [
    {
     "data": {
      "text/plain": [
       "54"
      ]
     },
     "execution_count": 106,
     "metadata": {},
     "output_type": "execute_result"
    }
   ],
   "source": [
    "data['collections_12_mths_ex_med'].isnull().sum()"
   ]
  },
  {
   "cell_type": "code",
   "execution_count": 107,
   "metadata": {},
   "outputs": [],
   "source": [
    "data['collections_12_mths_ex_med'].fillna(0,inplace=True)"
   ]
  },
  {
   "cell_type": "code",
   "execution_count": 108,
   "metadata": {},
   "outputs": [
    {
     "data": {
      "text/plain": [
       "<matplotlib.axes._subplots.AxesSubplot at 0x3c330e48>"
      ]
     },
     "execution_count": 108,
     "metadata": {},
     "output_type": "execute_result"
    },
    {
     "data": {
      "image/png": "[encoded data removed]",
      "text/plain": [
       "<Figure size 432x288 with 1 Axes>"
      ]
     },
     "metadata": {
      "needs_background": "light"
     },
     "output_type": "display_data"
    }
   ],
   "source": [
    "sns.boxplot(x='loan_status' ,y='total_pymnt',data=data)"
   ]
  },
  {
   "cell_type": "code",
   "execution_count": 109,
   "metadata": {},
   "outputs": [
    {
     "data": {
      "text/plain": [
       "<matplotlib.axes._subplots.AxesSubplot at 0x3c363648>"
      ]
     },
     "execution_count": 109,
     "metadata": {},
     "output_type": "execute_result"
    },
    {
     "data": {
      "image/png": "[encoded data removed]",
      "text/plain": [
       "<Figure size 432x288 with 1 Axes>"
      ]
     },
     "metadata": {
      "needs_background": "light"
     },
     "output_type": "display_data"
    }
   ],
   "source": [
    "sns.boxplot(x='loan_status' ,y='loan_amnt',data=data)"
   ]
  },
  {
   "cell_type": "code",
   "execution_count": 110,
   "metadata": {},
   "outputs": [
    {
     "data": {
      "text/plain": [
       "<matplotlib.axes._subplots.AxesSubplot at 0x3c7ddc48>"
      ]
     },
     "execution_count": 110,
     "metadata": {},
     "output_type": "execute_result"
    },
    {
     "data": {
      "image/png": "[encoded data removed]",
      "text/plain": [
       "<Figure size 432x288 with 1 Axes>"
      ]
     },
     "metadata": {
      "needs_background": "light"
     },
     "output_type": "display_data"
    }
   ],
   "source": [
    "sns.boxplot(x='loan_status' ,y='total_pymnt_inv',data=data)"
   ]
  },
  {
   "cell_type": "markdown",
   "metadata": {},
   "source": [
    "### people with more loan amonts are Charged off and low in total payment invested"
   ]
  },
  {
   "cell_type": "code",
   "execution_count": 111,
   "metadata": {},
   "outputs": [
    {
     "data": {
      "text/plain": [
       "<seaborn.axisgrid.JointGrid at 0x3d698208>"
      ]
     },
     "execution_count": 111,
     "metadata": {},
     "output_type": "execute_result"
    },
    {
     "data": {
      "image/png": "[encoded data removed]",
      "text/plain": [
       "<Figure size 432x432 with 3 Axes>"
      ]
     },
     "metadata": {
      "needs_background": "light"
     },
     "output_type": "display_data"
    }
   ],
   "source": [
    "sns.jointplot(x=data['loan_amnt'] , y=data['total_pymnt_inv'])"
   ]
  },
  {
   "cell_type": "code",
   "execution_count": 112,
   "metadata": {},
   "outputs": [
    {
     "data": {
      "text/plain": [
       "0.8401206236356349"
      ]
     },
     "execution_count": 112,
     "metadata": {},
     "output_type": "execute_result"
    }
   ],
   "source": [
    "data['loan_amnt'].corr(data['total_pymnt_inv'])"
   ]
  },
  {
   "cell_type": "code",
   "execution_count": 113,
   "metadata": {},
   "outputs": [
    {
     "data": {
      "text/plain": [
       "loan_amnt                     0.333703\n",
       "funded_amnt                   0.332944\n",
       "funded_amnt_inv               0.330504\n",
       "int_rate                      0.021825\n",
       "installment                   0.324964\n",
       "emp_length                    0.096795\n",
       "annual_inc                    0.303365\n",
       "dti                           0.153221\n",
       "delinq_2yrs                  -0.029621\n",
       "inq_last_6mths               -0.009361\n",
       "mths_since_last_delinq       -0.027273\n",
       "open_acc                      0.229744\n",
       "pub_rec                      -0.105111\n",
       "revol_bal                     1.000000\n",
       "revol_util                    0.232014\n",
       "total_acc                     0.206796\n",
       "total_pymnt                   0.295451\n",
       "total_pymnt_inv               0.293934\n",
       "total_rec_prncp               0.282929\n",
       "total_rec_int                 0.198375\n",
       "total_rec_late_fee            0.005919\n",
       "recoveries                    0.043799\n",
       "collection_recovery_fee       0.032627\n",
       "last_pymnt_amnt               0.203371\n",
       "collections_12_mths_ex_med   -0.010941\n",
       "tot_coll_amt                 -0.003350\n",
       "tot_cur_bal                   0.431505\n",
       "total_rev_hi_lim              0.827153\n",
       "issue_month                  -0.000674\n",
       "issue_year                    0.036525\n",
       "Name: revol_bal, dtype: float64"
      ]
     },
     "execution_count": 113,
     "metadata": {},
     "output_type": "execute_result"
    }
   ],
   "source": [
    "data.corr()['revol_bal']"
   ]
  },
  {
   "cell_type": "code",
   "execution_count": 114,
   "metadata": {},
   "outputs": [],
   "source": [
    "data_corr=data[['loan_amnt','term','installment','grade','emp_length','home_ownership','annual_inc','int_rate',\n",
    "               'verification_status','purpose','dti','delinq_2yrs','inq_last_6mths',\n",
    "               'total_acc','open_acc','initial_list_status','pub_rec','revol_util','revol_bal','loan_status']]"
   ]
  },
  {
   "cell_type": "markdown",
   "metadata": {},
   "source": [
    "data_corr.to_csv('clean_loan_data.csv')"
   ]
  },
  {
   "cell_type": "code",
   "execution_count": 115,
   "metadata": {},
   "outputs": [
    {
     "data": {
      "text/html": [
       "<div>\n",
       "<style scoped>\n",
       "    .dataframe tbody tr th:only-of-type {\n",
       "        vertical-align: middle;\n",
       "    }\n",
       "\n",
       "    .dataframe tbody tr th {\n",
       "        vertical-align: top;\n",
       "    }\n",
       "\n",
       "    .dataframe thead th {\n",
       "        text-align: right;\n",
       "    }\n",
       "</style>\n",
       "<table border=\"1\" class=\"dataframe\">\n",
       "  <thead>\n",
       "    <tr style=\"text-align: right;\">\n",
       "      <th></th>\n",
       "      <th>loan_amnt</th>\n",
       "      <th>installment</th>\n",
       "      <th>emp_length</th>\n",
       "      <th>annual_inc</th>\n",
       "      <th>int_rate</th>\n",
       "      <th>dti</th>\n",
       "      <th>delinq_2yrs</th>\n",
       "      <th>inq_last_6mths</th>\n",
       "      <th>total_acc</th>\n",
       "      <th>open_acc</th>\n",
       "      <th>pub_rec</th>\n",
       "      <th>revol_util</th>\n",
       "      <th>revol_bal</th>\n",
       "    </tr>\n",
       "  </thead>\n",
       "  <tbody>\n",
       "    <tr>\n",
       "      <th>loan_amnt</th>\n",
       "      <td>1.000000</td>\n",
       "      <td>0.955154</td>\n",
       "      <td>0.114260</td>\n",
       "      <td>0.334225</td>\n",
       "      <td>0.211220</td>\n",
       "      <td>0.052252</td>\n",
       "      <td>0.008217</td>\n",
       "      <td>0.009738</td>\n",
       "      <td>0.232307</td>\n",
       "      <td>0.202042</td>\n",
       "      <td>-0.075691</td>\n",
       "      <td>0.101235</td>\n",
       "      <td>0.333703</td>\n",
       "    </tr>\n",
       "    <tr>\n",
       "      <th>installment</th>\n",
       "      <td>0.955154</td>\n",
       "      <td>1.000000</td>\n",
       "      <td>0.102706</td>\n",
       "      <td>0.329649</td>\n",
       "      <td>0.202621</td>\n",
       "      <td>0.053395</td>\n",
       "      <td>0.019826</td>\n",
       "      <td>0.025678</td>\n",
       "      <td>0.213921</td>\n",
       "      <td>0.197676</td>\n",
       "      <td>-0.065447</td>\n",
       "      <td>0.130400</td>\n",
       "      <td>0.324964</td>\n",
       "    </tr>\n",
       "    <tr>\n",
       "      <th>emp_length</th>\n",
       "      <td>0.114260</td>\n",
       "      <td>0.102706</td>\n",
       "      <td>1.000000</td>\n",
       "      <td>0.073037</td>\n",
       "      <td>0.030041</td>\n",
       "      <td>0.050118</td>\n",
       "      <td>0.031192</td>\n",
       "      <td>-0.002289</td>\n",
       "      <td>0.135898</td>\n",
       "      <td>0.051232</td>\n",
       "      <td>0.046958</td>\n",
       "      <td>0.043986</td>\n",
       "      <td>0.096795</td>\n",
       "    </tr>\n",
       "    <tr>\n",
       "      <th>annual_inc</th>\n",
       "      <td>0.334225</td>\n",
       "      <td>0.329649</td>\n",
       "      <td>0.073037</td>\n",
       "      <td>1.000000</td>\n",
       "      <td>-0.026020</td>\n",
       "      <td>-0.171555</td>\n",
       "      <td>0.051021</td>\n",
       "      <td>0.055683</td>\n",
       "      <td>0.205878</td>\n",
       "      <td>0.140358</td>\n",
       "      <td>-0.018638</td>\n",
       "      <td>0.024027</td>\n",
       "      <td>0.303365</td>\n",
       "    </tr>\n",
       "    <tr>\n",
       "      <th>int_rate</th>\n",
       "      <td>0.211220</td>\n",
       "      <td>0.202621</td>\n",
       "      <td>0.030041</td>\n",
       "      <td>-0.026020</td>\n",
       "      <td>1.000000</td>\n",
       "      <td>0.172489</td>\n",
       "      <td>0.093860</td>\n",
       "      <td>0.216892</td>\n",
       "      <td>-0.010672</td>\n",
       "      <td>0.039939</td>\n",
       "      <td>0.083094</td>\n",
       "      <td>0.342802</td>\n",
       "      <td>0.021825</td>\n",
       "    </tr>\n",
       "    <tr>\n",
       "      <th>dti</th>\n",
       "      <td>0.052252</td>\n",
       "      <td>0.053395</td>\n",
       "      <td>0.050118</td>\n",
       "      <td>-0.171555</td>\n",
       "      <td>0.172489</td>\n",
       "      <td>1.000000</td>\n",
       "      <td>-0.001055</td>\n",
       "      <td>0.002790</td>\n",
       "      <td>0.232619</td>\n",
       "      <td>0.309210</td>\n",
       "      <td>-0.033927</td>\n",
       "      <td>0.219729</td>\n",
       "      <td>0.153221</td>\n",
       "    </tr>\n",
       "    <tr>\n",
       "      <th>delinq_2yrs</th>\n",
       "      <td>0.008217</td>\n",
       "      <td>0.019826</td>\n",
       "      <td>0.031192</td>\n",
       "      <td>0.051021</td>\n",
       "      <td>0.093860</td>\n",
       "      <td>-0.001055</td>\n",
       "      <td>1.000000</td>\n",
       "      <td>0.025446</td>\n",
       "      <td>0.127131</td>\n",
       "      <td>0.056935</td>\n",
       "      <td>-0.005643</td>\n",
       "      <td>-0.015426</td>\n",
       "      <td>-0.029621</td>\n",
       "    </tr>\n",
       "    <tr>\n",
       "      <th>inq_last_6mths</th>\n",
       "      <td>0.009738</td>\n",
       "      <td>0.025678</td>\n",
       "      <td>-0.002289</td>\n",
       "      <td>0.055683</td>\n",
       "      <td>0.216892</td>\n",
       "      <td>0.002790</td>\n",
       "      <td>0.025446</td>\n",
       "      <td>1.000000</td>\n",
       "      <td>0.141203</td>\n",
       "      <td>0.115148</td>\n",
       "      <td>0.049295</td>\n",
       "      <td>-0.088310</td>\n",
       "      <td>-0.009361</td>\n",
       "    </tr>\n",
       "    <tr>\n",
       "      <th>total_acc</th>\n",
       "      <td>0.232307</td>\n",
       "      <td>0.213921</td>\n",
       "      <td>0.135898</td>\n",
       "      <td>0.205878</td>\n",
       "      <td>-0.010672</td>\n",
       "      <td>0.232619</td>\n",
       "      <td>0.127131</td>\n",
       "      <td>0.141203</td>\n",
       "      <td>1.000000</td>\n",
       "      <td>0.672168</td>\n",
       "      <td>0.030453</td>\n",
       "      <td>-0.090713</td>\n",
       "      <td>0.206796</td>\n",
       "    </tr>\n",
       "    <tr>\n",
       "      <th>open_acc</th>\n",
       "      <td>0.202042</td>\n",
       "      <td>0.197676</td>\n",
       "      <td>0.051232</td>\n",
       "      <td>0.140358</td>\n",
       "      <td>0.039939</td>\n",
       "      <td>0.309210</td>\n",
       "      <td>0.056935</td>\n",
       "      <td>0.115148</td>\n",
       "      <td>0.672168</td>\n",
       "      <td>1.000000</td>\n",
       "      <td>-0.012685</td>\n",
       "      <td>-0.111653</td>\n",
       "      <td>0.229744</td>\n",
       "    </tr>\n",
       "    <tr>\n",
       "      <th>pub_rec</th>\n",
       "      <td>-0.075691</td>\n",
       "      <td>-0.065447</td>\n",
       "      <td>0.046958</td>\n",
       "      <td>-0.018638</td>\n",
       "      <td>0.083094</td>\n",
       "      <td>-0.033927</td>\n",
       "      <td>-0.005643</td>\n",
       "      <td>0.049295</td>\n",
       "      <td>0.030453</td>\n",
       "      <td>-0.012685</td>\n",
       "      <td>1.000000</td>\n",
       "      <td>-0.064900</td>\n",
       "      <td>-0.105111</td>\n",
       "    </tr>\n",
       "    <tr>\n",
       "      <th>revol_util</th>\n",
       "      <td>0.101235</td>\n",
       "      <td>0.130400</td>\n",
       "      <td>0.043986</td>\n",
       "      <td>0.024027</td>\n",
       "      <td>0.342802</td>\n",
       "      <td>0.219729</td>\n",
       "      <td>-0.015426</td>\n",
       "      <td>-0.088310</td>\n",
       "      <td>-0.090713</td>\n",
       "      <td>-0.111653</td>\n",
       "      <td>-0.064900</td>\n",
       "      <td>1.000000</td>\n",
       "      <td>0.232014</td>\n",
       "    </tr>\n",
       "    <tr>\n",
       "      <th>revol_bal</th>\n",
       "      <td>0.333703</td>\n",
       "      <td>0.324964</td>\n",
       "      <td>0.096795</td>\n",
       "      <td>0.303365</td>\n",
       "      <td>0.021825</td>\n",
       "      <td>0.153221</td>\n",
       "      <td>-0.029621</td>\n",
       "      <td>-0.009361</td>\n",
       "      <td>0.206796</td>\n",
       "      <td>0.229744</td>\n",
       "      <td>-0.105111</td>\n",
       "      <td>0.232014</td>\n",
       "      <td>1.000000</td>\n",
       "    </tr>\n",
       "  </tbody>\n",
       "</table>\n",
       "</div>"
      ],
      "text/plain": [
       "                loan_amnt  installment  emp_length  annual_inc  int_rate  \\\n",
       "loan_amnt        1.000000     0.955154    0.114260    0.334225  0.211220   \n",
       "installment      0.955154     1.000000    0.102706    0.329649  0.202621   \n",
       "emp_length       0.114260     0.102706    1.000000    0.073037  0.030041   \n",
       "annual_inc       0.334225     0.329649    0.073037    1.000000 -0.026020   \n",
       "int_rate         0.211220     0.202621    0.030041   -0.026020  1.000000   \n",
       "dti              0.052252     0.053395    0.050118   -0.171555  0.172489   \n",
       "delinq_2yrs      0.008217     0.019826    0.031192    0.051021  0.093860   \n",
       "inq_last_6mths   0.009738     0.025678   -0.002289    0.055683  0.216892   \n",
       "total_acc        0.232307     0.213921    0.135898    0.205878 -0.010672   \n",
       "open_acc         0.202042     0.197676    0.051232    0.140358  0.039939   \n",
       "pub_rec         -0.075691    -0.065447    0.046958   -0.018638  0.083094   \n",
       "revol_util       0.101235     0.130400    0.043986    0.024027  0.342802   \n",
       "revol_bal        0.333703     0.324964    0.096795    0.303365  0.021825   \n",
       "\n",
       "                     dti  delinq_2yrs  inq_last_6mths  total_acc  open_acc  \\\n",
       "loan_amnt       0.052252     0.008217        0.009738   0.232307  0.202042   \n",
       "installment     0.053395     0.019826        0.025678   0.213921  0.197676   \n",
       "emp_length      0.050118     0.031192       -0.002289   0.135898  0.051232   \n",
       "annual_inc     -0.171555     0.051021        0.055683   0.205878  0.140358   \n",
       "int_rate        0.172489     0.093860        0.216892  -0.010672  0.039939   \n",
       "dti             1.000000    -0.001055        0.002790   0.232619  0.309210   \n",
       "delinq_2yrs    -0.001055     1.000000        0.025446   0.127131  0.056935   \n",
       "inq_last_6mths  0.002790     0.025446        1.000000   0.141203  0.115148   \n",
       "total_acc       0.232619     0.127131        0.141203   1.000000  0.672168   \n",
       "open_acc        0.309210     0.056935        0.115148   0.672168  1.000000   \n",
       "pub_rec        -0.033927    -0.005643        0.049295   0.030453 -0.012685   \n",
       "revol_util      0.219729    -0.015426       -0.088310  -0.090713 -0.111653   \n",
       "revol_bal       0.153221    -0.029621       -0.009361   0.206796  0.229744   \n",
       "\n",
       "                 pub_rec  revol_util  revol_bal  \n",
       "loan_amnt      -0.075691    0.101235   0.333703  \n",
       "installment    -0.065447    0.130400   0.324964  \n",
       "emp_length      0.046958    0.043986   0.096795  \n",
       "annual_inc     -0.018638    0.024027   0.303365  \n",
       "int_rate        0.083094    0.342802   0.021825  \n",
       "dti            -0.033927    0.219729   0.153221  \n",
       "delinq_2yrs    -0.005643   -0.015426  -0.029621  \n",
       "inq_last_6mths  0.049295   -0.088310  -0.009361  \n",
       "total_acc       0.030453   -0.090713   0.206796  \n",
       "open_acc       -0.012685   -0.111653   0.229744  \n",
       "pub_rec         1.000000   -0.064900  -0.105111  \n",
       "revol_util     -0.064900    1.000000   0.232014  \n",
       "revol_bal      -0.105111    0.232014   1.000000  "
      ]
     },
     "execution_count": 115,
     "metadata": {},
     "output_type": "execute_result"
    }
   ],
   "source": [
    "data_corr.corr()"
   ]
  },
  {
   "cell_type": "code",
   "execution_count": 116,
   "metadata": {},
   "outputs": [],
   "source": [
    "mask =np.zeros_like(data_corr.corr())\n",
    "indent=np.triu_indices_from(mask)\n",
    "mask[indent]=True"
   ]
  },
  {
   "cell_type": "code",
   "execution_count": 117,
   "metadata": {},
   "outputs": [
    {
     "data": {
      "image/png": "[encoded data removed]",
      "text/plain": [
       "<Figure size 1152x720 with 2 Axes>"
      ]
     },
     "metadata": {
      "needs_background": "light"
     },
     "output_type": "display_data"
    }
   ],
   "source": [
    "plt.figure(figsize=[16,10])\n",
    "sns.heatmap(data_corr.corr(),annot=True,mask=mask, annot_kws={\"size\":10})\n",
    "plt.xticks(fontsize=14)\n",
    "plt.yticks(fontsize=14)\n",
    "plt.show()"
   ]
  },
  {
   "cell_type": "markdown",
   "metadata": {},
   "source": [
    "### Details for below data \n",
    "#### tot_coll_amt                   63606\n",
    "#### tot_cur_bal                    63606\n",
    "#### total_rev_hi_lim               63606\n",
    "### These are nullfor inital period may be they started capturing these values later in years from dec 213 these values started getting filled up so we can remove these features as well OR else we can remove data from prior to this period , we will firest remove these features and check\n"
   ]
  },
  {
   "cell_type": "markdown",
   "metadata": {},
   "source": [
    "### total_pymnt ,\ttotal_pymnt_inv\t, total_rec_prncp , total_rec_int  are inter-related and they have strong correlation with loan_amnt which can lead to multi collinearity so can be removed form final model\n",
    "### total_acc and open_acc are also correlated to each other so dropping one (total_acc)"
   ]
  },
  {
   "cell_type": "markdown",
   "metadata": {},
   "source": [
    "### delinq_2yrs , inq_last_6mths, pub_rec these can be converted to Categorial variables as most of them are 0"
   ]
  },
  {
   "cell_type": "markdown",
   "metadata": {},
   "source": [
    "### Setting value of Loan status as 0 for fully paid and 1 for charged off"
   ]
  },
  {
   "cell_type": "markdown",
   "metadata": {},
   "source": [
    "### Data is imbalanced"
   ]
  },
  {
   "cell_type": "code",
   "execution_count": null,
   "metadata": {},
   "outputs": [],
   "source": [
    "data.drop(['next_pymnt_d','last_pymnt_d','mths_since_last_delinq','last_credit_pull_d','Unnamed: 0',\n",
    "           'earliest_cr_line','issue_d','addr_state','issue_month','issue_year'],axis=1,inplace=True)"
   ]
  },
  {
   "cell_type": "code",
   "execution_count": null,
   "metadata": {},
   "outputs": [],
   "source": [
    "data['delinq_2yrs']=np.where(data['delinq_2yrs']>0,'Y','N')\n",
    "data['inq_last_6mths']=np.where(data['inq_last_6mths']>0,'Y','N')"
   ]
  },
  {
   "cell_type": "code",
   "execution_count": null,
   "metadata": {},
   "outputs": [],
   "source": [
    "data.drop(['funded_amnt','funded_amnt_inv','total_acc','total_pymnt','total_pymnt_inv','total_rec_prncp','installment'],axis=1, inplace=True)"
   ]
  }
 ],
 "metadata": {
  "kernelspec": {
   "display_name": "Python 3",
   "language": "python",
   "name": "python3"
  },
  "language_info": {
   "codemirror_mode": {
    "name": "ipython",
    "version": 3
   },
   "file_extension": ".py",
   "mimetype": "text/x-python",
   "name": "python",
   "nbconvert_exporter": "python",
   "pygments_lexer": "ipython3",
   "version": "3.7.6"
  }
 },
 "nbformat": 4,
 "nbformat_minor": 4
}
