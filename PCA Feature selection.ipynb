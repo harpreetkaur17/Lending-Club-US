{
 "cells": [
  {
   "cell_type": "code",
   "execution_count": 86,
   "metadata": {},
   "outputs": [],
   "source": [
    "import pandas as pd\n",
    "import numpy as np\n",
    "import matplotlib.pyplot as plt\n",
    "import seaborn as sns\n",
    "\n",
    "from sklearn.preprocessing import LabelEncoder\n",
    "from sklearn.preprocessing import StandardScaler\n",
    "\n",
    "from sklearn.model_selection import train_test_split\n",
    "\n",
    "from sklearn.linear_model import LogisticRegression\n",
    "from sklearn.neighbors import KNeighborsClassifier\n",
    "from sklearn.ensemble import RandomForestClassifier\n",
    "from sklearn.tree import DecisionTreeClassifier\n",
    "\n",
    "\n",
    "from sklearn.metrics import confusion_matrix,classification_report\n",
    "\n",
    "from sklearn.metrics import recall_score , accuracy_score ,precision_score,f1_score,roc_auc_score\n",
    "from imblearn.over_sampling import SMOTE\n",
    "\n",
    "from sklearn.decomposition import PCA\n",
    "from sklearn.model_selection import GridSearchCV"
   ]
  },
  {
   "cell_type": "code",
   "execution_count": 87,
   "metadata": {},
   "outputs": [],
   "source": [
    "# read the large csv file with specified chunksize \n",
    "df_chunk = pd.read_csv(r'E:/Chrome/loan/loan.csv', chunksize=10000,low_memory=False,parse_dates=['issue_d','earliest_cr_line','last_pymnt_d','last_credit_pull_d','next_pymnt_d'])\n",
    "\n"
   ]
  },
  {
   "cell_type": "code",
   "execution_count": 88,
   "metadata": {},
   "outputs": [],
   "source": [
    "chunk_list = []  # append each chunk df here \n",
    "\n",
    "# Each chunk is in df format\n",
    "for chunk in df_chunk:  \n",
    "    # perform data filtering \n",
    "    #chunk_filter = chunk_preprocessing(chunk)\n",
    "    \n",
    "    # Once the data filtering is done, append the chunk to list\n",
    "    chunk_list.append(chunk)\n",
    "    \n"
   ]
  },
  {
   "cell_type": "code",
   "execution_count": 89,
   "metadata": {},
   "outputs": [],
   "source": [
    "# concat the list into dataframe \n",
    "df_concats = pd.concat(chunk_list)"
   ]
  },
  {
   "cell_type": "code",
   "execution_count": 90,
   "metadata": {},
   "outputs": [],
   "source": [
    "data=df_concats.copy()"
   ]
  },
  {
   "cell_type": "code",
   "execution_count": 91,
   "metadata": {},
   "outputs": [],
   "source": [
    "data=data[(data.loan_status=='Fully Paid') | (data.loan_status=='Charged Off')]"
   ]
  },
  {
   "cell_type": "code",
   "execution_count": 92,
   "metadata": {},
   "outputs": [],
   "source": [
    "data_final=data[['loan_amnt','term','installment','grade','emp_length','home_ownership','annual_inc','int_rate',\n",
    "               'verification_status','purpose','dti','delinq_2yrs','inq_last_6mths',\n",
    "               'total_acc','open_acc','initial_list_status','pub_rec','revol_util','revol_bal','loan_status']]"
   ]
  },
  {
   "cell_type": "code",
   "execution_count": 93,
   "metadata": {},
   "outputs": [
    {
     "data": {
      "text/plain": [
       "loan_amnt                 0\n",
       "term                      0\n",
       "installment               0\n",
       "grade                     0\n",
       "emp_length             9897\n",
       "home_ownership            0\n",
       "annual_inc                0\n",
       "int_rate                  0\n",
       "verification_status       0\n",
       "purpose                   0\n",
       "dti                       0\n",
       "delinq_2yrs               0\n",
       "inq_last_6mths            0\n",
       "total_acc                 0\n",
       "open_acc                  0\n",
       "initial_list_status       0\n",
       "pub_rec                   0\n",
       "revol_util              199\n",
       "revol_bal                 0\n",
       "loan_status               0\n",
       "dtype: int64"
      ]
     },
     "execution_count": 93,
     "metadata": {},
     "output_type": "execute_result"
    }
   ],
   "source": [
    "data_final.isnull().sum()"
   ]
  },
  {
   "cell_type": "code",
   "execution_count": 94,
   "metadata": {},
   "outputs": [
    {
     "name": "stdout",
     "output_type": "stream",
     "text": [
      "<class 'pandas.core.frame.DataFrame'>\n",
      "Int64Index: 252971 entries, 0 to 887371\n",
      "Data columns (total 20 columns):\n",
      " #   Column               Non-Null Count   Dtype  \n",
      "---  ------               --------------   -----  \n",
      " 0   loan_amnt            252971 non-null  float64\n",
      " 1   term                 252971 non-null  object \n",
      " 2   installment          252971 non-null  float64\n",
      " 3   grade                252971 non-null  object \n",
      " 4   emp_length           243074 non-null  object \n",
      " 5   home_ownership       252971 non-null  object \n",
      " 6   annual_inc           252971 non-null  float64\n",
      " 7   int_rate             252971 non-null  float64\n",
      " 8   verification_status  252971 non-null  object \n",
      " 9   purpose              252971 non-null  object \n",
      " 10  dti                  252971 non-null  float64\n",
      " 11  delinq_2yrs          252971 non-null  float64\n",
      " 12  inq_last_6mths       252971 non-null  float64\n",
      " 13  total_acc            252971 non-null  float64\n",
      " 14  open_acc             252971 non-null  float64\n",
      " 15  initial_list_status  252971 non-null  object \n",
      " 16  pub_rec              252971 non-null  float64\n",
      " 17  revol_util           252772 non-null  float64\n",
      " 18  revol_bal            252971 non-null  float64\n",
      " 19  loan_status          252971 non-null  object \n",
      "dtypes: float64(12), object(8)\n",
      "memory usage: 40.5+ MB\n"
     ]
    }
   ],
   "source": [
    "data_final.info()"
   ]
  },
  {
   "cell_type": "code",
   "execution_count": 95,
   "metadata": {},
   "outputs": [
    {
     "data": {
      "text/plain": [
       "Fully Paid     207723\n",
       "Charged Off     45248\n",
       "Name: loan_status, dtype: int64"
      ]
     },
     "execution_count": 95,
     "metadata": {},
     "output_type": "execute_result"
    }
   ],
   "source": [
    "data_final['loan_status'].value_counts()"
   ]
  },
  {
   "cell_type": "code",
   "execution_count": 96,
   "metadata": {},
   "outputs": [
    {
     "name": "stderr",
     "output_type": "stream",
     "text": [
      "D:\\Installation\\lib\\site-packages\\ipykernel_launcher.py:1: SettingWithCopyWarning: \n",
      "A value is trying to be set on a copy of a slice from a DataFrame\n",
      "\n",
      "See the caveats in the documentation: https://pandas.pydata.org/pandas-docs/stable/user_guide/indexing.html#returning-a-view-versus-a-copy\n",
      "  \"\"\"Entry point for launching an IPython kernel.\n"
     ]
    }
   ],
   "source": [
    "data_final.dropna(subset = [\"revol_util\"], inplace=True)"
   ]
  },
  {
   "cell_type": "code",
   "execution_count": 97,
   "metadata": {},
   "outputs": [
    {
     "name": "stderr",
     "output_type": "stream",
     "text": [
      "D:\\Installation\\lib\\site-packages\\ipykernel_launcher.py:1: SettingWithCopyWarning: \n",
      "A value is trying to be set on a copy of a slice from a DataFrame.\n",
      "Try using .loc[row_indexer,col_indexer] = value instead\n",
      "\n",
      "See the caveats in the documentation: https://pandas.pydata.org/pandas-docs/stable/user_guide/indexing.html#returning-a-view-versus-a-copy\n",
      "  \"\"\"Entry point for launching an IPython kernel.\n"
     ]
    }
   ],
   "source": [
    "data_final['loan_status']=np.where(data_final['loan_status']=='Charged Off',1,0)"
   ]
  },
  {
   "cell_type": "code",
   "execution_count": 98,
   "metadata": {},
   "outputs": [],
   "source": [
    "x=data_final[['loan_amnt','installment','annual_inc','int_rate','dti','delinq_2yrs','inq_last_6mths',\n",
    "               'total_acc','open_acc','pub_rec','revol_util','revol_bal']]"
   ]
  },
  {
   "cell_type": "code",
   "execution_count": 99,
   "metadata": {},
   "outputs": [
    {
     "data": {
      "text/plain": [
       "loan_amnt         0\n",
       "installment       0\n",
       "annual_inc        0\n",
       "int_rate          0\n",
       "dti               0\n",
       "delinq_2yrs       0\n",
       "inq_last_6mths    0\n",
       "total_acc         0\n",
       "open_acc          0\n",
       "pub_rec           0\n",
       "revol_util        0\n",
       "revol_bal         0\n",
       "dtype: int64"
      ]
     },
     "execution_count": 99,
     "metadata": {},
     "output_type": "execute_result"
    }
   ],
   "source": [
    "x.isnull().sum()"
   ]
  },
  {
   "cell_type": "code",
   "execution_count": 100,
   "metadata": {},
   "outputs": [
    {
     "data": {
      "text/plain": [
       "0    207571\n",
       "1     45201\n",
       "Name: loan_status, dtype: int64"
      ]
     },
     "execution_count": 100,
     "metadata": {},
     "output_type": "execute_result"
    }
   ],
   "source": [
    "data_final['loan_status'].value_counts()"
   ]
  },
  {
   "cell_type": "code",
   "execution_count": 101,
   "metadata": {},
   "outputs": [],
   "source": [
    "y=data_final['loan_status']"
   ]
  },
  {
   "cell_type": "code",
   "execution_count": 102,
   "metadata": {},
   "outputs": [
    {
     "data": {
      "text/html": [
       "<div>\n",
       "<style scoped>\n",
       "    .dataframe tbody tr th:only-of-type {\n",
       "        vertical-align: middle;\n",
       "    }\n",
       "\n",
       "    .dataframe tbody tr th {\n",
       "        vertical-align: top;\n",
       "    }\n",
       "\n",
       "    .dataframe thead th {\n",
       "        text-align: right;\n",
       "    }\n",
       "</style>\n",
       "<table border=\"1\" class=\"dataframe\">\n",
       "  <thead>\n",
       "    <tr style=\"text-align: right;\">\n",
       "      <th></th>\n",
       "      <th>loan_amnt</th>\n",
       "      <th>installment</th>\n",
       "      <th>annual_inc</th>\n",
       "      <th>int_rate</th>\n",
       "      <th>dti</th>\n",
       "      <th>delinq_2yrs</th>\n",
       "      <th>inq_last_6mths</th>\n",
       "      <th>total_acc</th>\n",
       "      <th>open_acc</th>\n",
       "      <th>pub_rec</th>\n",
       "      <th>revol_util</th>\n",
       "      <th>revol_bal</th>\n",
       "    </tr>\n",
       "  </thead>\n",
       "  <tbody>\n",
       "    <tr>\n",
       "      <th>0</th>\n",
       "      <td>5000.0</td>\n",
       "      <td>162.87</td>\n",
       "      <td>24000.0</td>\n",
       "      <td>10.65</td>\n",
       "      <td>27.65</td>\n",
       "      <td>0.0</td>\n",
       "      <td>1.0</td>\n",
       "      <td>9.0</td>\n",
       "      <td>3.0</td>\n",
       "      <td>0.0</td>\n",
       "      <td>83.7</td>\n",
       "      <td>13648.0</td>\n",
       "    </tr>\n",
       "    <tr>\n",
       "      <th>1</th>\n",
       "      <td>2500.0</td>\n",
       "      <td>59.83</td>\n",
       "      <td>30000.0</td>\n",
       "      <td>15.27</td>\n",
       "      <td>1.00</td>\n",
       "      <td>0.0</td>\n",
       "      <td>5.0</td>\n",
       "      <td>4.0</td>\n",
       "      <td>3.0</td>\n",
       "      <td>0.0</td>\n",
       "      <td>9.4</td>\n",
       "      <td>1687.0</td>\n",
       "    </tr>\n",
       "    <tr>\n",
       "      <th>2</th>\n",
       "      <td>2400.0</td>\n",
       "      <td>84.33</td>\n",
       "      <td>12252.0</td>\n",
       "      <td>15.96</td>\n",
       "      <td>8.72</td>\n",
       "      <td>0.0</td>\n",
       "      <td>2.0</td>\n",
       "      <td>10.0</td>\n",
       "      <td>2.0</td>\n",
       "      <td>0.0</td>\n",
       "      <td>98.5</td>\n",
       "      <td>2956.0</td>\n",
       "    </tr>\n",
       "    <tr>\n",
       "      <th>3</th>\n",
       "      <td>10000.0</td>\n",
       "      <td>339.31</td>\n",
       "      <td>49200.0</td>\n",
       "      <td>13.49</td>\n",
       "      <td>20.00</td>\n",
       "      <td>0.0</td>\n",
       "      <td>1.0</td>\n",
       "      <td>37.0</td>\n",
       "      <td>10.0</td>\n",
       "      <td>0.0</td>\n",
       "      <td>21.0</td>\n",
       "      <td>5598.0</td>\n",
       "    </tr>\n",
       "    <tr>\n",
       "      <th>5</th>\n",
       "      <td>5000.0</td>\n",
       "      <td>156.46</td>\n",
       "      <td>36000.0</td>\n",
       "      <td>7.90</td>\n",
       "      <td>11.20</td>\n",
       "      <td>0.0</td>\n",
       "      <td>3.0</td>\n",
       "      <td>12.0</td>\n",
       "      <td>9.0</td>\n",
       "      <td>0.0</td>\n",
       "      <td>28.3</td>\n",
       "      <td>7963.0</td>\n",
       "    </tr>\n",
       "    <tr>\n",
       "      <th>...</th>\n",
       "      <td>...</td>\n",
       "      <td>...</td>\n",
       "      <td>...</td>\n",
       "      <td>...</td>\n",
       "      <td>...</td>\n",
       "      <td>...</td>\n",
       "      <td>...</td>\n",
       "      <td>...</td>\n",
       "      <td>...</td>\n",
       "      <td>...</td>\n",
       "      <td>...</td>\n",
       "      <td>...</td>\n",
       "    </tr>\n",
       "    <tr>\n",
       "      <th>887351</th>\n",
       "      <td>4200.0</td>\n",
       "      <td>147.64</td>\n",
       "      <td>48000.0</td>\n",
       "      <td>15.99</td>\n",
       "      <td>36.93</td>\n",
       "      <td>0.0</td>\n",
       "      <td>0.0</td>\n",
       "      <td>45.0</td>\n",
       "      <td>13.0</td>\n",
       "      <td>0.0</td>\n",
       "      <td>63.4</td>\n",
       "      <td>12943.0</td>\n",
       "    </tr>\n",
       "    <tr>\n",
       "      <th>887364</th>\n",
       "      <td>10775.0</td>\n",
       "      <td>327.95</td>\n",
       "      <td>54000.0</td>\n",
       "      <td>6.03</td>\n",
       "      <td>13.22</td>\n",
       "      <td>1.0</td>\n",
       "      <td>0.0</td>\n",
       "      <td>21.0</td>\n",
       "      <td>9.0</td>\n",
       "      <td>0.0</td>\n",
       "      <td>25.8</td>\n",
       "      <td>10776.0</td>\n",
       "    </tr>\n",
       "    <tr>\n",
       "      <th>887366</th>\n",
       "      <td>6225.0</td>\n",
       "      <td>220.37</td>\n",
       "      <td>27000.0</td>\n",
       "      <td>16.49</td>\n",
       "      <td>18.58</td>\n",
       "      <td>0.0</td>\n",
       "      <td>1.0</td>\n",
       "      <td>4.0</td>\n",
       "      <td>3.0</td>\n",
       "      <td>0.0</td>\n",
       "      <td>97.6</td>\n",
       "      <td>1756.0</td>\n",
       "    </tr>\n",
       "    <tr>\n",
       "      <th>887369</th>\n",
       "      <td>4000.0</td>\n",
       "      <td>126.59</td>\n",
       "      <td>50000.0</td>\n",
       "      <td>8.67</td>\n",
       "      <td>12.63</td>\n",
       "      <td>0.0</td>\n",
       "      <td>0.0</td>\n",
       "      <td>30.0</td>\n",
       "      <td>11.0</td>\n",
       "      <td>1.0</td>\n",
       "      <td>5.6</td>\n",
       "      <td>1700.0</td>\n",
       "    </tr>\n",
       "    <tr>\n",
       "      <th>887371</th>\n",
       "      <td>10850.0</td>\n",
       "      <td>399.04</td>\n",
       "      <td>32000.0</td>\n",
       "      <td>19.24</td>\n",
       "      <td>29.44</td>\n",
       "      <td>0.0</td>\n",
       "      <td>1.0</td>\n",
       "      <td>20.0</td>\n",
       "      <td>9.0</td>\n",
       "      <td>0.0</td>\n",
       "      <td>41.6</td>\n",
       "      <td>6987.0</td>\n",
       "    </tr>\n",
       "  </tbody>\n",
       "</table>\n",
       "<p>252772 rows × 12 columns</p>\n",
       "</div>"
      ],
      "text/plain": [
       "        loan_amnt  installment  annual_inc  int_rate    dti  delinq_2yrs  \\\n",
       "0          5000.0       162.87     24000.0     10.65  27.65          0.0   \n",
       "1          2500.0        59.83     30000.0     15.27   1.00          0.0   \n",
       "2          2400.0        84.33     12252.0     15.96   8.72          0.0   \n",
       "3         10000.0       339.31     49200.0     13.49  20.00          0.0   \n",
       "5          5000.0       156.46     36000.0      7.90  11.20          0.0   \n",
       "...           ...          ...         ...       ...    ...          ...   \n",
       "887351     4200.0       147.64     48000.0     15.99  36.93          0.0   \n",
       "887364    10775.0       327.95     54000.0      6.03  13.22          1.0   \n",
       "887366     6225.0       220.37     27000.0     16.49  18.58          0.0   \n",
       "887369     4000.0       126.59     50000.0      8.67  12.63          0.0   \n",
       "887371    10850.0       399.04     32000.0     19.24  29.44          0.0   \n",
       "\n",
       "        inq_last_6mths  total_acc  open_acc  pub_rec  revol_util  revol_bal  \n",
       "0                  1.0        9.0       3.0      0.0        83.7    13648.0  \n",
       "1                  5.0        4.0       3.0      0.0         9.4     1687.0  \n",
       "2                  2.0       10.0       2.0      0.0        98.5     2956.0  \n",
       "3                  1.0       37.0      10.0      0.0        21.0     5598.0  \n",
       "5                  3.0       12.0       9.0      0.0        28.3     7963.0  \n",
       "...                ...        ...       ...      ...         ...        ...  \n",
       "887351             0.0       45.0      13.0      0.0        63.4    12943.0  \n",
       "887364             0.0       21.0       9.0      0.0        25.8    10776.0  \n",
       "887366             1.0        4.0       3.0      0.0        97.6     1756.0  \n",
       "887369             0.0       30.0      11.0      1.0         5.6     1700.0  \n",
       "887371             1.0       20.0       9.0      0.0        41.6     6987.0  \n",
       "\n",
       "[252772 rows x 12 columns]"
      ]
     },
     "execution_count": 102,
     "metadata": {},
     "output_type": "execute_result"
    }
   ],
   "source": [
    "x"
   ]
  },
  {
   "cell_type": "code",
   "execution_count": 103,
   "metadata": {},
   "outputs": [
    {
     "data": {
      "text/plain": [
       "array([[-1.05347861, -1.04255707, -0.82551913, ..., -0.32880468,\n",
       "         1.18544906, -0.08141065],\n",
       "       [-1.36096267, -1.46331688, -0.72346006, ..., -0.32880468,\n",
       "        -1.81166345, -0.71987125],\n",
       "       [-1.37326203, -1.36327209, -1.02535079, ..., -0.32880468,\n",
       "         1.78245128, -0.65213389],\n",
       "       ...,\n",
       "       [-0.90281142, -0.80775806, -0.77448959, ..., -0.32880468,\n",
       "         1.74614709, -0.71618813],\n",
       "       [-1.17647224, -1.19070503, -0.38326315, ...,  1.96206125,\n",
       "        -1.9649478 , -0.71917733],\n",
       "       [-0.33396592, -0.07816609, -0.68944037, ..., -0.32880468,\n",
       "        -0.51278024, -0.43696504]])"
      ]
     },
     "execution_count": 103,
     "metadata": {},
     "output_type": "execute_result"
    }
   ],
   "source": [
    "scaler = StandardScaler()\n",
    "X=scaler.fit_transform(x)\n",
    "X"
   ]
  },
  {
   "cell_type": "code",
   "execution_count": 104,
   "metadata": {},
   "outputs": [
    {
     "data": {
      "text/plain": [
       "array([[-2.03987761,  0.96779658, -1.50689559, ..., -0.57156808,\n",
       "         0.12528479,  0.05006051],\n",
       "       [-3.19386274,  0.04780028,  0.77169467, ...,  0.2703586 ,\n",
       "        -0.05495865,  0.08971488],\n",
       "       [-2.69939828,  1.60439435, -1.35467239, ..., -1.08799859,\n",
       "         0.14311301,  0.05736724],\n",
       "       ...,\n",
       "       [-2.1001828 ,  1.97582714, -1.7521744 , ..., -0.44161124,\n",
       "        -0.18268559, -0.00435456],\n",
       "       [-2.08473023, -1.85871412,  1.31135059, ...,  0.40109487,\n",
       "         0.354681  , -0.04124677],\n",
       "       [-0.40789041, -0.01054174, -1.57697967, ...,  1.11581391,\n",
       "         0.4349399 , -0.23406229]])"
      ]
     },
     "execution_count": 104,
     "metadata": {},
     "output_type": "execute_result"
    }
   ],
   "source": [
    "pca = PCA()\n",
    "pca.fit_transform(X)"
   ]
  },
  {
   "cell_type": "code",
   "execution_count": 105,
   "metadata": {},
   "outputs": [
    {
     "data": {
      "text/plain": [
       "array([[ 1.00000396,  0.9551515 ,  0.33421151,  0.21139552,  0.05227758,\n",
       "         0.00823529,  0.00973374,  0.23231931,  0.20208126, -0.07561296,\n",
       "         0.10128119,  0.3336768 ],\n",
       "       [ 0.9551515 ,  1.00000396,  0.32964004,  0.20281524,  0.05342226,\n",
       "         0.01980348,  0.02564753,  0.21393246,  0.19772352, -0.06539108,\n",
       "         0.1304724 ,  0.32494852],\n",
       "       [ 0.33421151,  0.32964004,  1.00000396, -0.02597503, -0.17158254,\n",
       "         0.05105487,  0.0557305 ,  0.20592137,  0.14038299, -0.01862183,\n",
       "         0.02394254,  0.30335701],\n",
       "       [ 0.21139552,  0.20281524, -0.02597503,  1.00000396,  0.17253102,\n",
       "         0.09390032,  0.21680661, -0.01059188,  0.04004772,  0.083103  ,\n",
       "         0.34287396,  0.02188153],\n",
       "       [ 0.05227758,  0.05342226, -0.17158254,  0.17253102,  1.00000396,\n",
       "        -0.00111831,  0.0027285 ,  0.23271199,  0.30930615, -0.03389109,\n",
       "         0.219825  ,  0.15328403],\n",
       "       [ 0.00823529,  0.01980348,  0.05105487,  0.09390032, -0.00111831,\n",
       "         1.00000396,  0.02542196,  0.12709452,  0.05693515, -0.00566149,\n",
       "        -0.01548879, -0.02967678],\n",
       "       [ 0.00973374,  0.02564753,  0.0557305 ,  0.21680661,  0.0027285 ,\n",
       "         0.02542196,  1.00000396,  0.14115616,  0.11508684,  0.04927054,\n",
       "        -0.08830441, -0.00936354],\n",
       "       [ 0.23231931,  0.21393246,  0.20592137, -0.01059188,  0.23271199,\n",
       "         0.12709452,  0.14115616,  1.00000396,  0.67218174,  0.03046977,\n",
       "        -0.09060407,  0.20686285],\n",
       "       [ 0.20208126,  0.19772352,  0.14038299,  0.04004772,  0.30930615,\n",
       "         0.05693515,  0.11508684,  0.67218174,  1.00000396, -0.01264619,\n",
       "        -0.11147035,  0.22983046],\n",
       "       [-0.07561296, -0.06539108, -0.01862183,  0.083103  , -0.03389109,\n",
       "        -0.00566149,  0.04927054,  0.03046977, -0.01264619,  1.00000396,\n",
       "        -0.0648862 , -0.10508657],\n",
       "       [ 0.10128119,  0.1304724 ,  0.02394254,  0.34287396,  0.219825  ,\n",
       "        -0.01548879, -0.08830441, -0.09060407, -0.11147035, -0.0648862 ,\n",
       "         1.00000396,  0.23210265],\n",
       "       [ 0.3336768 ,  0.32494852,  0.30335701,  0.02188153,  0.15328403,\n",
       "        -0.02967678, -0.00936354,  0.20686285,  0.22983046, -0.10508657,\n",
       "         0.23210265,  1.00000396]])"
      ]
     },
     "execution_count": 105,
     "metadata": {},
     "output_type": "execute_result"
    }
   ],
   "source": [
    "pca.get_covariance()"
   ]
  },
  {
   "cell_type": "code",
   "execution_count": 106,
   "metadata": {},
   "outputs": [
    {
     "data": {
      "text/plain": [
       "Text(0, 0.5, 'Cumulative explained variance')"
      ]
     },
     "execution_count": 106,
     "metadata": {},
     "output_type": "execute_result"
    },
    {
     "data": {
      "image/png": "[encoded data removed]",
      "text/plain": [
       "<Figure size 432x288 with 1 Axes>"
      ]
     },
     "metadata": {
      "needs_background": "light"
     },
     "output_type": "display_data"
    }
   ],
   "source": [
    "plt.plot(np.cumsum(pca.explained_variance_ratio_))\n",
    "plt.xlim(0,13,1)\n",
    "plt.xlabel('Number of components')\n",
    "plt.ylabel('Cumulative explained variance')"
   ]
  },
  {
   "cell_type": "code",
   "execution_count": 107,
   "metadata": {},
   "outputs": [
    {
     "data": {
      "text/plain": [
       "array([0.23362799, 0.13614845, 0.12296486, 0.10274181, 0.0836405 ,\n",
       "       0.07845595, 0.07722212, 0.05225097, 0.04398703, 0.04011087,\n",
       "       0.02526551, 0.00358395])"
      ]
     },
     "execution_count": 107,
     "metadata": {},
     "output_type": "execute_result"
    }
   ],
   "source": [
    "explained_variance=pca.explained_variance_ratio_\n",
    "explained_variance"
   ]
  },
  {
   "cell_type": "code",
   "execution_count": 108,
   "metadata": {},
   "outputs": [
    {
     "data": {
      "text/plain": [
       "[]"
      ]
     },
     "execution_count": 108,
     "metadata": {},
     "output_type": "execute_result"
    },
    {
     "data": {
      "image/png": "[encoded data removed]",
      "text/plain": [
       "<Figure size 432x288 with 1 Axes>"
      ]
     },
     "metadata": {
      "needs_background": "light"
     },
     "output_type": "display_data"
    }
   ],
   "source": [
    "plt.figure(figsize=(6, 4))\n",
    "plt.bar(range(12), explained_variance, alpha=0.5, align='center',label='individual explained variance')\n",
    "plt.plot()"
   ]
  },
  {
   "cell_type": "code",
   "execution_count": 109,
   "metadata": {},
   "outputs": [
    {
     "data": {
      "text/plain": [
       "array([[-2.03987761,  0.96779658, -1.50689559, ...,  0.23612008,\n",
       "        -0.98538838,  1.11888215],\n",
       "       [-3.19386274,  0.04780028,  0.77169467, ..., -0.62725778,\n",
       "        -1.29091582, -0.41985085],\n",
       "       [-2.69939828,  1.60439435, -1.35467239, ...,  0.50630071,\n",
       "         0.19398839, -0.49298768],\n",
       "       ...,\n",
       "       [-2.1001828 ,  1.97582714, -1.7521744 , ...,  0.12785744,\n",
       "         0.12006874,  0.40135703],\n",
       "       [-2.08473023, -1.85871412,  1.31135059, ...,  0.61384787,\n",
       "        -0.19570567, -0.11852172],\n",
       "       [-0.40789041, -0.01054174, -1.57697967, ..., -1.03349211,\n",
       "        -0.21023273,  0.72086234]])"
      ]
     },
     "execution_count": 109,
     "metadata": {},
     "output_type": "execute_result"
    }
   ],
   "source": [
    "pca=PCA(n_components=9)\n",
    "X_new=pca.fit_transform(X)\n",
    "X_new\n"
   ]
  },
  {
   "cell_type": "code",
   "execution_count": 110,
   "metadata": {},
   "outputs": [
    {
     "data": {
      "text/plain": [
       "(202217, 9)"
      ]
     },
     "execution_count": 110,
     "metadata": {},
     "output_type": "execute_result"
    }
   ],
   "source": [
    "X_train, X_test, y_train, y_test = train_test_split(X_new, y, test_size=0.2, random_state=20)\n",
    "X_train.shape"
   ]
  },
  {
   "cell_type": "code",
   "execution_count": 111,
   "metadata": {},
   "outputs": [],
   "source": [
    "sm = SMOTE(random_state=12)"
   ]
  },
  {
   "cell_type": "code",
   "execution_count": 112,
   "metadata": {},
   "outputs": [],
   "source": [
    "X_train_res, y_train_res = sm.fit_sample(X_train, y_train)"
   ]
  },
  {
   "cell_type": "code",
   "execution_count": 113,
   "metadata": {},
   "outputs": [
    {
     "name": "stdout",
     "output_type": "stream",
     "text": [
      "Validation Results\n",
      "0.6298882405301157\n",
      "0.6557358701734751\n",
      "0.38509316770186336\n",
      "0.6400375650723213\n",
      "0.2725876988927142\n"
     ]
    }
   ],
   "source": [
    "log_reg=LogisticRegression()\n",
    "log_reg.fit(X_train_res, y_train_res)\n",
    "y_predict_log=log_reg.predict(X_test)\n",
    "\n",
    "print('Validation Results')\n",
    "print(log_reg.score(X_test, y_test))\n",
    "print(recall_score(y_test, log_reg.predict(X_test)))\n",
    "print(f1_score(y_test, log_reg.predict(X_test)))\n",
    "print(roc_auc_score(y_test, log_reg.predict(X_test)))\n",
    "print(precision_score(y_test, log_reg.predict(X_test)))\n"
   ]
  },
  {
   "cell_type": "code",
   "execution_count": 114,
   "metadata": {},
   "outputs": [],
   "source": [
    "y_predict=log_reg.predict(X_test)"
   ]
  },
  {
   "cell_type": "code",
   "execution_count": 115,
   "metadata": {},
   "outputs": [],
   "source": [
    "cm=confusion_matrix(y_test,y_predict)"
   ]
  },
  {
   "cell_type": "code",
   "execution_count": 116,
   "metadata": {},
   "outputs": [
    {
     "data": {
      "text/plain": [
       "<matplotlib.axes._subplots.AxesSubplot at 0x263bb988>"
      ]
     },
     "execution_count": 116,
     "metadata": {},
     "output_type": "execute_result"
    },
    {
     "data": {
      "image/png": "[encoded data removed]",
      "text/plain": [
       "<Figure size 432x288 with 2 Axes>"
      ]
     },
     "metadata": {
      "needs_background": "light"
     },
     "output_type": "display_data"
    }
   ],
   "source": [
    "sns.heatmap(cm , annot=True)"
   ]
  },
  {
   "cell_type": "code",
   "execution_count": 117,
   "metadata": {},
   "outputs": [
    {
     "data": {
      "text/html": [
       "<div>\n",
       "<style scoped>\n",
       "    .dataframe tbody tr th:only-of-type {\n",
       "        vertical-align: middle;\n",
       "    }\n",
       "\n",
       "    .dataframe tbody tr th {\n",
       "        vertical-align: top;\n",
       "    }\n",
       "\n",
       "    .dataframe thead th {\n",
       "        text-align: right;\n",
       "    }\n",
       "</style>\n",
       "<table border=\"1\" class=\"dataframe\">\n",
       "  <thead>\n",
       "    <tr style=\"text-align: right;\">\n",
       "      <th></th>\n",
       "      <th>Feature</th>\n",
       "      <th>Coef</th>\n",
       "    </tr>\n",
       "  </thead>\n",
       "  <tbody>\n",
       "    <tr>\n",
       "      <th>0</th>\n",
       "      <td>loan_amnt</td>\n",
       "      <td>0.0469322</td>\n",
       "    </tr>\n",
       "    <tr>\n",
       "      <th>1</th>\n",
       "      <td>installment</td>\n",
       "      <td>0.136405</td>\n",
       "    </tr>\n",
       "    <tr>\n",
       "      <th>2</th>\n",
       "      <td>annual_inc</td>\n",
       "      <td>-0.582406</td>\n",
       "    </tr>\n",
       "    <tr>\n",
       "      <th>3</th>\n",
       "      <td>int_rate</td>\n",
       "      <td>-0.19149</td>\n",
       "    </tr>\n",
       "    <tr>\n",
       "      <th>4</th>\n",
       "      <td>dti</td>\n",
       "      <td>-0.0476091</td>\n",
       "    </tr>\n",
       "    <tr>\n",
       "      <th>5</th>\n",
       "      <td>delinq_2yrs</td>\n",
       "      <td>-0.0598772</td>\n",
       "    </tr>\n",
       "    <tr>\n",
       "      <th>6</th>\n",
       "      <td>inq_last_6mths</td>\n",
       "      <td>-0.330751</td>\n",
       "    </tr>\n",
       "    <tr>\n",
       "      <th>7</th>\n",
       "      <td>total_acc</td>\n",
       "      <td>-0.0401669</td>\n",
       "    </tr>\n",
       "    <tr>\n",
       "      <th>8</th>\n",
       "      <td>open_acc</td>\n",
       "      <td>-0.291554</td>\n",
       "    </tr>\n",
       "    <tr>\n",
       "      <th>9</th>\n",
       "      <td>pub_rec</td>\n",
       "      <td>None</td>\n",
       "    </tr>\n",
       "    <tr>\n",
       "      <th>10</th>\n",
       "      <td>revol_util</td>\n",
       "      <td>None</td>\n",
       "    </tr>\n",
       "    <tr>\n",
       "      <th>11</th>\n",
       "      <td>revol_bal</td>\n",
       "      <td>None</td>\n",
       "    </tr>\n",
       "  </tbody>\n",
       "</table>\n",
       "</div>"
      ],
      "text/plain": [
       "           Feature       Coef\n",
       "0        loan_amnt  0.0469322\n",
       "1      installment   0.136405\n",
       "2       annual_inc  -0.582406\n",
       "3         int_rate   -0.19149\n",
       "4              dti -0.0476091\n",
       "5      delinq_2yrs -0.0598772\n",
       "6   inq_last_6mths  -0.330751\n",
       "7        total_acc -0.0401669\n",
       "8         open_acc  -0.291554\n",
       "9          pub_rec       None\n",
       "10      revol_util       None\n",
       "11       revol_bal       None"
      ]
     },
     "execution_count": 117,
     "metadata": {},
     "output_type": "execute_result"
    }
   ],
   "source": [
    "coef=log_reg.coef_[0]\n",
    "pd.DataFrame([x.columns,coef],index = ['Feature','Coef']).transpose()"
   ]
  },
  {
   "cell_type": "code",
   "execution_count": null,
   "metadata": {},
   "outputs": [],
   "source": []
  }
 ],
 "metadata": {
  "kernelspec": {
   "display_name": "Python 3",
   "language": "python",
   "name": "python3"
  },
  "language_info": {
   "codemirror_mode": {
    "name": "ipython",
    "version": 3
   },
   "file_extension": ".py",
   "mimetype": "text/x-python",
   "name": "python",
   "nbconvert_exporter": "python",
   "pygments_lexer": "ipython3",
   "version": "3.7.6"
  }
 },
 "nbformat": 4,
 "nbformat_minor": 4
}
